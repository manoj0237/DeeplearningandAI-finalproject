{
 "cells": [
  {
   "cell_type": "code",
   "execution_count": 4,
   "metadata": {
    "collapsed": true
   },
   "outputs": [],
   "source": [
    "import pandas as pd\n",
    "import numpy as np"
   ]
  },
  {
   "cell_type": "code",
   "execution_count": 5,
   "metadata": {
    "collapsed": true
   },
   "outputs": [],
   "source": [
    "user_features= pd.read_csv(\"C:/Users/manoj/Desktop/deep_learning/final_project/book/user_features_final.csv\")\n",
    "book_features = pd.read_csv(\"C:/Users/manoj/Desktop/deep_learning/final_project/book/books_with_latent_features.csv\")\n",
    "train_ratings = pd.read_csv(\"C:/Users/manoj/Desktop/deep_learning/final_project/book/train_ratings_set.csv\")\n",
    "test_ratings = pd.read_csv(\"C:/Users/manoj/Desktop/deep_learning/final_project/book/test_ratings_set.csv\")"
   ]
  },
  {
   "cell_type": "code",
   "execution_count": 6,
   "metadata": {},
   "outputs": [
    {
     "data": {
      "text/html": [
       "<div>\n",
       "<style>\n",
       "    .dataframe thead tr:only-child th {\n",
       "        text-align: right;\n",
       "    }\n",
       "\n",
       "    .dataframe thead th {\n",
       "        text-align: left;\n",
       "    }\n",
       "\n",
       "    .dataframe tbody tr th {\n",
       "        vertical-align: top;\n",
       "    }\n",
       "</style>\n",
       "<table border=\"1\" class=\"dataframe\">\n",
       "  <thead>\n",
       "    <tr style=\"text-align: right;\">\n",
       "      <th></th>\n",
       "      <th>user_id</th>\n",
       "      <th>avg_rating</th>\n",
       "      <th>0</th>\n",
       "      <th>1</th>\n",
       "      <th>2</th>\n",
       "      <th>3</th>\n",
       "      <th>4</th>\n",
       "      <th>5</th>\n",
       "      <th>6</th>\n",
       "      <th>7</th>\n",
       "      <th>...</th>\n",
       "      <th>15</th>\n",
       "      <th>16</th>\n",
       "      <th>17</th>\n",
       "      <th>18</th>\n",
       "      <th>19</th>\n",
       "      <th>20</th>\n",
       "      <th>21</th>\n",
       "      <th>22</th>\n",
       "      <th>23</th>\n",
       "      <th>24</th>\n",
       "    </tr>\n",
       "  </thead>\n",
       "  <tbody>\n",
       "    <tr>\n",
       "      <th>0</th>\n",
       "      <td>6.0</td>\n",
       "      <td>4.285714</td>\n",
       "      <td>0.195982</td>\n",
       "      <td>0.01082</td>\n",
       "      <td>0.008561</td>\n",
       "      <td>0.007327</td>\n",
       "      <td>0.03029</td>\n",
       "      <td>0.032636</td>\n",
       "      <td>0.028151</td>\n",
       "      <td>0.012982</td>\n",
       "      <td>...</td>\n",
       "      <td>0.001723</td>\n",
       "      <td>0.0</td>\n",
       "      <td>0.011177</td>\n",
       "      <td>0.020266</td>\n",
       "      <td>0.015214</td>\n",
       "      <td>0.020975</td>\n",
       "      <td>0.041102</td>\n",
       "      <td>0.010981</td>\n",
       "      <td>0.012653</td>\n",
       "      <td>0.06773</td>\n",
       "    </tr>\n",
       "    <tr>\n",
       "      <th>1</th>\n",
       "      <td>1006.0</td>\n",
       "      <td>3.784615</td>\n",
       "      <td>0.195982</td>\n",
       "      <td>0.01082</td>\n",
       "      <td>0.008561</td>\n",
       "      <td>0.007327</td>\n",
       "      <td>0.03029</td>\n",
       "      <td>0.032636</td>\n",
       "      <td>0.028151</td>\n",
       "      <td>0.012982</td>\n",
       "      <td>...</td>\n",
       "      <td>0.001723</td>\n",
       "      <td>0.0</td>\n",
       "      <td>0.011177</td>\n",
       "      <td>0.020266</td>\n",
       "      <td>0.015214</td>\n",
       "      <td>0.020975</td>\n",
       "      <td>0.041102</td>\n",
       "      <td>0.010981</td>\n",
       "      <td>0.012653</td>\n",
       "      <td>0.06773</td>\n",
       "    </tr>\n",
       "    <tr>\n",
       "      <th>2</th>\n",
       "      <td>2006.0</td>\n",
       "      <td>4.100000</td>\n",
       "      <td>0.195982</td>\n",
       "      <td>0.01082</td>\n",
       "      <td>0.008561</td>\n",
       "      <td>0.007327</td>\n",
       "      <td>0.03029</td>\n",
       "      <td>0.032636</td>\n",
       "      <td>0.028151</td>\n",
       "      <td>0.012982</td>\n",
       "      <td>...</td>\n",
       "      <td>0.001723</td>\n",
       "      <td>0.0</td>\n",
       "      <td>0.011177</td>\n",
       "      <td>0.020266</td>\n",
       "      <td>0.015214</td>\n",
       "      <td>0.020975</td>\n",
       "      <td>0.041102</td>\n",
       "      <td>0.010981</td>\n",
       "      <td>0.012653</td>\n",
       "      <td>0.06773</td>\n",
       "    </tr>\n",
       "    <tr>\n",
       "      <th>3</th>\n",
       "      <td>3006.0</td>\n",
       "      <td>3.819444</td>\n",
       "      <td>0.195982</td>\n",
       "      <td>0.01082</td>\n",
       "      <td>0.008561</td>\n",
       "      <td>0.007327</td>\n",
       "      <td>0.03029</td>\n",
       "      <td>0.032636</td>\n",
       "      <td>0.028151</td>\n",
       "      <td>0.012982</td>\n",
       "      <td>...</td>\n",
       "      <td>0.001723</td>\n",
       "      <td>0.0</td>\n",
       "      <td>0.011177</td>\n",
       "      <td>0.020266</td>\n",
       "      <td>0.015214</td>\n",
       "      <td>0.020975</td>\n",
       "      <td>0.041102</td>\n",
       "      <td>0.010981</td>\n",
       "      <td>0.012653</td>\n",
       "      <td>0.06773</td>\n",
       "    </tr>\n",
       "    <tr>\n",
       "      <th>4</th>\n",
       "      <td>4006.0</td>\n",
       "      <td>3.317647</td>\n",
       "      <td>0.195982</td>\n",
       "      <td>0.01082</td>\n",
       "      <td>0.008561</td>\n",
       "      <td>0.007327</td>\n",
       "      <td>0.03029</td>\n",
       "      <td>0.032636</td>\n",
       "      <td>0.028151</td>\n",
       "      <td>0.012982</td>\n",
       "      <td>...</td>\n",
       "      <td>0.001723</td>\n",
       "      <td>0.0</td>\n",
       "      <td>0.011177</td>\n",
       "      <td>0.020266</td>\n",
       "      <td>0.015214</td>\n",
       "      <td>0.020975</td>\n",
       "      <td>0.041102</td>\n",
       "      <td>0.010981</td>\n",
       "      <td>0.012653</td>\n",
       "      <td>0.06773</td>\n",
       "    </tr>\n",
       "  </tbody>\n",
       "</table>\n",
       "<p>5 rows × 27 columns</p>\n",
       "</div>"
      ],
      "text/plain": [
       "   user_id  avg_rating         0        1         2         3        4  \\\n",
       "0      6.0    4.285714  0.195982  0.01082  0.008561  0.007327  0.03029   \n",
       "1   1006.0    3.784615  0.195982  0.01082  0.008561  0.007327  0.03029   \n",
       "2   2006.0    4.100000  0.195982  0.01082  0.008561  0.007327  0.03029   \n",
       "3   3006.0    3.819444  0.195982  0.01082  0.008561  0.007327  0.03029   \n",
       "4   4006.0    3.317647  0.195982  0.01082  0.008561  0.007327  0.03029   \n",
       "\n",
       "          5         6         7   ...           15   16        17        18  \\\n",
       "0  0.032636  0.028151  0.012982   ...     0.001723  0.0  0.011177  0.020266   \n",
       "1  0.032636  0.028151  0.012982   ...     0.001723  0.0  0.011177  0.020266   \n",
       "2  0.032636  0.028151  0.012982   ...     0.001723  0.0  0.011177  0.020266   \n",
       "3  0.032636  0.028151  0.012982   ...     0.001723  0.0  0.011177  0.020266   \n",
       "4  0.032636  0.028151  0.012982   ...     0.001723  0.0  0.011177  0.020266   \n",
       "\n",
       "         19        20        21        22        23       24  \n",
       "0  0.015214  0.020975  0.041102  0.010981  0.012653  0.06773  \n",
       "1  0.015214  0.020975  0.041102  0.010981  0.012653  0.06773  \n",
       "2  0.015214  0.020975  0.041102  0.010981  0.012653  0.06773  \n",
       "3  0.015214  0.020975  0.041102  0.010981  0.012653  0.06773  \n",
       "4  0.015214  0.020975  0.041102  0.010981  0.012653  0.06773  \n",
       "\n",
       "[5 rows x 27 columns]"
      ]
     },
     "execution_count": 6,
     "metadata": {},
     "output_type": "execute_result"
    }
   ],
   "source": [
    "user_features.head()\n"
   ]
  },
  {
   "cell_type": "code",
   "execution_count": 7,
   "metadata": {},
   "outputs": [
    {
     "data": {
      "text/html": [
       "<div>\n",
       "<style>\n",
       "    .dataframe thead tr:only-child th {\n",
       "        text-align: right;\n",
       "    }\n",
       "\n",
       "    .dataframe thead th {\n",
       "        text-align: left;\n",
       "    }\n",
       "\n",
       "    .dataframe tbody tr th {\n",
       "        vertical-align: top;\n",
       "    }\n",
       "</style>\n",
       "<table border=\"1\" class=\"dataframe\">\n",
       "  <thead>\n",
       "    <tr style=\"text-align: right;\">\n",
       "      <th></th>\n",
       "      <th>book_id</th>\n",
       "      <th>books_count</th>\n",
       "      <th>original_publication_year</th>\n",
       "      <th>average_rating</th>\n",
       "      <th>ratings_count</th>\n",
       "      <th>work_ratings_count</th>\n",
       "      <th>work_text_reviews_count</th>\n",
       "      <th>ratings_1</th>\n",
       "      <th>ratings_2</th>\n",
       "      <th>ratings_3</th>\n",
       "      <th>...</th>\n",
       "      <th>15</th>\n",
       "      <th>16</th>\n",
       "      <th>17</th>\n",
       "      <th>18</th>\n",
       "      <th>19</th>\n",
       "      <th>20</th>\n",
       "      <th>21</th>\n",
       "      <th>22</th>\n",
       "      <th>23</th>\n",
       "      <th>24</th>\n",
       "    </tr>\n",
       "  </thead>\n",
       "  <tbody>\n",
       "    <tr>\n",
       "      <th>0</th>\n",
       "      <td>1</td>\n",
       "      <td>1.151500</td>\n",
       "      <td>0.170121</td>\n",
       "      <td>1.327789</td>\n",
       "      <td>30.036789</td>\n",
       "      <td>29.098997</td>\n",
       "      <td>24.874634</td>\n",
       "      <td>9.851855</td>\n",
       "      <td>12.846534</td>\n",
       "      <td>19.219327</td>\n",
       "      <td>...</td>\n",
       "      <td>0.000000</td>\n",
       "      <td>0.000000</td>\n",
       "      <td>0.000000</td>\n",
       "      <td>0.000668</td>\n",
       "      <td>0.00000</td>\n",
       "      <td>0.0</td>\n",
       "      <td>0.0</td>\n",
       "      <td>0.000000</td>\n",
       "      <td>0.009848</td>\n",
       "      <td>0.000000</td>\n",
       "    </tr>\n",
       "    <tr>\n",
       "      <th>1</th>\n",
       "      <td>2</td>\n",
       "      <td>2.436243</td>\n",
       "      <td>0.108104</td>\n",
       "      <td>1.720847</td>\n",
       "      <td>28.904534</td>\n",
       "      <td>28.250940</td>\n",
       "      <td>11.911526</td>\n",
       "      <td>11.176438</td>\n",
       "      <td>10.143953</td>\n",
       "      <td>15.538545</td>\n",
       "      <td>...</td>\n",
       "      <td>0.000000</td>\n",
       "      <td>0.000000</td>\n",
       "      <td>0.000000</td>\n",
       "      <td>0.000000</td>\n",
       "      <td>0.00000</td>\n",
       "      <td>0.0</td>\n",
       "      <td>0.0</td>\n",
       "      <td>0.000000</td>\n",
       "      <td>0.000000</td>\n",
       "      <td>0.000000</td>\n",
       "    </tr>\n",
       "    <tr>\n",
       "      <th>2</th>\n",
       "      <td>3</td>\n",
       "      <td>0.881646</td>\n",
       "      <td>0.153207</td>\n",
       "      <td>-1.698765</td>\n",
       "      <td>24.229710</td>\n",
       "      <td>22.987143</td>\n",
       "      <td>15.037225</td>\n",
       "      <td>68.549476</td>\n",
       "      <td>44.633867</td>\n",
       "      <td>27.389823</td>\n",
       "      <td>...</td>\n",
       "      <td>0.000000</td>\n",
       "      <td>0.000000</td>\n",
       "      <td>0.026678</td>\n",
       "      <td>0.000000</td>\n",
       "      <td>0.00000</td>\n",
       "      <td>0.0</td>\n",
       "      <td>0.0</td>\n",
       "      <td>0.000000</td>\n",
       "      <td>0.007945</td>\n",
       "      <td>0.000000</td>\n",
       "    </tr>\n",
       "    <tr>\n",
       "      <th>3</th>\n",
       "      <td>4</td>\n",
       "      <td>2.412777</td>\n",
       "      <td>-0.100498</td>\n",
       "      <td>0.974035</td>\n",
       "      <td>19.983656</td>\n",
       "      <td>19.554820</td>\n",
       "      <td>11.375772</td>\n",
       "      <td>8.904196</td>\n",
       "      <td>11.763752</td>\n",
       "      <td>15.251665</td>\n",
       "      <td>...</td>\n",
       "      <td>0.002680</td>\n",
       "      <td>0.000000</td>\n",
       "      <td>0.000000</td>\n",
       "      <td>0.009918</td>\n",
       "      <td>0.04148</td>\n",
       "      <td>0.0</td>\n",
       "      <td>0.0</td>\n",
       "      <td>0.000847</td>\n",
       "      <td>0.021077</td>\n",
       "      <td>0.031681</td>\n",
       "    </tr>\n",
       "    <tr>\n",
       "      <th>4</th>\n",
       "      <td>5</td>\n",
       "      <td>7.510681</td>\n",
       "      <td>-0.297825</td>\n",
       "      <td>-0.440977</td>\n",
       "      <td>16.710904</td>\n",
       "      <td>16.174804</td>\n",
       "      <td>8.012977</td>\n",
       "      <td>12.793850</td>\n",
       "      <td>20.018253</td>\n",
       "      <td>20.833128</td>\n",
       "      <td>...</td>\n",
       "      <td>0.011253</td>\n",
       "      <td>0.000036</td>\n",
       "      <td>0.000000</td>\n",
       "      <td>0.000000</td>\n",
       "      <td>0.00000</td>\n",
       "      <td>0.0</td>\n",
       "      <td>0.0</td>\n",
       "      <td>0.000000</td>\n",
       "      <td>0.000000</td>\n",
       "      <td>0.000000</td>\n",
       "    </tr>\n",
       "  </tbody>\n",
       "</table>\n",
       "<p>5 rows × 37 columns</p>\n",
       "</div>"
      ],
      "text/plain": [
       "   book_id  books_count  original_publication_year  average_rating  \\\n",
       "0        1     1.151500                   0.170121        1.327789   \n",
       "1        2     2.436243                   0.108104        1.720847   \n",
       "2        3     0.881646                   0.153207       -1.698765   \n",
       "3        4     2.412777                  -0.100498        0.974035   \n",
       "4        5     7.510681                  -0.297825       -0.440977   \n",
       "\n",
       "   ratings_count  work_ratings_count  work_text_reviews_count  ratings_1  \\\n",
       "0      30.036789           29.098997                24.874634   9.851855   \n",
       "1      28.904534           28.250940                11.911526  11.176438   \n",
       "2      24.229710           22.987143                15.037225  68.549476   \n",
       "3      19.983656           19.554820                11.375772   8.904196   \n",
       "4      16.710904           16.174804                 8.012977  12.793850   \n",
       "\n",
       "   ratings_2  ratings_3    ...           15        16        17        18  \\\n",
       "0  12.846534  19.219327    ...     0.000000  0.000000  0.000000  0.000668   \n",
       "1  10.143953  15.538545    ...     0.000000  0.000000  0.000000  0.000000   \n",
       "2  44.633867  27.389823    ...     0.000000  0.000000  0.026678  0.000000   \n",
       "3  11.763752  15.251665    ...     0.002680  0.000000  0.000000  0.009918   \n",
       "4  20.018253  20.833128    ...     0.011253  0.000036  0.000000  0.000000   \n",
       "\n",
       "        19   20   21        22        23        24  \n",
       "0  0.00000  0.0  0.0  0.000000  0.009848  0.000000  \n",
       "1  0.00000  0.0  0.0  0.000000  0.000000  0.000000  \n",
       "2  0.00000  0.0  0.0  0.000000  0.007945  0.000000  \n",
       "3  0.04148  0.0  0.0  0.000847  0.021077  0.031681  \n",
       "4  0.00000  0.0  0.0  0.000000  0.000000  0.000000  \n",
       "\n",
       "[5 rows x 37 columns]"
      ]
     },
     "execution_count": 7,
     "metadata": {},
     "output_type": "execute_result"
    }
   ],
   "source": [
    "book_features.head()"
   ]
  },
  {
   "cell_type": "code",
   "execution_count": 8,
   "metadata": {},
   "outputs": [
    {
     "data": {
      "text/html": [
       "<div>\n",
       "<style>\n",
       "    .dataframe thead tr:only-child th {\n",
       "        text-align: right;\n",
       "    }\n",
       "\n",
       "    .dataframe thead th {\n",
       "        text-align: left;\n",
       "    }\n",
       "\n",
       "    .dataframe tbody tr th {\n",
       "        vertical-align: top;\n",
       "    }\n",
       "</style>\n",
       "<table border=\"1\" class=\"dataframe\">\n",
       "  <thead>\n",
       "    <tr style=\"text-align: right;\">\n",
       "      <th></th>\n",
       "      <th>user_id</th>\n",
       "      <th>book_id</th>\n",
       "      <th>rating</th>\n",
       "    </tr>\n",
       "  </thead>\n",
       "  <tbody>\n",
       "    <tr>\n",
       "      <th>0</th>\n",
       "      <td>36210</td>\n",
       "      <td>687</td>\n",
       "      <td>2</td>\n",
       "    </tr>\n",
       "    <tr>\n",
       "      <th>1</th>\n",
       "      <td>8</td>\n",
       "      <td>1509</td>\n",
       "      <td>1</td>\n",
       "    </tr>\n",
       "    <tr>\n",
       "      <th>2</th>\n",
       "      <td>42833</td>\n",
       "      <td>3128</td>\n",
       "      <td>4</td>\n",
       "    </tr>\n",
       "    <tr>\n",
       "      <th>3</th>\n",
       "      <td>39774</td>\n",
       "      <td>27</td>\n",
       "      <td>3</td>\n",
       "    </tr>\n",
       "    <tr>\n",
       "      <th>4</th>\n",
       "      <td>28108</td>\n",
       "      <td>1120</td>\n",
       "      <td>5</td>\n",
       "    </tr>\n",
       "  </tbody>\n",
       "</table>\n",
       "</div>"
      ],
      "text/plain": [
       "   user_id  book_id  rating\n",
       "0    36210      687       2\n",
       "1        8     1509       1\n",
       "2    42833     3128       4\n",
       "3    39774       27       3\n",
       "4    28108     1120       5"
      ]
     },
     "execution_count": 8,
     "metadata": {},
     "output_type": "execute_result"
    }
   ],
   "source": [
    "train_ratings.head()"
   ]
  },
  {
   "cell_type": "code",
   "execution_count": 9,
   "metadata": {
    "collapsed": true
   },
   "outputs": [],
   "source": [
    "train_data = train_ratings.merge(user_features, how='left', on='user_id')"
   ]
  },
  {
   "cell_type": "code",
   "execution_count": 10,
   "metadata": {},
   "outputs": [
    {
     "data": {
      "text/html": [
       "<div>\n",
       "<style>\n",
       "    .dataframe thead tr:only-child th {\n",
       "        text-align: right;\n",
       "    }\n",
       "\n",
       "    .dataframe thead th {\n",
       "        text-align: left;\n",
       "    }\n",
       "\n",
       "    .dataframe tbody tr th {\n",
       "        vertical-align: top;\n",
       "    }\n",
       "</style>\n",
       "<table border=\"1\" class=\"dataframe\">\n",
       "  <thead>\n",
       "    <tr style=\"text-align: right;\">\n",
       "      <th></th>\n",
       "      <th>user_id</th>\n",
       "      <th>book_id</th>\n",
       "      <th>rating</th>\n",
       "      <th>avg_rating</th>\n",
       "      <th>0</th>\n",
       "      <th>1</th>\n",
       "      <th>2</th>\n",
       "      <th>3</th>\n",
       "      <th>4</th>\n",
       "      <th>5</th>\n",
       "      <th>...</th>\n",
       "      <th>15</th>\n",
       "      <th>16</th>\n",
       "      <th>17</th>\n",
       "      <th>18</th>\n",
       "      <th>19</th>\n",
       "      <th>20</th>\n",
       "      <th>21</th>\n",
       "      <th>22</th>\n",
       "      <th>23</th>\n",
       "      <th>24</th>\n",
       "    </tr>\n",
       "  </thead>\n",
       "  <tbody>\n",
       "    <tr>\n",
       "      <th>0</th>\n",
       "      <td>36210</td>\n",
       "      <td>687</td>\n",
       "      <td>2</td>\n",
       "      <td>3.536232</td>\n",
       "      <td>0.202367</td>\n",
       "      <td>0.033538</td>\n",
       "      <td>0.001456</td>\n",
       "      <td>0.005575</td>\n",
       "      <td>0.006220</td>\n",
       "      <td>0.035502</td>\n",
       "      <td>...</td>\n",
       "      <td>0.039848</td>\n",
       "      <td>0.022133</td>\n",
       "      <td>0.013898</td>\n",
       "      <td>0.049059</td>\n",
       "      <td>0.012314</td>\n",
       "      <td>0.020619</td>\n",
       "      <td>0.007972</td>\n",
       "      <td>0.000000</td>\n",
       "      <td>0.002621</td>\n",
       "      <td>0.011240</td>\n",
       "    </tr>\n",
       "    <tr>\n",
       "      <th>1</th>\n",
       "      <td>8</td>\n",
       "      <td>1509</td>\n",
       "      <td>1</td>\n",
       "      <td>3.421053</td>\n",
       "      <td>0.199233</td>\n",
       "      <td>0.013608</td>\n",
       "      <td>0.000536</td>\n",
       "      <td>0.003621</td>\n",
       "      <td>0.023440</td>\n",
       "      <td>0.005159</td>\n",
       "      <td>...</td>\n",
       "      <td>0.038217</td>\n",
       "      <td>0.034223</td>\n",
       "      <td>0.020021</td>\n",
       "      <td>0.040144</td>\n",
       "      <td>0.000000</td>\n",
       "      <td>0.003788</td>\n",
       "      <td>0.006364</td>\n",
       "      <td>0.016232</td>\n",
       "      <td>0.000000</td>\n",
       "      <td>0.088559</td>\n",
       "    </tr>\n",
       "    <tr>\n",
       "      <th>2</th>\n",
       "      <td>42833</td>\n",
       "      <td>3128</td>\n",
       "      <td>4</td>\n",
       "      <td>4.611940</td>\n",
       "      <td>0.196320</td>\n",
       "      <td>0.021527</td>\n",
       "      <td>0.007529</td>\n",
       "      <td>0.007994</td>\n",
       "      <td>0.014450</td>\n",
       "      <td>0.030204</td>\n",
       "      <td>...</td>\n",
       "      <td>0.016280</td>\n",
       "      <td>0.000000</td>\n",
       "      <td>0.024576</td>\n",
       "      <td>0.049903</td>\n",
       "      <td>0.033650</td>\n",
       "      <td>0.008952</td>\n",
       "      <td>0.010336</td>\n",
       "      <td>0.019030</td>\n",
       "      <td>0.012419</td>\n",
       "      <td>0.064434</td>\n",
       "    </tr>\n",
       "    <tr>\n",
       "      <th>3</th>\n",
       "      <td>39774</td>\n",
       "      <td>27</td>\n",
       "      <td>3</td>\n",
       "      <td>3.523810</td>\n",
       "      <td>0.156639</td>\n",
       "      <td>0.050961</td>\n",
       "      <td>0.051112</td>\n",
       "      <td>0.004160</td>\n",
       "      <td>0.012483</td>\n",
       "      <td>0.067711</td>\n",
       "      <td>...</td>\n",
       "      <td>0.007462</td>\n",
       "      <td>0.015160</td>\n",
       "      <td>0.000000</td>\n",
       "      <td>0.078406</td>\n",
       "      <td>0.000000</td>\n",
       "      <td>0.164855</td>\n",
       "      <td>0.007695</td>\n",
       "      <td>0.020140</td>\n",
       "      <td>0.013062</td>\n",
       "      <td>0.010286</td>\n",
       "    </tr>\n",
       "    <tr>\n",
       "      <th>4</th>\n",
       "      <td>28108</td>\n",
       "      <td>1120</td>\n",
       "      <td>5</td>\n",
       "      <td>4.678571</td>\n",
       "      <td>0.189999</td>\n",
       "      <td>0.032203</td>\n",
       "      <td>0.093174</td>\n",
       "      <td>0.000000</td>\n",
       "      <td>0.000000</td>\n",
       "      <td>0.085931</td>\n",
       "      <td>...</td>\n",
       "      <td>0.007475</td>\n",
       "      <td>0.020444</td>\n",
       "      <td>0.010343</td>\n",
       "      <td>0.026707</td>\n",
       "      <td>0.000000</td>\n",
       "      <td>0.004009</td>\n",
       "      <td>0.019859</td>\n",
       "      <td>0.013946</td>\n",
       "      <td>0.007980</td>\n",
       "      <td>0.008841</td>\n",
       "    </tr>\n",
       "  </tbody>\n",
       "</table>\n",
       "<p>5 rows × 29 columns</p>\n",
       "</div>"
      ],
      "text/plain": [
       "  user_id  book_id  rating  avg_rating         0         1         2  \\\n",
       "0   36210      687       2    3.536232  0.202367  0.033538  0.001456   \n",
       "1       8     1509       1    3.421053  0.199233  0.013608  0.000536   \n",
       "2   42833     3128       4    4.611940  0.196320  0.021527  0.007529   \n",
       "3   39774       27       3    3.523810  0.156639  0.050961  0.051112   \n",
       "4   28108     1120       5    4.678571  0.189999  0.032203  0.093174   \n",
       "\n",
       "          3         4         5    ...           15        16        17  \\\n",
       "0  0.005575  0.006220  0.035502    ...     0.039848  0.022133  0.013898   \n",
       "1  0.003621  0.023440  0.005159    ...     0.038217  0.034223  0.020021   \n",
       "2  0.007994  0.014450  0.030204    ...     0.016280  0.000000  0.024576   \n",
       "3  0.004160  0.012483  0.067711    ...     0.007462  0.015160  0.000000   \n",
       "4  0.000000  0.000000  0.085931    ...     0.007475  0.020444  0.010343   \n",
       "\n",
       "         18        19        20        21        22        23        24  \n",
       "0  0.049059  0.012314  0.020619  0.007972  0.000000  0.002621  0.011240  \n",
       "1  0.040144  0.000000  0.003788  0.006364  0.016232  0.000000  0.088559  \n",
       "2  0.049903  0.033650  0.008952  0.010336  0.019030  0.012419  0.064434  \n",
       "3  0.078406  0.000000  0.164855  0.007695  0.020140  0.013062  0.010286  \n",
       "4  0.026707  0.000000  0.004009  0.019859  0.013946  0.007980  0.008841  \n",
       "\n",
       "[5 rows x 29 columns]"
      ]
     },
     "execution_count": 10,
     "metadata": {},
     "output_type": "execute_result"
    }
   ],
   "source": [
    "train_data.head()"
   ]
  },
  {
   "cell_type": "code",
   "execution_count": 11,
   "metadata": {
    "collapsed": true
   },
   "outputs": [],
   "source": [
    "train_data = train_data.merge(book_features, how=\"left\", on='book_id')"
   ]
  },
  {
   "cell_type": "code",
   "execution_count": 12,
   "metadata": {},
   "outputs": [
    {
     "data": {
      "text/html": [
       "<div>\n",
       "<style>\n",
       "    .dataframe thead tr:only-child th {\n",
       "        text-align: right;\n",
       "    }\n",
       "\n",
       "    .dataframe thead th {\n",
       "        text-align: left;\n",
       "    }\n",
       "\n",
       "    .dataframe tbody tr th {\n",
       "        vertical-align: top;\n",
       "    }\n",
       "</style>\n",
       "<table border=\"1\" class=\"dataframe\">\n",
       "  <thead>\n",
       "    <tr style=\"text-align: right;\">\n",
       "      <th></th>\n",
       "      <th>user_id</th>\n",
       "      <th>book_id</th>\n",
       "      <th>rating</th>\n",
       "      <th>avg_rating</th>\n",
       "      <th>0_x</th>\n",
       "      <th>1_x</th>\n",
       "      <th>2_x</th>\n",
       "      <th>3_x</th>\n",
       "      <th>4_x</th>\n",
       "      <th>5_x</th>\n",
       "      <th>...</th>\n",
       "      <th>15_y</th>\n",
       "      <th>16_y</th>\n",
       "      <th>17_y</th>\n",
       "      <th>18_y</th>\n",
       "      <th>19_y</th>\n",
       "      <th>20_y</th>\n",
       "      <th>21_y</th>\n",
       "      <th>22_y</th>\n",
       "      <th>23_y</th>\n",
       "      <th>24_y</th>\n",
       "    </tr>\n",
       "  </thead>\n",
       "  <tbody>\n",
       "    <tr>\n",
       "      <th>0</th>\n",
       "      <td>36210</td>\n",
       "      <td>687</td>\n",
       "      <td>2</td>\n",
       "      <td>3.536232</td>\n",
       "      <td>0.202367</td>\n",
       "      <td>0.033538</td>\n",
       "      <td>0.001456</td>\n",
       "      <td>0.005575</td>\n",
       "      <td>0.006220</td>\n",
       "      <td>0.035502</td>\n",
       "      <td>...</td>\n",
       "      <td>0.001187</td>\n",
       "      <td>0.001917</td>\n",
       "      <td>0.000825</td>\n",
       "      <td>0.0</td>\n",
       "      <td>0.002246</td>\n",
       "      <td>0.001787</td>\n",
       "      <td>0.003241</td>\n",
       "      <td>0.003036</td>\n",
       "      <td>0.004602</td>\n",
       "      <td>0.009414</td>\n",
       "    </tr>\n",
       "    <tr>\n",
       "      <th>1</th>\n",
       "      <td>8</td>\n",
       "      <td>1509</td>\n",
       "      <td>1</td>\n",
       "      <td>3.421053</td>\n",
       "      <td>0.199233</td>\n",
       "      <td>0.013608</td>\n",
       "      <td>0.000536</td>\n",
       "      <td>0.003621</td>\n",
       "      <td>0.023440</td>\n",
       "      <td>0.005159</td>\n",
       "      <td>...</td>\n",
       "      <td>0.000000</td>\n",
       "      <td>0.000000</td>\n",
       "      <td>0.000000</td>\n",
       "      <td>0.0</td>\n",
       "      <td>0.000000</td>\n",
       "      <td>0.000000</td>\n",
       "      <td>0.000000</td>\n",
       "      <td>0.000000</td>\n",
       "      <td>0.000000</td>\n",
       "      <td>0.000000</td>\n",
       "    </tr>\n",
       "    <tr>\n",
       "      <th>2</th>\n",
       "      <td>42833</td>\n",
       "      <td>3128</td>\n",
       "      <td>4</td>\n",
       "      <td>4.611940</td>\n",
       "      <td>0.196320</td>\n",
       "      <td>0.021527</td>\n",
       "      <td>0.007529</td>\n",
       "      <td>0.007994</td>\n",
       "      <td>0.014450</td>\n",
       "      <td>0.030204</td>\n",
       "      <td>...</td>\n",
       "      <td>0.000000</td>\n",
       "      <td>0.000000</td>\n",
       "      <td>0.000000</td>\n",
       "      <td>0.0</td>\n",
       "      <td>0.000000</td>\n",
       "      <td>0.000000</td>\n",
       "      <td>0.000000</td>\n",
       "      <td>0.000000</td>\n",
       "      <td>0.000000</td>\n",
       "      <td>0.000000</td>\n",
       "    </tr>\n",
       "    <tr>\n",
       "      <th>3</th>\n",
       "      <td>39774</td>\n",
       "      <td>27</td>\n",
       "      <td>3</td>\n",
       "      <td>3.523810</td>\n",
       "      <td>0.156639</td>\n",
       "      <td>0.050961</td>\n",
       "      <td>0.051112</td>\n",
       "      <td>0.004160</td>\n",
       "      <td>0.012483</td>\n",
       "      <td>0.067711</td>\n",
       "      <td>...</td>\n",
       "      <td>0.000000</td>\n",
       "      <td>0.000000</td>\n",
       "      <td>0.008164</td>\n",
       "      <td>0.0</td>\n",
       "      <td>0.000000</td>\n",
       "      <td>0.003095</td>\n",
       "      <td>0.000000</td>\n",
       "      <td>0.015545</td>\n",
       "      <td>0.000000</td>\n",
       "      <td>0.029988</td>\n",
       "    </tr>\n",
       "    <tr>\n",
       "      <th>4</th>\n",
       "      <td>28108</td>\n",
       "      <td>1120</td>\n",
       "      <td>5</td>\n",
       "      <td>4.678571</td>\n",
       "      <td>0.189999</td>\n",
       "      <td>0.032203</td>\n",
       "      <td>0.093174</td>\n",
       "      <td>0.000000</td>\n",
       "      <td>0.000000</td>\n",
       "      <td>0.085931</td>\n",
       "      <td>...</td>\n",
       "      <td>0.001789</td>\n",
       "      <td>0.001892</td>\n",
       "      <td>0.000725</td>\n",
       "      <td>0.0</td>\n",
       "      <td>0.003100</td>\n",
       "      <td>0.001592</td>\n",
       "      <td>0.004266</td>\n",
       "      <td>0.003174</td>\n",
       "      <td>0.004424</td>\n",
       "      <td>0.009140</td>\n",
       "    </tr>\n",
       "  </tbody>\n",
       "</table>\n",
       "<p>5 rows × 65 columns</p>\n",
       "</div>"
      ],
      "text/plain": [
       "  user_id  book_id  rating  avg_rating       0_x       1_x       2_x  \\\n",
       "0   36210      687       2    3.536232  0.202367  0.033538  0.001456   \n",
       "1       8     1509       1    3.421053  0.199233  0.013608  0.000536   \n",
       "2   42833     3128       4    4.611940  0.196320  0.021527  0.007529   \n",
       "3   39774       27       3    3.523810  0.156639  0.050961  0.051112   \n",
       "4   28108     1120       5    4.678571  0.189999  0.032203  0.093174   \n",
       "\n",
       "        3_x       4_x       5_x    ...         15_y      16_y      17_y  18_y  \\\n",
       "0  0.005575  0.006220  0.035502    ...     0.001187  0.001917  0.000825   0.0   \n",
       "1  0.003621  0.023440  0.005159    ...     0.000000  0.000000  0.000000   0.0   \n",
       "2  0.007994  0.014450  0.030204    ...     0.000000  0.000000  0.000000   0.0   \n",
       "3  0.004160  0.012483  0.067711    ...     0.000000  0.000000  0.008164   0.0   \n",
       "4  0.000000  0.000000  0.085931    ...     0.001789  0.001892  0.000725   0.0   \n",
       "\n",
       "       19_y      20_y      21_y      22_y      23_y      24_y  \n",
       "0  0.002246  0.001787  0.003241  0.003036  0.004602  0.009414  \n",
       "1  0.000000  0.000000  0.000000  0.000000  0.000000  0.000000  \n",
       "2  0.000000  0.000000  0.000000  0.000000  0.000000  0.000000  \n",
       "3  0.000000  0.003095  0.000000  0.015545  0.000000  0.029988  \n",
       "4  0.003100  0.001592  0.004266  0.003174  0.004424  0.009140  \n",
       "\n",
       "[5 rows x 65 columns]"
      ]
     },
     "execution_count": 12,
     "metadata": {},
     "output_type": "execute_result"
    }
   ],
   "source": [
    "train_data.head()"
   ]
  },
  {
   "cell_type": "code",
   "execution_count": 13,
   "metadata": {},
   "outputs": [
    {
     "data": {
      "text/plain": [
       "(4183180, 65)"
      ]
     },
     "execution_count": 13,
     "metadata": {},
     "output_type": "execute_result"
    }
   ],
   "source": [
    "train_data.shape\n"
   ]
  },
  {
   "cell_type": "code",
   "execution_count": 14,
   "metadata": {
    "collapsed": true
   },
   "outputs": [],
   "source": [
    "test_data = test_ratings.merge(user_features,how= 'left', on='user_id')\n",
    "test_data = test_data.merge(book_features,how='left',on='book_id')"
   ]
  },
  {
   "cell_type": "code",
   "execution_count": 15,
   "metadata": {},
   "outputs": [
    {
     "data": {
      "text/html": [
       "<div>\n",
       "<style>\n",
       "    .dataframe thead tr:only-child th {\n",
       "        text-align: right;\n",
       "    }\n",
       "\n",
       "    .dataframe thead th {\n",
       "        text-align: left;\n",
       "    }\n",
       "\n",
       "    .dataframe tbody tr th {\n",
       "        vertical-align: top;\n",
       "    }\n",
       "</style>\n",
       "<table border=\"1\" class=\"dataframe\">\n",
       "  <thead>\n",
       "    <tr style=\"text-align: right;\">\n",
       "      <th></th>\n",
       "      <th>user_id</th>\n",
       "      <th>book_id</th>\n",
       "      <th>rating</th>\n",
       "      <th>avg_rating</th>\n",
       "      <th>0_x</th>\n",
       "      <th>1_x</th>\n",
       "      <th>2_x</th>\n",
       "      <th>3_x</th>\n",
       "      <th>4_x</th>\n",
       "      <th>5_x</th>\n",
       "      <th>...</th>\n",
       "      <th>15_y</th>\n",
       "      <th>16_y</th>\n",
       "      <th>17_y</th>\n",
       "      <th>18_y</th>\n",
       "      <th>19_y</th>\n",
       "      <th>20_y</th>\n",
       "      <th>21_y</th>\n",
       "      <th>22_y</th>\n",
       "      <th>23_y</th>\n",
       "      <th>24_y</th>\n",
       "    </tr>\n",
       "  </thead>\n",
       "  <tbody>\n",
       "    <tr>\n",
       "      <th>0</th>\n",
       "      <td>18218</td>\n",
       "      <td>920</td>\n",
       "      <td>3</td>\n",
       "      <td>4.193548</td>\n",
       "      <td>0.182297</td>\n",
       "      <td>0.030095</td>\n",
       "      <td>0.013480</td>\n",
       "      <td>0.015648</td>\n",
       "      <td>0.008251</td>\n",
       "      <td>0.024029</td>\n",
       "      <td>...</td>\n",
       "      <td>0.000000</td>\n",
       "      <td>0.002823</td>\n",
       "      <td>0.000000</td>\n",
       "      <td>0.000000</td>\n",
       "      <td>0.001451</td>\n",
       "      <td>0.010203</td>\n",
       "      <td>0.006101</td>\n",
       "      <td>0.001625</td>\n",
       "      <td>0.000187</td>\n",
       "      <td>0.000000</td>\n",
       "    </tr>\n",
       "    <tr>\n",
       "      <th>1</th>\n",
       "      <td>34091</td>\n",
       "      <td>967</td>\n",
       "      <td>4</td>\n",
       "      <td>4.418605</td>\n",
       "      <td>0.202271</td>\n",
       "      <td>0.000826</td>\n",
       "      <td>0.013064</td>\n",
       "      <td>0.000000</td>\n",
       "      <td>0.006972</td>\n",
       "      <td>0.042788</td>\n",
       "      <td>...</td>\n",
       "      <td>0.000000</td>\n",
       "      <td>0.000000</td>\n",
       "      <td>0.000000</td>\n",
       "      <td>0.000000</td>\n",
       "      <td>0.000000</td>\n",
       "      <td>0.000000</td>\n",
       "      <td>0.000000</td>\n",
       "      <td>0.729505</td>\n",
       "      <td>0.000000</td>\n",
       "      <td>0.000000</td>\n",
       "    </tr>\n",
       "    <tr>\n",
       "      <th>2</th>\n",
       "      <td>41266</td>\n",
       "      <td>71</td>\n",
       "      <td>5</td>\n",
       "      <td>4.673077</td>\n",
       "      <td>0.199032</td>\n",
       "      <td>0.000000</td>\n",
       "      <td>0.012913</td>\n",
       "      <td>0.022732</td>\n",
       "      <td>0.017535</td>\n",
       "      <td>0.062679</td>\n",
       "      <td>...</td>\n",
       "      <td>0.000000</td>\n",
       "      <td>0.007510</td>\n",
       "      <td>0.000000</td>\n",
       "      <td>0.000000</td>\n",
       "      <td>0.000000</td>\n",
       "      <td>0.018864</td>\n",
       "      <td>0.000000</td>\n",
       "      <td>0.000000</td>\n",
       "      <td>0.008654</td>\n",
       "      <td>0.007507</td>\n",
       "    </tr>\n",
       "    <tr>\n",
       "      <th>3</th>\n",
       "      <td>47336</td>\n",
       "      <td>760</td>\n",
       "      <td>5</td>\n",
       "      <td>3.500000</td>\n",
       "      <td>0.176218</td>\n",
       "      <td>0.008017</td>\n",
       "      <td>0.035940</td>\n",
       "      <td>0.016299</td>\n",
       "      <td>0.003869</td>\n",
       "      <td>0.043797</td>\n",
       "      <td>...</td>\n",
       "      <td>0.000000</td>\n",
       "      <td>0.000000</td>\n",
       "      <td>0.000000</td>\n",
       "      <td>0.000000</td>\n",
       "      <td>0.004526</td>\n",
       "      <td>0.000304</td>\n",
       "      <td>0.000000</td>\n",
       "      <td>0.001580</td>\n",
       "      <td>0.000362</td>\n",
       "      <td>0.000279</td>\n",
       "    </tr>\n",
       "    <tr>\n",
       "      <th>4</th>\n",
       "      <td>20893</td>\n",
       "      <td>453</td>\n",
       "      <td>3</td>\n",
       "      <td>3.864198</td>\n",
       "      <td>0.197760</td>\n",
       "      <td>0.054557</td>\n",
       "      <td>0.007288</td>\n",
       "      <td>0.025506</td>\n",
       "      <td>0.007168</td>\n",
       "      <td>0.056290</td>\n",
       "      <td>...</td>\n",
       "      <td>0.000244</td>\n",
       "      <td>0.010929</td>\n",
       "      <td>0.000064</td>\n",
       "      <td>0.000748</td>\n",
       "      <td>0.000000</td>\n",
       "      <td>0.000508</td>\n",
       "      <td>0.000511</td>\n",
       "      <td>0.004363</td>\n",
       "      <td>0.000302</td>\n",
       "      <td>0.018874</td>\n",
       "    </tr>\n",
       "  </tbody>\n",
       "</table>\n",
       "<p>5 rows × 65 columns</p>\n",
       "</div>"
      ],
      "text/plain": [
       "  user_id  book_id  rating  avg_rating       0_x       1_x       2_x  \\\n",
       "0   18218      920       3    4.193548  0.182297  0.030095  0.013480   \n",
       "1   34091      967       4    4.418605  0.202271  0.000826  0.013064   \n",
       "2   41266       71       5    4.673077  0.199032  0.000000  0.012913   \n",
       "3   47336      760       5    3.500000  0.176218  0.008017  0.035940   \n",
       "4   20893      453       3    3.864198  0.197760  0.054557  0.007288   \n",
       "\n",
       "        3_x       4_x       5_x    ...         15_y      16_y      17_y  \\\n",
       "0  0.015648  0.008251  0.024029    ...     0.000000  0.002823  0.000000   \n",
       "1  0.000000  0.006972  0.042788    ...     0.000000  0.000000  0.000000   \n",
       "2  0.022732  0.017535  0.062679    ...     0.000000  0.007510  0.000000   \n",
       "3  0.016299  0.003869  0.043797    ...     0.000000  0.000000  0.000000   \n",
       "4  0.025506  0.007168  0.056290    ...     0.000244  0.010929  0.000064   \n",
       "\n",
       "       18_y      19_y      20_y      21_y      22_y      23_y      24_y  \n",
       "0  0.000000  0.001451  0.010203  0.006101  0.001625  0.000187  0.000000  \n",
       "1  0.000000  0.000000  0.000000  0.000000  0.729505  0.000000  0.000000  \n",
       "2  0.000000  0.000000  0.018864  0.000000  0.000000  0.008654  0.007507  \n",
       "3  0.000000  0.004526  0.000304  0.000000  0.001580  0.000362  0.000279  \n",
       "4  0.000748  0.000000  0.000508  0.000511  0.004363  0.000302  0.018874  \n",
       "\n",
       "[5 rows x 65 columns]"
      ]
     },
     "execution_count": 15,
     "metadata": {},
     "output_type": "execute_result"
    }
   ],
   "source": [
    "test_data.head()"
   ]
  },
  {
   "cell_type": "code",
   "execution_count": 16,
   "metadata": {},
   "outputs": [
    {
     "data": {
      "text/plain": [
       "(1792792, 65)"
      ]
     },
     "execution_count": 16,
     "metadata": {},
     "output_type": "execute_result"
    }
   ],
   "source": [
    "test_data.shape"
   ]
  },
  {
   "cell_type": "code",
   "execution_count": 17,
   "metadata": {
    "collapsed": true
   },
   "outputs": [],
   "source": [
    "y_train= train_data.apply(lambda x:1 if x['rating']>3 else 0, axis=1)"
   ]
  },
  {
   "cell_type": "code",
   "execution_count": 18,
   "metadata": {
    "collapsed": true
   },
   "outputs": [],
   "source": [
    "x_columns = [c for c in train_data.columns if c not in ['user_id', 'book_id', 'rating']]\n"
   ]
  },
  {
   "cell_type": "code",
   "execution_count": 19,
   "metadata": {
    "collapsed": true
   },
   "outputs": [],
   "source": [
    "X_train = train_data[x_columns]"
   ]
  },
  {
   "cell_type": "code",
   "execution_count": 20,
   "metadata": {},
   "outputs": [
    {
     "data": {
      "text/html": [
       "<div>\n",
       "<style>\n",
       "    .dataframe thead tr:only-child th {\n",
       "        text-align: right;\n",
       "    }\n",
       "\n",
       "    .dataframe thead th {\n",
       "        text-align: left;\n",
       "    }\n",
       "\n",
       "    .dataframe tbody tr th {\n",
       "        vertical-align: top;\n",
       "    }\n",
       "</style>\n",
       "<table border=\"1\" class=\"dataframe\">\n",
       "  <thead>\n",
       "    <tr style=\"text-align: right;\">\n",
       "      <th></th>\n",
       "      <th>avg_rating</th>\n",
       "      <th>0_x</th>\n",
       "      <th>1_x</th>\n",
       "      <th>2_x</th>\n",
       "      <th>3_x</th>\n",
       "      <th>4_x</th>\n",
       "      <th>5_x</th>\n",
       "      <th>6_x</th>\n",
       "      <th>7_x</th>\n",
       "      <th>8_x</th>\n",
       "      <th>...</th>\n",
       "      <th>15_y</th>\n",
       "      <th>16_y</th>\n",
       "      <th>17_y</th>\n",
       "      <th>18_y</th>\n",
       "      <th>19_y</th>\n",
       "      <th>20_y</th>\n",
       "      <th>21_y</th>\n",
       "      <th>22_y</th>\n",
       "      <th>23_y</th>\n",
       "      <th>24_y</th>\n",
       "    </tr>\n",
       "  </thead>\n",
       "  <tbody>\n",
       "    <tr>\n",
       "      <th>0</th>\n",
       "      <td>3.536232</td>\n",
       "      <td>0.202367</td>\n",
       "      <td>0.033538</td>\n",
       "      <td>0.001456</td>\n",
       "      <td>0.005575</td>\n",
       "      <td>0.006220</td>\n",
       "      <td>0.035502</td>\n",
       "      <td>0.000000</td>\n",
       "      <td>0.010712</td>\n",
       "      <td>0.029535</td>\n",
       "      <td>...</td>\n",
       "      <td>0.001187</td>\n",
       "      <td>0.001917</td>\n",
       "      <td>0.000825</td>\n",
       "      <td>0.0</td>\n",
       "      <td>0.002246</td>\n",
       "      <td>0.001787</td>\n",
       "      <td>0.003241</td>\n",
       "      <td>0.003036</td>\n",
       "      <td>0.004602</td>\n",
       "      <td>0.009414</td>\n",
       "    </tr>\n",
       "    <tr>\n",
       "      <th>1</th>\n",
       "      <td>3.421053</td>\n",
       "      <td>0.199233</td>\n",
       "      <td>0.013608</td>\n",
       "      <td>0.000536</td>\n",
       "      <td>0.003621</td>\n",
       "      <td>0.023440</td>\n",
       "      <td>0.005159</td>\n",
       "      <td>0.022617</td>\n",
       "      <td>0.003733</td>\n",
       "      <td>0.000000</td>\n",
       "      <td>...</td>\n",
       "      <td>0.000000</td>\n",
       "      <td>0.000000</td>\n",
       "      <td>0.000000</td>\n",
       "      <td>0.0</td>\n",
       "      <td>0.000000</td>\n",
       "      <td>0.000000</td>\n",
       "      <td>0.000000</td>\n",
       "      <td>0.000000</td>\n",
       "      <td>0.000000</td>\n",
       "      <td>0.000000</td>\n",
       "    </tr>\n",
       "    <tr>\n",
       "      <th>2</th>\n",
       "      <td>4.611940</td>\n",
       "      <td>0.196320</td>\n",
       "      <td>0.021527</td>\n",
       "      <td>0.007529</td>\n",
       "      <td>0.007994</td>\n",
       "      <td>0.014450</td>\n",
       "      <td>0.030204</td>\n",
       "      <td>0.021489</td>\n",
       "      <td>0.020012</td>\n",
       "      <td>0.009873</td>\n",
       "      <td>...</td>\n",
       "      <td>0.000000</td>\n",
       "      <td>0.000000</td>\n",
       "      <td>0.000000</td>\n",
       "      <td>0.0</td>\n",
       "      <td>0.000000</td>\n",
       "      <td>0.000000</td>\n",
       "      <td>0.000000</td>\n",
       "      <td>0.000000</td>\n",
       "      <td>0.000000</td>\n",
       "      <td>0.000000</td>\n",
       "    </tr>\n",
       "    <tr>\n",
       "      <th>3</th>\n",
       "      <td>3.523810</td>\n",
       "      <td>0.156639</td>\n",
       "      <td>0.050961</td>\n",
       "      <td>0.051112</td>\n",
       "      <td>0.004160</td>\n",
       "      <td>0.012483</td>\n",
       "      <td>0.067711</td>\n",
       "      <td>0.017075</td>\n",
       "      <td>0.038733</td>\n",
       "      <td>0.056047</td>\n",
       "      <td>...</td>\n",
       "      <td>0.000000</td>\n",
       "      <td>0.000000</td>\n",
       "      <td>0.008164</td>\n",
       "      <td>0.0</td>\n",
       "      <td>0.000000</td>\n",
       "      <td>0.003095</td>\n",
       "      <td>0.000000</td>\n",
       "      <td>0.015545</td>\n",
       "      <td>0.000000</td>\n",
       "      <td>0.029988</td>\n",
       "    </tr>\n",
       "    <tr>\n",
       "      <th>4</th>\n",
       "      <td>4.678571</td>\n",
       "      <td>0.189999</td>\n",
       "      <td>0.032203</td>\n",
       "      <td>0.093174</td>\n",
       "      <td>0.000000</td>\n",
       "      <td>0.000000</td>\n",
       "      <td>0.085931</td>\n",
       "      <td>0.003820</td>\n",
       "      <td>0.000925</td>\n",
       "      <td>0.005797</td>\n",
       "      <td>...</td>\n",
       "      <td>0.001789</td>\n",
       "      <td>0.001892</td>\n",
       "      <td>0.000725</td>\n",
       "      <td>0.0</td>\n",
       "      <td>0.003100</td>\n",
       "      <td>0.001592</td>\n",
       "      <td>0.004266</td>\n",
       "      <td>0.003174</td>\n",
       "      <td>0.004424</td>\n",
       "      <td>0.009140</td>\n",
       "    </tr>\n",
       "  </tbody>\n",
       "</table>\n",
       "<p>5 rows × 62 columns</p>\n",
       "</div>"
      ],
      "text/plain": [
       "   avg_rating       0_x       1_x       2_x       3_x       4_x       5_x  \\\n",
       "0    3.536232  0.202367  0.033538  0.001456  0.005575  0.006220  0.035502   \n",
       "1    3.421053  0.199233  0.013608  0.000536  0.003621  0.023440  0.005159   \n",
       "2    4.611940  0.196320  0.021527  0.007529  0.007994  0.014450  0.030204   \n",
       "3    3.523810  0.156639  0.050961  0.051112  0.004160  0.012483  0.067711   \n",
       "4    4.678571  0.189999  0.032203  0.093174  0.000000  0.000000  0.085931   \n",
       "\n",
       "        6_x       7_x       8_x    ...         15_y      16_y      17_y  18_y  \\\n",
       "0  0.000000  0.010712  0.029535    ...     0.001187  0.001917  0.000825   0.0   \n",
       "1  0.022617  0.003733  0.000000    ...     0.000000  0.000000  0.000000   0.0   \n",
       "2  0.021489  0.020012  0.009873    ...     0.000000  0.000000  0.000000   0.0   \n",
       "3  0.017075  0.038733  0.056047    ...     0.000000  0.000000  0.008164   0.0   \n",
       "4  0.003820  0.000925  0.005797    ...     0.001789  0.001892  0.000725   0.0   \n",
       "\n",
       "       19_y      20_y      21_y      22_y      23_y      24_y  \n",
       "0  0.002246  0.001787  0.003241  0.003036  0.004602  0.009414  \n",
       "1  0.000000  0.000000  0.000000  0.000000  0.000000  0.000000  \n",
       "2  0.000000  0.000000  0.000000  0.000000  0.000000  0.000000  \n",
       "3  0.000000  0.003095  0.000000  0.015545  0.000000  0.029988  \n",
       "4  0.003100  0.001592  0.004266  0.003174  0.004424  0.009140  \n",
       "\n",
       "[5 rows x 62 columns]"
      ]
     },
     "execution_count": 20,
     "metadata": {},
     "output_type": "execute_result"
    }
   ],
   "source": [
    "X_train.head()"
   ]
  },
  {
   "cell_type": "markdown",
   "metadata": {},
   "source": [
    "# 1-5 Rating Prediction"
   ]
  },
  {
   "cell_type": "code",
   "execution_count": 21,
   "metadata": {},
   "outputs": [
    {
     "name": "stderr",
     "output_type": "stream",
     "text": [
      "Using TensorFlow backend.\n"
     ]
    }
   ],
   "source": [
    "from keras.utils import to_categorical\n",
    "y_train_5 = train_data['rating']\n"
   ]
  },
  {
   "cell_type": "code",
   "execution_count": 22,
   "metadata": {},
   "outputs": [
    {
     "data": {
      "text/plain": [
       "4    1496995\n",
       "5    1388429\n",
       "3     959931\n",
       "2     250846\n",
       "1      86979\n",
       "Name: rating, dtype: int64"
      ]
     },
     "execution_count": 22,
     "metadata": {},
     "output_type": "execute_result"
    }
   ],
   "source": [
    "train_data['rating'].value_counts(dropna=False)"
   ]
  },
  {
   "cell_type": "code",
   "execution_count": 23,
   "metadata": {},
   "outputs": [
    {
     "data": {
      "text/plain": [
       "(4183180,)"
      ]
     },
     "execution_count": 23,
     "metadata": {},
     "output_type": "execute_result"
    }
   ],
   "source": [
    "y_train_5.shape"
   ]
  },
  {
   "cell_type": "code",
   "execution_count": 24,
   "metadata": {},
   "outputs": [
    {
     "data": {
      "text/plain": [
       "(4183180, 62)"
      ]
     },
     "execution_count": 24,
     "metadata": {},
     "output_type": "execute_result"
    }
   ],
   "source": [
    "X_train.shape"
   ]
  },
  {
   "cell_type": "markdown",
   "metadata": {},
   "source": [
    "# Logistic for Multiclass classification "
   ]
  },
  {
   "cell_type": "code",
   "execution_count": 25,
   "metadata": {
    "collapsed": true
   },
   "outputs": [],
   "source": [
    "from sklearn.linear_model import LogisticRegression\n",
    "from sklearn import metrics"
   ]
  },
  {
   "cell_type": "code",
   "execution_count": 26,
   "metadata": {
    "collapsed": true
   },
   "outputs": [],
   "source": [
    "logreg_mul = LogisticRegression()"
   ]
  },
  {
   "cell_type": "code",
   "execution_count": 27,
   "metadata": {},
   "outputs": [
    {
     "data": {
      "text/plain": [
       "LogisticRegression(C=1.0, class_weight=None, dual=False, fit_intercept=True,\n",
       "          intercept_scaling=1, max_iter=100, multi_class='ovr', n_jobs=1,\n",
       "          penalty='l2', random_state=None, solver='liblinear', tol=0.0001,\n",
       "          verbose=0, warm_start=False)"
      ]
     },
     "execution_count": 27,
     "metadata": {},
     "output_type": "execute_result"
    }
   ],
   "source": [
    "logreg_mul.fit(X_train,y_train_5)"
   ]
  },
  {
   "cell_type": "code",
   "execution_count": 33,
   "metadata": {},
   "outputs": [],
   "source": [
    "\n",
    "import pickle\n",
    "filename = 'C:/Users/manoj/Desktop/deep_learning/final_project/book/logistic.h5'\n",
    "pickle.dump(logreg_mul, open(filename, 'wb'))"
   ]
  },
  {
   "cell_type": "code",
   "execution_count": 34,
   "metadata": {
    "collapsed": true
   },
   "outputs": [],
   "source": [
    "y_test_5 = test_data['rating']"
   ]
  },
  {
   "cell_type": "code",
   "execution_count": 39,
   "metadata": {},
   "outputs": [],
   "source": [
    "y_pred_mul = logreg_mul.predict(X_test)"
   ]
  },
  {
   "cell_type": "code",
   "execution_count": 40,
   "metadata": {},
   "outputs": [
    {
     "data": {
      "text/plain": [
       "0.469593237810075"
      ]
     },
     "execution_count": 40,
     "metadata": {},
     "output_type": "execute_result"
    }
   ],
   "source": [
    "logreg_mul.score(X_test,y_test_5)"
   ]
  },
  {
   "cell_type": "code",
   "execution_count": 41,
   "metadata": {
    "collapsed": true
   },
   "outputs": [],
   "source": [
    "probability_mul = logreg_mul.predict_proba(X_test)"
   ]
  },
  {
   "cell_type": "code",
   "execution_count": 42,
   "metadata": {},
   "outputs": [
    {
     "data": {
      "text/plain": [
       "array([[0.01156216, 0.04351422, 0.20242169, 0.37919129, 0.36331063],\n",
       "       [0.00710289, 0.03133469, 0.17403922, 0.35402865, 0.43349456],\n",
       "       [0.00417887, 0.01770923, 0.10020988, 0.28609682, 0.59180519],\n",
       "       ...,\n",
       "       [0.00709435, 0.02185633, 0.12503626, 0.33578721, 0.51022585],\n",
       "       [0.00517214, 0.02783131, 0.19837452, 0.4242323 , 0.34438974],\n",
       "       [0.05849375, 0.12867978, 0.37346506, 0.36215098, 0.07721042]])"
      ]
     },
     "execution_count": 42,
     "metadata": {},
     "output_type": "execute_result"
    }
   ],
   "source": [
    "probability_mul"
   ]
  },
  {
   "cell_type": "code",
   "execution_count": 46,
   "metadata": {
    "collapsed": true
   },
   "outputs": [],
   "source": [
    "class_1_prob=probability_mul[:,0]\n",
    "class_2_prob=probability_mul[:,1]\n",
    "class_3_prob=probability_mul[:,2]\n",
    "class_4_prob=probability_mul[:,3]\n",
    "class_5_prob=probability_mul[:,4]"
   ]
  },
  {
   "cell_type": "code",
   "execution_count": 147,
   "metadata": {
    "collapsed": true
   },
   "outputs": [],
   "source": [
    "from numpy import maximum\n",
    "\n",
    "result_1 = maximum(class_1_prob,class_2_prob)\n",
    "result_2 = maximum(result_1,class_3_prob)\n",
    "result_3 = maximum(result_2,class_4_prob)\n",
    "result_mul = maximum(result_3,class_5_prob)"
   ]
  },
  {
   "cell_type": "code",
   "execution_count": 170,
   "metadata": {},
   "outputs": [
    {
     "data": {
      "text/plain": [
       "array([4, 5, 5, ..., 5, 4, 3], dtype=int64)"
      ]
     },
     "execution_count": 170,
     "metadata": {},
     "output_type": "execute_result"
    }
   ],
   "source": [
    "y_pred_mul"
   ]
  },
  {
   "cell_type": "code",
   "execution_count": 43,
   "metadata": {
    "collapsed": true
   },
   "outputs": [],
   "source": [
    "evaluation_data = test_data[['user_id', 'book_id', 'rating']].copy()\n",
    "evaluation_data['prediction']=y_pred_mul"
   ]
  },
  {
   "cell_type": "code",
   "execution_count": 44,
   "metadata": {
    "collapsed": true
   },
   "outputs": [],
   "source": [
    "evaluation_data['binary_rating']=y_test_5"
   ]
  },
  {
   "cell_type": "code",
   "execution_count": 47,
   "metadata": {},
   "outputs": [],
   "source": [
    "evaluation_data['pred_proba']= class_5_prob"
   ]
  },
  {
   "cell_type": "code",
   "execution_count": 48,
   "metadata": {},
   "outputs": [
    {
     "data": {
      "text/html": [
       "<div>\n",
       "<style>\n",
       "    .dataframe thead tr:only-child th {\n",
       "        text-align: right;\n",
       "    }\n",
       "\n",
       "    .dataframe thead th {\n",
       "        text-align: left;\n",
       "    }\n",
       "\n",
       "    .dataframe tbody tr th {\n",
       "        vertical-align: top;\n",
       "    }\n",
       "</style>\n",
       "<table border=\"1\" class=\"dataframe\">\n",
       "  <thead>\n",
       "    <tr style=\"text-align: right;\">\n",
       "      <th></th>\n",
       "      <th>user_id</th>\n",
       "      <th>book_id</th>\n",
       "      <th>rating</th>\n",
       "      <th>prediction</th>\n",
       "      <th>binary_rating</th>\n",
       "      <th>pred_proba</th>\n",
       "    </tr>\n",
       "  </thead>\n",
       "  <tbody>\n",
       "    <tr>\n",
       "      <th>0</th>\n",
       "      <td>18218</td>\n",
       "      <td>920</td>\n",
       "      <td>3</td>\n",
       "      <td>4</td>\n",
       "      <td>3</td>\n",
       "      <td>0.363311</td>\n",
       "    </tr>\n",
       "    <tr>\n",
       "      <th>1</th>\n",
       "      <td>34091</td>\n",
       "      <td>967</td>\n",
       "      <td>4</td>\n",
       "      <td>5</td>\n",
       "      <td>4</td>\n",
       "      <td>0.433495</td>\n",
       "    </tr>\n",
       "    <tr>\n",
       "      <th>2</th>\n",
       "      <td>41266</td>\n",
       "      <td>71</td>\n",
       "      <td>5</td>\n",
       "      <td>5</td>\n",
       "      <td>5</td>\n",
       "      <td>0.591805</td>\n",
       "    </tr>\n",
       "    <tr>\n",
       "      <th>3</th>\n",
       "      <td>47336</td>\n",
       "      <td>760</td>\n",
       "      <td>5</td>\n",
       "      <td>4</td>\n",
       "      <td>5</td>\n",
       "      <td>0.212271</td>\n",
       "    </tr>\n",
       "    <tr>\n",
       "      <th>4</th>\n",
       "      <td>20893</td>\n",
       "      <td>453</td>\n",
       "      <td>3</td>\n",
       "      <td>4</td>\n",
       "      <td>3</td>\n",
       "      <td>0.212236</td>\n",
       "    </tr>\n",
       "  </tbody>\n",
       "</table>\n",
       "</div>"
      ],
      "text/plain": [
       "  user_id  book_id  rating  prediction  binary_rating  pred_proba\n",
       "0   18218      920       3           4              3    0.363311\n",
       "1   34091      967       4           5              4    0.433495\n",
       "2   41266       71       5           5              5    0.591805\n",
       "3   47336      760       5           4              5    0.212271\n",
       "4   20893      453       3           4              3    0.212236"
      ]
     },
     "execution_count": 48,
     "metadata": {},
     "output_type": "execute_result"
    }
   ],
   "source": [
    "\n",
    "\n",
    "evaluation_data.head()"
   ]
  },
  {
   "cell_type": "code",
   "execution_count": 51,
   "metadata": {},
   "outputs": [],
   "source": [
    "cfm, p, r = replay_5star_results(evaluation_data)"
   ]
  },
  {
   "cell_type": "code",
   "execution_count": 52,
   "metadata": {},
   "outputs": [
    {
     "data": {
      "text/plain": [
       "array([[   117,     26,  15642,  15774,   5601],\n",
       "       [   118,     23,  40041,  54725,  13462],\n",
       "       [   122,     14,  91987, 243827,  74913],\n",
       "       [    61,      3,  59203, 356146, 226443],\n",
       "       [    37,      2,  17270, 183625, 393610]], dtype=int64)"
      ]
     },
     "execution_count": 52,
     "metadata": {},
     "output_type": "execute_result"
    }
   ],
   "source": [
    "cfm"
   ]
  },
  {
   "cell_type": "code",
   "execution_count": 53,
   "metadata": {},
   "outputs": [
    {
     "name": "stdout",
     "output_type": "stream",
     "text": [
      "0.4519284456073333 0.469593237810075\n"
     ]
    }
   ],
   "source": [
    "print(p, r)"
   ]
  },
  {
   "cell_type": "code",
   "execution_count": 54,
   "metadata": {
    "scrolled": true
   },
   "outputs": [
    {
     "name": "stderr",
     "output_type": "stream",
     "text": [
      "C:\\Users\\manoj\\Anaconda3\\lib\\site-packages\\sklearn\\metrics\\ranking.py:444: RuntimeWarning: invalid value encountered in true_divide\n",
      "  recall = tps / tps[-1]\n"
     ]
    },
    {
     "name": "stdout",
     "output_type": "stream",
     "text": [
      "0 users evaluated\n",
      "500 users evaluated\n",
      "1000 users evaluated\n",
      "1500 users evaluated\n",
      "2000 users evaluated\n",
      "2500 users evaluated\n",
      "3000 users evaluated\n",
      "3500 users evaluated\n",
      "4000 users evaluated\n",
      "4500 users evaluated\n",
      "5000 users evaluated\n",
      "5500 users evaluated\n",
      "6000 users evaluated\n",
      "6500 users evaluated\n",
      "7000 users evaluated\n",
      "7500 users evaluated\n",
      "8000 users evaluated\n",
      "8500 users evaluated\n",
      "9000 users evaluated\n",
      "9500 users evaluated\n",
      "10000 users evaluated\n",
      "10500 users evaluated\n",
      "11000 users evaluated\n",
      "11500 users evaluated\n",
      "12000 users evaluated\n",
      "12500 users evaluated\n",
      "13000 users evaluated\n",
      "13500 users evaluated\n",
      "14000 users evaluated\n",
      "14500 users evaluated\n",
      "15000 users evaluated\n",
      "15500 users evaluated\n",
      "16000 users evaluated\n",
      "16500 users evaluated\n",
      "17000 users evaluated\n",
      "17500 users evaluated\n",
      "18000 users evaluated\n",
      "18500 users evaluated\n",
      "19000 users evaluated\n",
      "19500 users evaluated\n",
      "20000 users evaluated\n",
      "20500 users evaluated\n",
      "21000 users evaluated\n",
      "21500 users evaluated\n",
      "22000 users evaluated\n",
      "22500 users evaluated\n",
      "23000 users evaluated\n",
      "23500 users evaluated\n",
      "24000 users evaluated\n",
      "24500 users evaluated\n",
      "25000 users evaluated\n",
      "25500 users evaluated\n",
      "26000 users evaluated\n",
      "26500 users evaluated\n",
      "27000 users evaluated\n",
      "27500 users evaluated\n",
      "28000 users evaluated\n",
      "28500 users evaluated\n",
      "29000 users evaluated\n",
      "29500 users evaluated\n",
      "30000 users evaluated\n",
      "30500 users evaluated\n",
      "31000 users evaluated\n",
      "31500 users evaluated\n",
      "32000 users evaluated\n",
      "32500 users evaluated\n",
      "33000 users evaluated\n",
      "33500 users evaluated\n",
      "34000 users evaluated\n",
      "34500 users evaluated\n",
      "35000 users evaluated\n",
      "35500 users evaluated\n",
      "36000 users evaluated\n",
      "36500 users evaluated\n",
      "37000 users evaluated\n",
      "37500 users evaluated\n",
      "38000 users evaluated\n",
      "38500 users evaluated\n",
      "39000 users evaluated\n",
      "39500 users evaluated\n",
      "40000 users evaluated\n",
      "40500 users evaluated\n",
      "41000 users evaluated\n",
      "41500 users evaluated\n",
      "42000 users evaluated\n",
      "42500 users evaluated\n",
      "43000 users evaluated\n",
      "43500 users evaluated\n",
      "44000 users evaluated\n",
      "44500 users evaluated\n",
      "45000 users evaluated\n",
      "45500 users evaluated\n",
      "46000 users evaluated\n",
      "46500 users evaluated\n",
      "47000 users evaluated\n",
      "47500 users evaluated\n",
      "48000 users evaluated\n",
      "48500 users evaluated\n",
      "49000 users evaluated\n",
      "49500 users evaluated\n",
      "50000 users evaluated\n",
      "50500 users evaluated\n",
      "51000 users evaluated\n",
      "51500 users evaluated\n",
      "52000 users evaluated\n",
      "52500 users evaluated\n",
      "53000 users evaluated\n"
     ]
    }
   ],
   "source": [
    "aps, mAP, binary_mAP, binary_aps, skipped = top_n_5star_results(evaluation_data)"
   ]
  },
  {
   "cell_type": "code",
   "execution_count": 55,
   "metadata": {},
   "outputs": [
    {
     "name": "stdout",
     "output_type": "stream",
     "text": [
      "0.08672239114731486 0.6055031840278746\n"
     ]
    }
   ],
   "source": [
    "print(mAP, binary_mAP)"
   ]
  },
  {
   "cell_type": "code",
   "execution_count": 2,
   "metadata": {
    "collapsed": true
   },
   "outputs": [],
   "source": [
    "def top_n_5star_results(evaluation_data, n=10):\n",
    "    \"\"\"\n",
    "    Evaluates the top 10 recommendations for each user.\n",
    "    To be used for predictions for all books not in the user's training data.\n",
    "    Parameter\n",
    "    ---------\n",
    "    evaluation_data: pd.DataFrame\n",
    "        Expected columns: user_id, book_id, pred_proba, prediction, binary_rating\n",
    "        pred_proba is the probability of being a 5\n",
    "        prediction is the predicted class (1-5)\n",
    "        rating is the original rating\n",
    "    Returns\n",
    "    -------\n",
    "    The mAP and the number of users who had no historic rating data for any of their predicted top 10.\n",
    "    Also calculates mAP for whether or not the user enjoyed the book (4 or 5).\n",
    "    \"\"\"\n",
    "    users = list(set(evaluation_data['user_id'].tolist()))\n",
    "\n",
    "    aps = []\n",
    "    binary_aps = []\n",
    "    not_scored = []\n",
    "    counter = 0\n",
    "    for u in users:\n",
    "        results = evaluation_data[evaluation_data['user_id'] == u]\n",
    "        books = results['book_id'].tolist()\n",
    "        probs = np.asarray(results['pred_proba'])\n",
    "        top_10 = np.argsort(probs)[:n]\n",
    "        true = {1: [], 2: [], 3: [], 4: [], 5: []}\n",
    "        pred = {1: [], 2: [], 3: [], 4: [], 5: []}\n",
    "        top_binary_books = []\n",
    "        top_binary_ratings = []\n",
    "        matches = 0\n",
    "        for i in top_10:\n",
    "            rating = results[results['book_id'] == books[i]]['rating'].values\n",
    "            \n",
    "            if rating > 0:\n",
    "                matches += 1\n",
    "                p = int(results[results['book_id'] == books[i]]['prediction'].values)\n",
    "                r = int(results[results['book_id'] == books[i]]['rating'].values)\n",
    "                if p == r:\n",
    "                    true[r].append(1)\n",
    "                    pred[r].append(1)\n",
    "                    for i in range(1, 6):\n",
    "                        if i != r:\n",
    "                            true[i].append(0)\n",
    "                            pred[i].append(0)\n",
    "                else:\n",
    "                    true[r].append(1)\n",
    "                    pred[r].append(0)\n",
    "                    true[p].append(0)\n",
    "                    pred[p].append(1)\n",
    "                    for i in range(1, 6):\n",
    "                        if i != r and i != p:\n",
    "                            true[i].append(0)\n",
    "                            pred[i].append(0)\n",
    "                \n",
    "                pb = 1 if p > 3 else 0\n",
    "                rb = 1 if r > 3 else 0\n",
    "\n",
    "                top_binary_books.append(pb)\n",
    "                top_binary_ratings.append(rb)\n",
    "                \n",
    "        if matches > 0:\n",
    "            ap_1 = average_precision_score(true[1], pred[1]) if len(true[1]) > 0 else 0\n",
    "            ap_2 = average_precision_score(true[2], pred[2]) if len(true[2]) > 0 else 0\n",
    "            ap_3 = average_precision_score(true[3], pred[3]) if len(true[3]) > 0 else 0\n",
    "            ap_4 = average_precision_score(true[4], pred[4]) if len(true[4]) > 0 else 0\n",
    "            ap_5 = average_precision_score(true[5], pred[5]) if len(true[5]) > 0 else 0\n",
    "            weighted_ap = len(true[1])/matches * ap_1 + len(true[2])/matches * ap_2 + len(true[3])/matches * ap_3 + len(true[4])/matches * ap_4 + len(true[5])/matches * ap_5\n",
    "            if np.isnan(weighted_ap):\n",
    "                weighted_ap = 0\n",
    "            aps.append(weighted_ap)\n",
    "            \n",
    "            b_ap = average_precision_score(top_binary_ratings, top_binary_books)\n",
    "            if np.isnan(b_ap):\n",
    "                b_ap = 0\n",
    "            binary_aps.append(b_ap)\n",
    "            \n",
    "        else:\n",
    "            not_scored.append(u)\n",
    "        if counter % 500 == 0:\n",
    "            print(str(counter), 'users evaluated')\n",
    "        counter += 1\n",
    "\n",
    "    mAP = np.asarray(aps).mean()\n",
    "    binary_mAP = np.asarray(binary_aps).mean()\n",
    "    return aps, mAP, binary_mAP, binary_aps, len(not_scored)"
   ]
  },
  {
   "cell_type": "code",
   "execution_count": 164,
   "metadata": {},
   "outputs": [
    {
     "data": {
      "text/plain": [
       "array([[   117,     26,  15642,  15774,   5601],\n",
       "       [   118,     23,  40041,  54725,  13462],\n",
       "       [   122,     14,  91987, 243827,  74913],\n",
       "       [    61,      3,  59203, 356146, 226443],\n",
       "       [    37,      2,  17270, 183625, 393610]], dtype=int64)"
      ]
     },
     "execution_count": 164,
     "metadata": {},
     "output_type": "execute_result"
    }
   ],
   "source": [
    "from sklearn.metrics import confusion_matrix\n",
    "confusion_matrix(y_test_5, y_pred_mul)\n"
   ]
  },
  {
   "cell_type": "code",
   "execution_count": 166,
   "metadata": {},
   "outputs": [
    {
     "data": {
      "text/plain": [
       "0.39480199057643534"
      ]
     },
     "execution_count": 166,
     "metadata": {},
     "output_type": "execute_result"
    }
   ],
   "source": [
    "from sklearn import metrics\n",
    "metrics.precision_score(y_test_5, y_pred_mul, average='macro')"
   ]
  },
  {
   "cell_type": "code",
   "execution_count": 167,
   "metadata": {},
   "outputs": [
    {
     "data": {
      "text/plain": [
       "0.469593237810075"
      ]
     },
     "execution_count": 167,
     "metadata": {},
     "output_type": "execute_result"
    }
   ],
   "source": [
    "metrics.recall_score(y_test_5, y_pred_mul, average='micro')"
   ]
  },
  {
   "cell_type": "code",
   "execution_count": null,
   "metadata": {
    "collapsed": true
   },
   "outputs": [],
   "source": []
  },
  {
   "cell_type": "markdown",
   "metadata": {},
   "source": [
    "# logistic for like and dislike classification"
   ]
  },
  {
   "cell_type": "code",
   "execution_count": 56,
   "metadata": {
    "collapsed": true
   },
   "outputs": [],
   "source": [
    "logreg = LogisticRegression()"
   ]
  },
  {
   "cell_type": "code",
   "execution_count": 57,
   "metadata": {},
   "outputs": [
    {
     "data": {
      "text/plain": [
       "LogisticRegression(C=1.0, class_weight=None, dual=False, fit_intercept=True,\n",
       "          intercept_scaling=1, max_iter=100, multi_class='ovr', n_jobs=1,\n",
       "          penalty='l2', random_state=None, solver='liblinear', tol=0.0001,\n",
       "          verbose=0, warm_start=False)"
      ]
     },
     "execution_count": 57,
     "metadata": {},
     "output_type": "execute_result"
    }
   ],
   "source": [
    "logreg.fit(X_train, y_train)"
   ]
  },
  {
   "cell_type": "code",
   "execution_count": 58,
   "metadata": {
    "collapsed": true
   },
   "outputs": [],
   "source": [
    "import pickle\n",
    "filename = 'C:/Users/manoj/Desktop/deep_learning/final_project/book/logistic_binary.h5'\n",
    "pickle.dump(logreg_mul, open(filename, 'wb'))"
   ]
  },
  {
   "cell_type": "code",
   "execution_count": 36,
   "metadata": {
    "collapsed": true
   },
   "outputs": [],
   "source": [
    "y_test = test_data.apply(lambda x:1 if x['rating']>3 else 0, axis=1)"
   ]
  },
  {
   "cell_type": "code",
   "execution_count": 37,
   "metadata": {
    "collapsed": true
   },
   "outputs": [],
   "source": [
    "X_test = test_data.drop(['user_id', 'book_id', 'rating'], axis=1)"
   ]
  },
  {
   "cell_type": "code",
   "execution_count": 38,
   "metadata": {},
   "outputs": [
    {
     "data": {
      "text/html": [
       "<div>\n",
       "<style>\n",
       "    .dataframe thead tr:only-child th {\n",
       "        text-align: right;\n",
       "    }\n",
       "\n",
       "    .dataframe thead th {\n",
       "        text-align: left;\n",
       "    }\n",
       "\n",
       "    .dataframe tbody tr th {\n",
       "        vertical-align: top;\n",
       "    }\n",
       "</style>\n",
       "<table border=\"1\" class=\"dataframe\">\n",
       "  <thead>\n",
       "    <tr style=\"text-align: right;\">\n",
       "      <th></th>\n",
       "      <th>avg_rating</th>\n",
       "      <th>0_x</th>\n",
       "      <th>1_x</th>\n",
       "      <th>2_x</th>\n",
       "      <th>3_x</th>\n",
       "      <th>4_x</th>\n",
       "      <th>5_x</th>\n",
       "      <th>6_x</th>\n",
       "      <th>7_x</th>\n",
       "      <th>8_x</th>\n",
       "      <th>...</th>\n",
       "      <th>15_y</th>\n",
       "      <th>16_y</th>\n",
       "      <th>17_y</th>\n",
       "      <th>18_y</th>\n",
       "      <th>19_y</th>\n",
       "      <th>20_y</th>\n",
       "      <th>21_y</th>\n",
       "      <th>22_y</th>\n",
       "      <th>23_y</th>\n",
       "      <th>24_y</th>\n",
       "    </tr>\n",
       "  </thead>\n",
       "  <tbody>\n",
       "    <tr>\n",
       "      <th>0</th>\n",
       "      <td>4.193548</td>\n",
       "      <td>0.182297</td>\n",
       "      <td>0.030095</td>\n",
       "      <td>0.013480</td>\n",
       "      <td>0.015648</td>\n",
       "      <td>0.008251</td>\n",
       "      <td>0.024029</td>\n",
       "      <td>0.010569</td>\n",
       "      <td>0.065474</td>\n",
       "      <td>0.017790</td>\n",
       "      <td>...</td>\n",
       "      <td>0.000000</td>\n",
       "      <td>0.002823</td>\n",
       "      <td>0.000000</td>\n",
       "      <td>0.000000</td>\n",
       "      <td>0.001451</td>\n",
       "      <td>0.010203</td>\n",
       "      <td>0.006101</td>\n",
       "      <td>0.001625</td>\n",
       "      <td>0.000187</td>\n",
       "      <td>0.000000</td>\n",
       "    </tr>\n",
       "    <tr>\n",
       "      <th>1</th>\n",
       "      <td>4.418605</td>\n",
       "      <td>0.202271</td>\n",
       "      <td>0.000826</td>\n",
       "      <td>0.013064</td>\n",
       "      <td>0.000000</td>\n",
       "      <td>0.006972</td>\n",
       "      <td>0.042788</td>\n",
       "      <td>0.009791</td>\n",
       "      <td>0.006833</td>\n",
       "      <td>0.036326</td>\n",
       "      <td>...</td>\n",
       "      <td>0.000000</td>\n",
       "      <td>0.000000</td>\n",
       "      <td>0.000000</td>\n",
       "      <td>0.000000</td>\n",
       "      <td>0.000000</td>\n",
       "      <td>0.000000</td>\n",
       "      <td>0.000000</td>\n",
       "      <td>0.729505</td>\n",
       "      <td>0.000000</td>\n",
       "      <td>0.000000</td>\n",
       "    </tr>\n",
       "    <tr>\n",
       "      <th>2</th>\n",
       "      <td>4.673077</td>\n",
       "      <td>0.199032</td>\n",
       "      <td>0.000000</td>\n",
       "      <td>0.012913</td>\n",
       "      <td>0.022732</td>\n",
       "      <td>0.017535</td>\n",
       "      <td>0.062679</td>\n",
       "      <td>0.028635</td>\n",
       "      <td>0.017032</td>\n",
       "      <td>0.020711</td>\n",
       "      <td>...</td>\n",
       "      <td>0.000000</td>\n",
       "      <td>0.007510</td>\n",
       "      <td>0.000000</td>\n",
       "      <td>0.000000</td>\n",
       "      <td>0.000000</td>\n",
       "      <td>0.018864</td>\n",
       "      <td>0.000000</td>\n",
       "      <td>0.000000</td>\n",
       "      <td>0.008654</td>\n",
       "      <td>0.007507</td>\n",
       "    </tr>\n",
       "    <tr>\n",
       "      <th>3</th>\n",
       "      <td>3.500000</td>\n",
       "      <td>0.176218</td>\n",
       "      <td>0.008017</td>\n",
       "      <td>0.035940</td>\n",
       "      <td>0.016299</td>\n",
       "      <td>0.003869</td>\n",
       "      <td>0.043797</td>\n",
       "      <td>0.001564</td>\n",
       "      <td>0.040279</td>\n",
       "      <td>0.026325</td>\n",
       "      <td>...</td>\n",
       "      <td>0.000000</td>\n",
       "      <td>0.000000</td>\n",
       "      <td>0.000000</td>\n",
       "      <td>0.000000</td>\n",
       "      <td>0.004526</td>\n",
       "      <td>0.000304</td>\n",
       "      <td>0.000000</td>\n",
       "      <td>0.001580</td>\n",
       "      <td>0.000362</td>\n",
       "      <td>0.000279</td>\n",
       "    </tr>\n",
       "    <tr>\n",
       "      <th>4</th>\n",
       "      <td>3.864198</td>\n",
       "      <td>0.197760</td>\n",
       "      <td>0.054557</td>\n",
       "      <td>0.007288</td>\n",
       "      <td>0.025506</td>\n",
       "      <td>0.007168</td>\n",
       "      <td>0.056290</td>\n",
       "      <td>0.002485</td>\n",
       "      <td>0.016126</td>\n",
       "      <td>0.020709</td>\n",
       "      <td>...</td>\n",
       "      <td>0.000244</td>\n",
       "      <td>0.010929</td>\n",
       "      <td>0.000064</td>\n",
       "      <td>0.000748</td>\n",
       "      <td>0.000000</td>\n",
       "      <td>0.000508</td>\n",
       "      <td>0.000511</td>\n",
       "      <td>0.004363</td>\n",
       "      <td>0.000302</td>\n",
       "      <td>0.018874</td>\n",
       "    </tr>\n",
       "  </tbody>\n",
       "</table>\n",
       "<p>5 rows × 62 columns</p>\n",
       "</div>"
      ],
      "text/plain": [
       "   avg_rating       0_x       1_x       2_x       3_x       4_x       5_x  \\\n",
       "0    4.193548  0.182297  0.030095  0.013480  0.015648  0.008251  0.024029   \n",
       "1    4.418605  0.202271  0.000826  0.013064  0.000000  0.006972  0.042788   \n",
       "2    4.673077  0.199032  0.000000  0.012913  0.022732  0.017535  0.062679   \n",
       "3    3.500000  0.176218  0.008017  0.035940  0.016299  0.003869  0.043797   \n",
       "4    3.864198  0.197760  0.054557  0.007288  0.025506  0.007168  0.056290   \n",
       "\n",
       "        6_x       7_x       8_x    ...         15_y      16_y      17_y  \\\n",
       "0  0.010569  0.065474  0.017790    ...     0.000000  0.002823  0.000000   \n",
       "1  0.009791  0.006833  0.036326    ...     0.000000  0.000000  0.000000   \n",
       "2  0.028635  0.017032  0.020711    ...     0.000000  0.007510  0.000000   \n",
       "3  0.001564  0.040279  0.026325    ...     0.000000  0.000000  0.000000   \n",
       "4  0.002485  0.016126  0.020709    ...     0.000244  0.010929  0.000064   \n",
       "\n",
       "       18_y      19_y      20_y      21_y      22_y      23_y      24_y  \n",
       "0  0.000000  0.001451  0.010203  0.006101  0.001625  0.000187  0.000000  \n",
       "1  0.000000  0.000000  0.000000  0.000000  0.729505  0.000000  0.000000  \n",
       "2  0.000000  0.000000  0.018864  0.000000  0.000000  0.008654  0.007507  \n",
       "3  0.000000  0.004526  0.000304  0.000000  0.001580  0.000362  0.000279  \n",
       "4  0.000748  0.000000  0.000508  0.000511  0.004363  0.000302  0.018874  \n",
       "\n",
       "[5 rows x 62 columns]"
      ]
     },
     "execution_count": 38,
     "metadata": {},
     "output_type": "execute_result"
    }
   ],
   "source": [
    "X_test.head()"
   ]
  },
  {
   "cell_type": "code",
   "execution_count": 30,
   "metadata": {
    "collapsed": true
   },
   "outputs": [],
   "source": [
    "y_pred = logreg.predict(X_test)"
   ]
  },
  {
   "cell_type": "code",
   "execution_count": 31,
   "metadata": {},
   "outputs": [
    {
     "name": "stdout",
     "output_type": "stream",
     "text": [
      "Accuracy of logistic regression classifier on test set: 0.73\n"
     ]
    }
   ],
   "source": [
    "print('Accuracy of logistic regression classifier on test set: {:.2f}'.format(logreg.score(X_test, y_test)))"
   ]
  },
  {
   "cell_type": "code",
   "execution_count": 68,
   "metadata": {
    "collapsed": true
   },
   "outputs": [],
   "source": [
    "probability = logreg.predict_proba(X_test)"
   ]
  },
  {
   "cell_type": "code",
   "execution_count": 90,
   "metadata": {},
   "outputs": [
    {
     "data": {
      "text/plain": [
       "array([[0.23753886, 0.76246114],\n",
       "       [0.18549318, 0.81450682],\n",
       "       [0.10486548, 0.89513452],\n",
       "       ...,\n",
       "       [0.13652356, 0.86347644],\n",
       "       [0.20529486, 0.79470514],\n",
       "       [0.60862731, 0.39137269]])"
      ]
     },
     "execution_count": 90,
     "metadata": {},
     "output_type": "execute_result"
    }
   ],
   "source": [
    "probability"
   ]
  },
  {
   "cell_type": "code",
   "execution_count": 84,
   "metadata": {
    "collapsed": true
   },
   "outputs": [],
   "source": [
    "class_1_prob=probability[:,0]"
   ]
  },
  {
   "cell_type": "code",
   "execution_count": 85,
   "metadata": {
    "collapsed": true
   },
   "outputs": [],
   "source": [
    "class_2_prob= probability[:,1]"
   ]
  },
  {
   "cell_type": "code",
   "execution_count": 88,
   "metadata": {
    "collapsed": true
   },
   "outputs": [],
   "source": [
    "from numpy import maximum\n",
    "\n",
    "result = maximum(class_1_prob,class_2_prob)"
   ]
  },
  {
   "cell_type": "code",
   "execution_count": 89,
   "metadata": {},
   "outputs": [
    {
     "data": {
      "text/plain": [
       "array([0.76246114, 0.81450682, 0.89513452, ..., 0.86347644, 0.79470514,\n",
       "       0.60862731])"
      ]
     },
     "execution_count": 89,
     "metadata": {},
     "output_type": "execute_result"
    }
   ],
   "source": [
    "result"
   ]
  },
  {
   "cell_type": "code",
   "execution_count": 81,
   "metadata": {},
   "outputs": [
    {
     "data": {
      "text/plain": [
       "0.7330677513063423"
      ]
     },
     "execution_count": 81,
     "metadata": {},
     "output_type": "execute_result"
    }
   ],
   "source": [
    "logreg.score(X_test, y_test)"
   ]
  },
  {
   "cell_type": "code",
   "execution_count": 67,
   "metadata": {},
   "outputs": [
    {
     "ename": "AttributeError",
     "evalue": "'numpy.ndarray' object has no attribute 'head'",
     "output_type": "error",
     "traceback": [
      "\u001b[1;31m---------------------------------------------------------------------------\u001b[0m",
      "\u001b[1;31mAttributeError\u001b[0m                            Traceback (most recent call last)",
      "\u001b[1;32m<ipython-input-67-9fa3b7fccdbd>\u001b[0m in \u001b[0;36m<module>\u001b[1;34m()\u001b[0m\n\u001b[1;32m----> 1\u001b[1;33m \u001b[0mprobability\u001b[0m\u001b[1;33m.\u001b[0m\u001b[0mhead\u001b[0m\u001b[1;33m(\u001b[0m\u001b[1;33m)\u001b[0m\u001b[1;33m\u001b[0m\u001b[0m\n\u001b[0m",
      "\u001b[1;31mAttributeError\u001b[0m: 'numpy.ndarray' object has no attribute 'head'"
     ]
    }
   ],
   "source": [
    "\n"
   ]
  },
  {
   "cell_type": "code",
   "execution_count": 38,
   "metadata": {
    "collapsed": true
   },
   "outputs": [],
   "source": [
    "evaluation_data = test_data[['user_id', 'book_id', 'rating']].copy()\n",
    "evaluation_data['prediction']=y_pred"
   ]
  },
  {
   "cell_type": "code",
   "execution_count": 40,
   "metadata": {
    "collapsed": true
   },
   "outputs": [],
   "source": [
    "evaluation_data['binary_rating']=y_test"
   ]
  },
  {
   "cell_type": "code",
   "execution_count": 91,
   "metadata": {
    "collapsed": true
   },
   "outputs": [],
   "source": [
    "evaluation_data['pred_proba']= result"
   ]
  },
  {
   "cell_type": "code",
   "execution_count": 92,
   "metadata": {},
   "outputs": [
    {
     "data": {
      "text/html": [
       "<div>\n",
       "<style>\n",
       "    .dataframe thead tr:only-child th {\n",
       "        text-align: right;\n",
       "    }\n",
       "\n",
       "    .dataframe thead th {\n",
       "        text-align: left;\n",
       "    }\n",
       "\n",
       "    .dataframe tbody tr th {\n",
       "        vertical-align: top;\n",
       "    }\n",
       "</style>\n",
       "<table border=\"1\" class=\"dataframe\">\n",
       "  <thead>\n",
       "    <tr style=\"text-align: right;\">\n",
       "      <th></th>\n",
       "      <th>user_id</th>\n",
       "      <th>book_id</th>\n",
       "      <th>rating</th>\n",
       "      <th>prediction</th>\n",
       "      <th>binary_rating</th>\n",
       "      <th>pred_proba</th>\n",
       "    </tr>\n",
       "  </thead>\n",
       "  <tbody>\n",
       "    <tr>\n",
       "      <th>0</th>\n",
       "      <td>18218</td>\n",
       "      <td>920</td>\n",
       "      <td>3</td>\n",
       "      <td>1</td>\n",
       "      <td>0</td>\n",
       "      <td>0.762461</td>\n",
       "    </tr>\n",
       "    <tr>\n",
       "      <th>1</th>\n",
       "      <td>34091</td>\n",
       "      <td>967</td>\n",
       "      <td>4</td>\n",
       "      <td>1</td>\n",
       "      <td>1</td>\n",
       "      <td>0.814507</td>\n",
       "    </tr>\n",
       "    <tr>\n",
       "      <th>2</th>\n",
       "      <td>41266</td>\n",
       "      <td>71</td>\n",
       "      <td>5</td>\n",
       "      <td>1</td>\n",
       "      <td>1</td>\n",
       "      <td>0.895135</td>\n",
       "    </tr>\n",
       "    <tr>\n",
       "      <th>3</th>\n",
       "      <td>47336</td>\n",
       "      <td>760</td>\n",
       "      <td>5</td>\n",
       "      <td>1</td>\n",
       "      <td>1</td>\n",
       "      <td>0.630520</td>\n",
       "    </tr>\n",
       "    <tr>\n",
       "      <th>4</th>\n",
       "      <td>20893</td>\n",
       "      <td>453</td>\n",
       "      <td>3</td>\n",
       "      <td>1</td>\n",
       "      <td>0</td>\n",
       "      <td>0.625717</td>\n",
       "    </tr>\n",
       "  </tbody>\n",
       "</table>\n",
       "</div>"
      ],
      "text/plain": [
       "  user_id  book_id  rating  prediction  binary_rating  pred_proba\n",
       "0   18218      920       3           1              0    0.762461\n",
       "1   34091      967       4           1              1    0.814507\n",
       "2   41266       71       5           1              1    0.895135\n",
       "3   47336      760       5           1              1    0.630520\n",
       "4   20893      453       3           1              0    0.625717"
      ]
     },
     "execution_count": 92,
     "metadata": {},
     "output_type": "execute_result"
    }
   ],
   "source": [
    "evaluation_data.head()"
   ]
  },
  {
   "cell_type": "code",
   "execution_count": 45,
   "metadata": {},
   "outputs": [
    {
     "name": "stdout",
     "output_type": "stream",
     "text": [
      "[[ 204268  352124]\n",
      " [ 126430 1109970]]\n"
     ]
    }
   ],
   "source": [
    "print(cfm)"
   ]
  },
  {
   "cell_type": "code",
   "execution_count": 46,
   "metadata": {},
   "outputs": [
    {
     "name": "stdout",
     "output_type": "stream",
     "text": [
      "0.7591645954364084 0.8977434487220964\n"
     ]
    }
   ],
   "source": [
    "print(p, r)"
   ]
  },
  {
   "cell_type": "code",
   "execution_count": 93,
   "metadata": {},
   "outputs": [
    {
     "name": "stdout",
     "output_type": "stream",
     "text": [
      "0 users evaluated\n",
      "500 users evaluated\n",
      "1000 users evaluated\n"
     ]
    },
    {
     "name": "stderr",
     "output_type": "stream",
     "text": [
      "C:\\Users\\manoj\\Anaconda3\\lib\\site-packages\\sklearn\\metrics\\ranking.py:444: RuntimeWarning: invalid value encountered in true_divide\n",
      "  recall = tps / tps[-1]\n"
     ]
    },
    {
     "name": "stdout",
     "output_type": "stream",
     "text": [
      "1500 users evaluated\n",
      "2000 users evaluated\n",
      "2500 users evaluated\n",
      "3000 users evaluated\n",
      "3500 users evaluated\n",
      "4000 users evaluated\n",
      "4500 users evaluated\n",
      "5000 users evaluated\n",
      "5500 users evaluated\n",
      "6000 users evaluated\n",
      "6500 users evaluated\n",
      "7000 users evaluated\n",
      "7500 users evaluated\n",
      "8000 users evaluated\n",
      "8500 users evaluated\n",
      "9000 users evaluated\n",
      "9500 users evaluated\n",
      "10000 users evaluated\n",
      "10500 users evaluated\n",
      "11000 users evaluated\n",
      "11500 users evaluated\n",
      "12000 users evaluated\n",
      "12500 users evaluated\n",
      "13000 users evaluated\n",
      "13500 users evaluated\n",
      "14000 users evaluated\n",
      "14500 users evaluated\n",
      "15000 users evaluated\n",
      "15500 users evaluated\n",
      "16000 users evaluated\n",
      "16500 users evaluated\n",
      "17000 users evaluated\n",
      "17500 users evaluated\n",
      "18000 users evaluated\n",
      "18500 users evaluated\n",
      "19000 users evaluated\n",
      "19500 users evaluated\n",
      "20000 users evaluated\n",
      "20500 users evaluated\n",
      "21000 users evaluated\n",
      "21500 users evaluated\n",
      "22000 users evaluated\n",
      "22500 users evaluated\n",
      "23000 users evaluated\n",
      "23500 users evaluated\n",
      "24000 users evaluated\n",
      "24500 users evaluated\n",
      "25000 users evaluated\n",
      "25500 users evaluated\n",
      "26000 users evaluated\n",
      "26500 users evaluated\n",
      "27000 users evaluated\n",
      "27500 users evaluated\n",
      "28000 users evaluated\n",
      "28500 users evaluated\n",
      "29000 users evaluated\n",
      "29500 users evaluated\n",
      "30000 users evaluated\n",
      "30500 users evaluated\n",
      "31000 users evaluated\n",
      "31500 users evaluated\n",
      "32000 users evaluated\n",
      "32500 users evaluated\n",
      "33000 users evaluated\n",
      "33500 users evaluated\n",
      "34000 users evaluated\n",
      "34500 users evaluated\n",
      "35000 users evaluated\n",
      "35500 users evaluated\n",
      "36000 users evaluated\n",
      "36500 users evaluated\n",
      "37000 users evaluated\n",
      "37500 users evaluated\n",
      "38000 users evaluated\n",
      "38500 users evaluated\n",
      "39000 users evaluated\n",
      "39500 users evaluated\n",
      "40000 users evaluated\n",
      "40500 users evaluated\n",
      "41000 users evaluated\n",
      "41500 users evaluated\n",
      "42000 users evaluated\n",
      "42500 users evaluated\n",
      "43000 users evaluated\n",
      "43500 users evaluated\n",
      "44000 users evaluated\n",
      "44500 users evaluated\n",
      "45000 users evaluated\n",
      "45500 users evaluated\n",
      "46000 users evaluated\n",
      "46500 users evaluated\n",
      "47000 users evaluated\n",
      "47500 users evaluated\n",
      "48000 users evaluated\n",
      "48500 users evaluated\n",
      "49000 users evaluated\n",
      "49500 users evaluated\n",
      "50000 users evaluated\n",
      "50500 users evaluated\n",
      "51000 users evaluated\n",
      "51500 users evaluated\n",
      "52000 users evaluated\n",
      "52500 users evaluated\n",
      "53000 users evaluated\n"
     ]
    }
   ],
   "source": [
    "mAP, n = top_10_binary_results(evaluation_data)"
   ]
  },
  {
   "cell_type": "code",
   "execution_count": 94,
   "metadata": {},
   "outputs": [
    {
     "name": "stdout",
     "output_type": "stream",
     "text": [
      "0.6467533006913909 0\n"
     ]
    }
   ],
   "source": [
    "print(mAP, n)"
   ]
  },
  {
   "cell_type": "code",
   "execution_count": 42,
   "metadata": {
    "collapsed": true
   },
   "outputs": [],
   "source": []
  },
  {
   "cell_type": "code",
   "execution_count": 50,
   "metadata": {
    "collapsed": true
   },
   "outputs": [],
   "source": [
    "from sklearn.metrics import average_precision_score, confusion_matrix, recall_score, precision_score\n",
    "import numpy as np\n",
    "\n",
    "\n",
    "def replay_binary_results(evaluation_data):\n",
    "    \"\"\"\n",
    "    To be used for predictions for the books rated in the test set.\n",
    "    Parameter\n",
    "    ---------\n",
    "    evaluation_data: pd.DataFrame\n",
    "        Expected columns: prediction, binary_rating\n",
    "        prediction is the predicted class (0/1)\n",
    "        binary_rating is the binarized ratings where [1, 2, 3] -> 0, [4, 5] -> 1\n",
    "    Returns\n",
    "    -------\n",
    "    Confusion matrix, precision and recall\n",
    "    \"\"\"\n",
    "    cfm = confusion_matrix(evaluation_data['binary_rating'], evaluation_data['prediction'])\n",
    "    precision = precision_score(evaluation_data['binary_rating'], evaluation_data['prediction'])\n",
    "    recall = recall_score(evaluation_data['binary_rating'], evaluation_data['prediction'])\n",
    "    return cfm, precision, recall\n",
    "\n",
    "\n",
    "def replay_5star_results(evaluation_data):\n",
    "    \"\"\"\n",
    "    To be used for predictions for the books rated in the test set.\n",
    "    Parameter\n",
    "    ---------\n",
    "    evaluation_data: pd.DataFrame\n",
    "        Expected columns: prediction, rating\n",
    "        prediction is the predicted class (1-5)\n",
    "        rating is original rating\n",
    "    Returns\n",
    "    -------\n",
    "    Confusion matrix, precision and recall\n",
    "    \"\"\"\n",
    "    cfm = confusion_matrix(evaluation_data['rating'], evaluation_data['prediction'])\n",
    "    precision = precision_score(evaluation_data['rating'], evaluation_data['prediction'], average='weighted')\n",
    "    recall = recall_score(evaluation_data['rating'], evaluation_data['prediction'], average='weighted')\n",
    "    return cfm, precision, recall\n",
    "\n",
    "\n",
    "def top_n_binary_results(evaluation_data, n=10):\n",
    "    \"\"\"\n",
    "    Evaluates the top 10 recommendations for each user.\n",
    "    To be used for predictions for all books not in the user's training data.\n",
    "    Parameter\n",
    "    ---------\n",
    "    evaluation_data: pd.DataFrame\n",
    "        Expected columns: user_id, book_id, pred_proba, prediction, binary_rating\n",
    "        pred_proba is the probability of being a 1\n",
    "        prediction is the predicted class (0/1)\n",
    "        binary_rating is the binarized ratings where [1, 2, 3] -> 0, [4, 5] -> 1\n",
    "    Returns\n",
    "    -------\n",
    "    The mAP and the number of users who had no historic rating data for any of their predicted top 10\n",
    "    \"\"\"\n",
    "    users = list(set(evaluation_data['user_id'].tolist()))\n",
    "\n",
    "    aps = []\n",
    "    not_scored = []\n",
    "    counter = 0\n",
    "    for u in users:\n",
    "        results = evaluation_data[evaluation_data['user_id'] == u]\n",
    "        books = results['book_id'].tolist()\n",
    "        probs = np.asarray(results['pred_proba'])\n",
    "        top_10 = np.argsort(probs)[:n]\n",
    "        top_books = []\n",
    "        top_ratings = []\n",
    "        for i in top_10:\n",
    "            rating = results[results['book_id'] == books[i]]['binary_rating'].values\n",
    "            if rating >= 0:\n",
    "                top_books.append(results[results['book_id'] == books[i]]['prediction'].values)\n",
    "                top_ratings.append(results[results['book_id'] == books[i]]['binary_rating'].values)\n",
    "        if len(top_ratings) > 0:\n",
    "            ap = average_precision_score(np.array(top_ratings), np.array(top_books))\n",
    "            if np.isnan(ap):\n",
    "                aps.append(0)\n",
    "            else:\n",
    "                aps.append(ap)\n",
    "        else:\n",
    "            not_scored.append(u)\n",
    "\n",
    "        if counter % 500 == 0:\n",
    "            print(str(counter), 'users evaluated')\n",
    "        counter +=1\n",
    "\n",
    "    mAP = np.asarray(aps).mean()\n",
    "    return mAP, len(not_scored)\n",
    "\n",
    "\n",
    "\n",
    "def top_n_5star_results(evaluation_data, n=10):\n",
    "    \"\"\"\n",
    "    Evaluates the top 10 recommendations for each user.\n",
    "    To be used for predictions for all books not in the user's training data.\n",
    "    Parameter\n",
    "    ---------\n",
    "    evaluation_data: pd.DataFrame\n",
    "        Expected columns: user_id, book_id, pred_proba, prediction, binary_rating\n",
    "        pred_proba is the probability of being a 5\n",
    "        prediction is the predicted class (1-5)\n",
    "        rating is the original rating\n",
    "    Returns\n",
    "    -------\n",
    "    The mAP and the number of users who had no historic rating data for any of their predicted top 10.\n",
    "    Also calculates mAP for whether or not the user enjoyed the book (4 or 5).\n",
    "    \"\"\"\n",
    "    users = list(set(evaluation_data['user_id'].tolist()))\n",
    "\n",
    "    aps = []\n",
    "    binary_aps = []\n",
    "    not_scored = []\n",
    "    counter = 0\n",
    "    for u in users:\n",
    "        results = evaluation_data[evaluation_data['user_id'] == u]\n",
    "        books = results['book_id'].tolist()\n",
    "        probs = np.asarray(results['pred_proba'])\n",
    "        top_10 = np.argsort(probs)[:n]\n",
    "        true = {1: [], 2: [], 3: [], 4: [], 5: []}\n",
    "        pred = {1: [], 2: [], 3: [], 4: [], 5: []}\n",
    "        top_binary_books = []\n",
    "        top_binary_ratings = []\n",
    "        matches = 0\n",
    "        for i in top_10:\n",
    "            rating = results[results['book_id'] == books[i]]['rating'].values\n",
    "            \n",
    "            if rating > 0:\n",
    "                matches += 1\n",
    "                p = int(results[results['book_id'] == books[i]]['prediction'].values)\n",
    "                r = int(results[results['book_id'] == books[i]]['rating'].values)\n",
    "                if p == r:\n",
    "                    true[r].append(1)\n",
    "                    pred[r].append(1)\n",
    "                    for i in range(1, 6):\n",
    "                        if i != r:\n",
    "                            true[i].append(0)\n",
    "                            pred[i].append(0)\n",
    "                else:\n",
    "                    true[r].append(1)\n",
    "                    pred[r].append(0)\n",
    "                    true[p].append(0)\n",
    "                    pred[p].append(1)\n",
    "                    for i in range(1, 6):\n",
    "                        if i != r and i != p:\n",
    "                            true[i].append(0)\n",
    "                            pred[i].append(0)\n",
    "                \n",
    "                pb = 1 if p > 3 else 0\n",
    "                rb = 1 if r > 3 else 0\n",
    "\n",
    "                top_binary_books.append(pb)\n",
    "                top_binary_ratings.append(rb)\n",
    "                \n",
    "        if matches > 0:\n",
    "            ap_1 = average_precision_score(true[1], pred[1]) if len(true[1]) > 0 else 0\n",
    "            ap_2 = average_precision_score(true[2], pred[2]) if len(true[2]) > 0 else 0\n",
    "            ap_3 = average_precision_score(true[3], pred[3]) if len(true[3]) > 0 else 0\n",
    "            ap_4 = average_precision_score(true[4], pred[4]) if len(true[4]) > 0 else 0\n",
    "            ap_5 = average_precision_score(true[5], pred[5]) if len(true[5]) > 0 else 0\n",
    "            weighted_ap = len(true[1])/matches * ap_1 + len(true[2])/matches * ap_2 + len(true[3])/matches * ap_3 + len(true[4])/matches * ap_4 + len(true[5])/matches * ap_5\n",
    "            if np.isnan(weighted_ap):\n",
    "                weighted_ap = 0\n",
    "            aps.append(weighted_ap)\n",
    "            \n",
    "            b_ap = average_precision_score(top_binary_ratings, top_binary_books)\n",
    "            if np.isnan(b_ap):\n",
    "                b_ap = 0\n",
    "            binary_aps.append(b_ap)\n",
    "            \n",
    "        else:\n",
    "            not_scored.append(u)\n",
    "        if counter % 500 == 0:\n",
    "            print(str(counter), 'users evaluated')\n",
    "        counter += 1\n",
    "\n",
    "    mAP = np.asarray(aps).mean()\n",
    "    binary_mAP = np.asarray(binary_aps).mean()\n",
    "    return aps, mAP, binary_mAP, binary_aps, len(not_scored)"
   ]
  },
  {
   "cell_type": "markdown",
   "metadata": {
    "collapsed": true
   },
   "source": [
    "# Cold Start"
   ]
  },
  {
   "cell_type": "code",
   "execution_count": 60,
   "metadata": {},
   "outputs": [],
   "source": [
    "cold_start_user = pd.DataFrame(np.zeros((10000, 26)))"
   ]
  },
  {
   "cell_type": "code",
   "execution_count": 61,
   "metadata": {
    "collapsed": true
   },
   "outputs": [],
   "source": [
    "cold_start_data = cold_start_user.merge(book_features.drop('book_id', axis=1), left_index=True, right_index=True)"
   ]
  },
  {
   "cell_type": "code",
   "execution_count": 62,
   "metadata": {},
   "outputs": [
    {
     "data": {
      "text/html": [
       "<div>\n",
       "<style>\n",
       "    .dataframe thead tr:only-child th {\n",
       "        text-align: right;\n",
       "    }\n",
       "\n",
       "    .dataframe thead th {\n",
       "        text-align: left;\n",
       "    }\n",
       "\n",
       "    .dataframe tbody tr th {\n",
       "        vertical-align: top;\n",
       "    }\n",
       "</style>\n",
       "<table border=\"1\" class=\"dataframe\">\n",
       "  <thead>\n",
       "    <tr style=\"text-align: right;\">\n",
       "      <th></th>\n",
       "      <th>0</th>\n",
       "      <th>1</th>\n",
       "      <th>2</th>\n",
       "      <th>3</th>\n",
       "      <th>4</th>\n",
       "      <th>5</th>\n",
       "      <th>6</th>\n",
       "      <th>7</th>\n",
       "      <th>8</th>\n",
       "      <th>9</th>\n",
       "      <th>...</th>\n",
       "      <th>15</th>\n",
       "      <th>16</th>\n",
       "      <th>17</th>\n",
       "      <th>18</th>\n",
       "      <th>19</th>\n",
       "      <th>20</th>\n",
       "      <th>21</th>\n",
       "      <th>22</th>\n",
       "      <th>23</th>\n",
       "      <th>24</th>\n",
       "    </tr>\n",
       "  </thead>\n",
       "  <tbody>\n",
       "    <tr>\n",
       "      <th>0</th>\n",
       "      <td>0.0</td>\n",
       "      <td>0.0</td>\n",
       "      <td>0.0</td>\n",
       "      <td>0.0</td>\n",
       "      <td>0.0</td>\n",
       "      <td>0.0</td>\n",
       "      <td>0.0</td>\n",
       "      <td>0.0</td>\n",
       "      <td>0.0</td>\n",
       "      <td>0.0</td>\n",
       "      <td>...</td>\n",
       "      <td>0.000000</td>\n",
       "      <td>0.000000</td>\n",
       "      <td>0.000000</td>\n",
       "      <td>0.000668</td>\n",
       "      <td>0.00000</td>\n",
       "      <td>0.0</td>\n",
       "      <td>0.0</td>\n",
       "      <td>0.000000</td>\n",
       "      <td>0.009848</td>\n",
       "      <td>0.000000</td>\n",
       "    </tr>\n",
       "    <tr>\n",
       "      <th>1</th>\n",
       "      <td>0.0</td>\n",
       "      <td>0.0</td>\n",
       "      <td>0.0</td>\n",
       "      <td>0.0</td>\n",
       "      <td>0.0</td>\n",
       "      <td>0.0</td>\n",
       "      <td>0.0</td>\n",
       "      <td>0.0</td>\n",
       "      <td>0.0</td>\n",
       "      <td>0.0</td>\n",
       "      <td>...</td>\n",
       "      <td>0.000000</td>\n",
       "      <td>0.000000</td>\n",
       "      <td>0.000000</td>\n",
       "      <td>0.000000</td>\n",
       "      <td>0.00000</td>\n",
       "      <td>0.0</td>\n",
       "      <td>0.0</td>\n",
       "      <td>0.000000</td>\n",
       "      <td>0.000000</td>\n",
       "      <td>0.000000</td>\n",
       "    </tr>\n",
       "    <tr>\n",
       "      <th>2</th>\n",
       "      <td>0.0</td>\n",
       "      <td>0.0</td>\n",
       "      <td>0.0</td>\n",
       "      <td>0.0</td>\n",
       "      <td>0.0</td>\n",
       "      <td>0.0</td>\n",
       "      <td>0.0</td>\n",
       "      <td>0.0</td>\n",
       "      <td>0.0</td>\n",
       "      <td>0.0</td>\n",
       "      <td>...</td>\n",
       "      <td>0.000000</td>\n",
       "      <td>0.000000</td>\n",
       "      <td>0.026678</td>\n",
       "      <td>0.000000</td>\n",
       "      <td>0.00000</td>\n",
       "      <td>0.0</td>\n",
       "      <td>0.0</td>\n",
       "      <td>0.000000</td>\n",
       "      <td>0.007945</td>\n",
       "      <td>0.000000</td>\n",
       "    </tr>\n",
       "    <tr>\n",
       "      <th>3</th>\n",
       "      <td>0.0</td>\n",
       "      <td>0.0</td>\n",
       "      <td>0.0</td>\n",
       "      <td>0.0</td>\n",
       "      <td>0.0</td>\n",
       "      <td>0.0</td>\n",
       "      <td>0.0</td>\n",
       "      <td>0.0</td>\n",
       "      <td>0.0</td>\n",
       "      <td>0.0</td>\n",
       "      <td>...</td>\n",
       "      <td>0.002680</td>\n",
       "      <td>0.000000</td>\n",
       "      <td>0.000000</td>\n",
       "      <td>0.009918</td>\n",
       "      <td>0.04148</td>\n",
       "      <td>0.0</td>\n",
       "      <td>0.0</td>\n",
       "      <td>0.000847</td>\n",
       "      <td>0.021077</td>\n",
       "      <td>0.031681</td>\n",
       "    </tr>\n",
       "    <tr>\n",
       "      <th>4</th>\n",
       "      <td>0.0</td>\n",
       "      <td>0.0</td>\n",
       "      <td>0.0</td>\n",
       "      <td>0.0</td>\n",
       "      <td>0.0</td>\n",
       "      <td>0.0</td>\n",
       "      <td>0.0</td>\n",
       "      <td>0.0</td>\n",
       "      <td>0.0</td>\n",
       "      <td>0.0</td>\n",
       "      <td>...</td>\n",
       "      <td>0.011253</td>\n",
       "      <td>0.000036</td>\n",
       "      <td>0.000000</td>\n",
       "      <td>0.000000</td>\n",
       "      <td>0.00000</td>\n",
       "      <td>0.0</td>\n",
       "      <td>0.0</td>\n",
       "      <td>0.000000</td>\n",
       "      <td>0.000000</td>\n",
       "      <td>0.000000</td>\n",
       "    </tr>\n",
       "  </tbody>\n",
       "</table>\n",
       "<p>5 rows × 62 columns</p>\n",
       "</div>"
      ],
      "text/plain": [
       "     0    1    2    3    4    5    6    7    8    9    ...           15  \\\n",
       "0  0.0  0.0  0.0  0.0  0.0  0.0  0.0  0.0  0.0  0.0    ...     0.000000   \n",
       "1  0.0  0.0  0.0  0.0  0.0  0.0  0.0  0.0  0.0  0.0    ...     0.000000   \n",
       "2  0.0  0.0  0.0  0.0  0.0  0.0  0.0  0.0  0.0  0.0    ...     0.000000   \n",
       "3  0.0  0.0  0.0  0.0  0.0  0.0  0.0  0.0  0.0  0.0    ...     0.002680   \n",
       "4  0.0  0.0  0.0  0.0  0.0  0.0  0.0  0.0  0.0  0.0    ...     0.011253   \n",
       "\n",
       "         16        17        18       19   20   21        22        23  \\\n",
       "0  0.000000  0.000000  0.000668  0.00000  0.0  0.0  0.000000  0.009848   \n",
       "1  0.000000  0.000000  0.000000  0.00000  0.0  0.0  0.000000  0.000000   \n",
       "2  0.000000  0.026678  0.000000  0.00000  0.0  0.0  0.000000  0.007945   \n",
       "3  0.000000  0.000000  0.009918  0.04148  0.0  0.0  0.000847  0.021077   \n",
       "4  0.000036  0.000000  0.000000  0.00000  0.0  0.0  0.000000  0.000000   \n",
       "\n",
       "         24  \n",
       "0  0.000000  \n",
       "1  0.000000  \n",
       "2  0.000000  \n",
       "3  0.031681  \n",
       "4  0.000000  \n",
       "\n",
       "[5 rows x 62 columns]"
      ]
     },
     "execution_count": 62,
     "metadata": {},
     "output_type": "execute_result"
    }
   ],
   "source": [
    "cold_start_data.head()"
   ]
  },
  {
   "cell_type": "code",
   "execution_count": 67,
   "metadata": {},
   "outputs": [],
   "source": [
    "binary_model = pickle.load(open('C:/Users/manoj/Desktop/deep_learning/final_project/book/logistic_binary.h5', 'rb'))"
   ]
  },
  {
   "cell_type": "code",
   "execution_count": 69,
   "metadata": {},
   "outputs": [],
   "source": [
    "predictions = binary_model.predict(cold_start_data)"
   ]
  },
  {
   "cell_type": "code",
   "execution_count": 70,
   "metadata": {},
   "outputs": [
    {
     "data": {
      "text/plain": [
       "array([1, 3, 1, ..., 3, 3, 3], dtype=int64)"
      ]
     },
     "execution_count": 70,
     "metadata": {},
     "output_type": "execute_result"
    }
   ],
   "source": [
    "predictions"
   ]
  },
  {
   "cell_type": "code",
   "execution_count": 71,
   "metadata": {
    "collapsed": true
   },
   "outputs": [],
   "source": [
    "cold_start_users = pd.read_csv('C:/Users/manoj/Desktop/deep_learning/final_project/book/cold_start_ratings_set.csv')"
   ]
  },
  {
   "cell_type": "code",
   "execution_count": 72,
   "metadata": {},
   "outputs": [
    {
     "data": {
      "text/html": [
       "<div>\n",
       "<style>\n",
       "    .dataframe thead tr:only-child th {\n",
       "        text-align: right;\n",
       "    }\n",
       "\n",
       "    .dataframe thead th {\n",
       "        text-align: left;\n",
       "    }\n",
       "\n",
       "    .dataframe tbody tr th {\n",
       "        vertical-align: top;\n",
       "    }\n",
       "</style>\n",
       "<table border=\"1\" class=\"dataframe\">\n",
       "  <thead>\n",
       "    <tr style=\"text-align: right;\">\n",
       "      <th></th>\n",
       "      <th>user_id</th>\n",
       "      <th>book_id</th>\n",
       "      <th>rating</th>\n",
       "    </tr>\n",
       "  </thead>\n",
       "  <tbody>\n",
       "    <tr>\n",
       "      <th>0</th>\n",
       "      <td>1</td>\n",
       "      <td>258</td>\n",
       "      <td>5</td>\n",
       "    </tr>\n",
       "    <tr>\n",
       "      <th>1</th>\n",
       "      <td>2</td>\n",
       "      <td>4081</td>\n",
       "      <td>4</td>\n",
       "    </tr>\n",
       "    <tr>\n",
       "      <th>2</th>\n",
       "      <td>2</td>\n",
       "      <td>260</td>\n",
       "      <td>5</td>\n",
       "    </tr>\n",
       "    <tr>\n",
       "      <th>3</th>\n",
       "      <td>2</td>\n",
       "      <td>9296</td>\n",
       "      <td>5</td>\n",
       "    </tr>\n",
       "    <tr>\n",
       "      <th>4</th>\n",
       "      <td>2</td>\n",
       "      <td>2318</td>\n",
       "      <td>3</td>\n",
       "    </tr>\n",
       "  </tbody>\n",
       "</table>\n",
       "</div>"
      ],
      "text/plain": [
       "   user_id  book_id  rating\n",
       "0        1      258       5\n",
       "1        2     4081       4\n",
       "2        2      260       5\n",
       "3        2     9296       5\n",
       "4        2     2318       3"
      ]
     },
     "execution_count": 72,
     "metadata": {},
     "output_type": "execute_result"
    }
   ],
   "source": [
    "cold_start_users.head()"
   ]
  },
  {
   "cell_type": "code",
   "execution_count": 75,
   "metadata": {},
   "outputs": [
    {
     "data": {
      "text/plain": [
       "[1, 2, 3, 4, 5]"
      ]
     },
     "execution_count": 75,
     "metadata": {},
     "output_type": "execute_result"
    }
   ],
   "source": [
    "users = list(set(cold_start_users['user_id'].tolist()))\n",
    "users"
   ]
  },
  {
   "cell_type": "code",
   "execution_count": 85,
   "metadata": {},
   "outputs": [
    {
     "data": {
      "text/html": [
       "<div>\n",
       "<style>\n",
       "    .dataframe thead tr:only-child th {\n",
       "        text-align: right;\n",
       "    }\n",
       "\n",
       "    .dataframe thead th {\n",
       "        text-align: left;\n",
       "    }\n",
       "\n",
       "    .dataframe tbody tr th {\n",
       "        vertical-align: top;\n",
       "    }\n",
       "</style>\n",
       "<table border=\"1\" class=\"dataframe\">\n",
       "  <thead>\n",
       "    <tr style=\"text-align: right;\">\n",
       "      <th></th>\n",
       "      <th>book_id</th>\n",
       "      <th>pred_proba</th>\n",
       "      <th>rating</th>\n",
       "      <th>user_id</th>\n",
       "    </tr>\n",
       "  </thead>\n",
       "  <tbody>\n",
       "    <tr>\n",
       "      <th>0</th>\n",
       "      <td>258</td>\n",
       "      <td>0.998807</td>\n",
       "      <td>5</td>\n",
       "      <td>1</td>\n",
       "    </tr>\n",
       "    <tr>\n",
       "      <th>1</th>\n",
       "      <td>268</td>\n",
       "      <td>0.999461</td>\n",
       "      <td>3</td>\n",
       "      <td>1</td>\n",
       "    </tr>\n",
       "    <tr>\n",
       "      <th>2</th>\n",
       "      <td>5556</td>\n",
       "      <td>0.999710</td>\n",
       "      <td>3</td>\n",
       "      <td>1</td>\n",
       "    </tr>\n",
       "    <tr>\n",
       "      <th>3</th>\n",
       "      <td>3638</td>\n",
       "      <td>0.999459</td>\n",
       "      <td>3</td>\n",
       "      <td>1</td>\n",
       "    </tr>\n",
       "    <tr>\n",
       "      <th>4</th>\n",
       "      <td>1796</td>\n",
       "      <td>0.999493</td>\n",
       "      <td>5</td>\n",
       "      <td>1</td>\n",
       "    </tr>\n",
       "  </tbody>\n",
       "</table>\n",
       "</div>"
      ],
      "text/plain": [
       "   book_id  pred_proba  rating  user_id\n",
       "0      258    0.998807       5        1\n",
       "1      268    0.999461       3        1\n",
       "2     5556    0.999710       3        1\n",
       "3     3638    0.999459       3        1\n",
       "4     1796    0.999493       5        1"
      ]
     },
     "execution_count": 85,
     "metadata": {},
     "output_type": "execute_result"
    }
   ],
   "source": [
    "pred_dfs = []\n",
    "users = list(set(cold_start_users['user_id'].tolist()))\n",
    "\n",
    "for index, user in enumerate(users):\n",
    "    \n",
    "    all_books = cold_start_users[cold_start_users['user_id'] == user]['book_id'].tolist()\n",
    "    idx = [b - 1 for b in all_books]\n",
    "    filter_books = cold_start_users[cold_start_users['user_id'] == user]\n",
    "    test_book_ratings = filter_books[filter_books['book_id'].isin(all_books)]['rating'].tolist()\n",
    "\n",
    "    #print(len(test_book_ratings))\n",
    "\n",
    "    raw_predictions = result[idx].reshape(1, -1)[0]\n",
    "    \n",
    "    #print(raw_predictions.shape)\n",
    "    df = pd.DataFrame({'book_id': all_books, \n",
    "                       'rating': test_book_ratings,\n",
    "                       'pred_proba': raw_predictions})\n",
    "    df['user_id'] = user\n",
    "    pred_dfs.append(df)\n",
    "    \n",
    "evaluate_df = pd.concat(pred_dfs, ignore_index=True)\n",
    "\n",
    "evaluate_df.head()"
   ]
  },
  {
   "cell_type": "code",
   "execution_count": 76,
   "metadata": {
    "collapsed": true
   },
   "outputs": [],
   "source": [
    "probability = logreg.predict_proba(cold_start_data)"
   ]
  },
  {
   "cell_type": "code",
   "execution_count": 78,
   "metadata": {},
   "outputs": [],
   "source": [
    "from numpy import maximum\n",
    "class_1_prob=probability[:,0]\n",
    "class_2_prob=probability[:,1]\n",
    "result = maximum(class_1_prob,class_2_prob)"
   ]
  },
  {
   "cell_type": "code",
   "execution_count": 86,
   "metadata": {},
   "outputs": [
    {
     "data": {
      "text/plain": [
       "1.0    491\n",
       "0.0     16\n",
       "Name: prediction, dtype: int64"
      ]
     },
     "execution_count": 86,
     "metadata": {},
     "output_type": "execute_result"
    }
   ],
   "source": [
    "evaluate_df['binary_rating'] = evaluate_df.apply(lambda x: 1 if x['rating'] > 3 else 0, axis=1)\n",
    "\n",
    "min_p = evaluate_df['pred_proba'].min()\n",
    "max_p = evaluate_df['pred_proba'].max()\n",
    "\n",
    "def scale_prediction_binary(x, min_p, max_p):\n",
    "    raw = (x - min_p) / (max_p - min_p)\n",
    "    return np.rint(raw)\n",
    "\n",
    "evaluate_df['prediction'] = evaluate_df.apply(lambda x: scale_prediction_binary(x['pred_proba'], min_p, max_p), axis=1)\n",
    "evaluate_df['prediction'].value_counts()"
   ]
  },
  {
   "cell_type": "code",
   "execution_count": 88,
   "metadata": {},
   "outputs": [
    {
     "data": {
      "text/plain": [
       "array([[  0, 220],\n",
       "       [ 16, 271]], dtype=int64)"
      ]
     },
     "execution_count": 88,
     "metadata": {},
     "output_type": "execute_result"
    }
   ],
   "source": [
    "cfm, p, r = replay_binary_results(evaluate_df)\n",
    "cfm"
   ]
  },
  {
   "cell_type": "code",
   "execution_count": 89,
   "metadata": {},
   "outputs": [
    {
     "name": "stdout",
     "output_type": "stream",
     "text": [
      "0.5519348268839104 0.9442508710801394\n"
     ]
    }
   ],
   "source": [
    "print(p, r)"
   ]
  },
  {
   "cell_type": "code",
   "execution_count": 90,
   "metadata": {},
   "outputs": [
    {
     "name": "stdout",
     "output_type": "stream",
     "text": [
      "0 users evaluated\n"
     ]
    }
   ],
   "source": [
    "mAP, skipped =top_n_binary_results(evaluate_df, 10)"
   ]
  },
  {
   "cell_type": "code",
   "execution_count": 91,
   "metadata": {},
   "outputs": [
    {
     "data": {
      "text/plain": [
       "0.7492857142857143"
      ]
     },
     "execution_count": 91,
     "metadata": {},
     "output_type": "execute_result"
    }
   ],
   "source": [
    "mAP"
   ]
  },
  {
   "cell_type": "markdown",
   "metadata": {},
   "source": [
    "# multiclass cold start"
   ]
  },
  {
   "cell_type": "code",
   "execution_count": 92,
   "metadata": {
    "collapsed": true
   },
   "outputs": [],
   "source": [
    "Multiclass_model = pickle.load(open('C:/Users/manoj/Desktop/deep_learning/final_project/book/logistic.h5', 'rb'))"
   ]
  },
  {
   "cell_type": "code",
   "execution_count": 93,
   "metadata": {
    "collapsed": true
   },
   "outputs": [],
   "source": [
    "star5_predictions = Multiclass_model.predict(cold_start_data)"
   ]
  },
  {
   "cell_type": "code",
   "execution_count": 98,
   "metadata": {},
   "outputs": [],
   "source": [
    "probability = Multiclass_model.predict_proba(cold_start_data)"
   ]
  },
  {
   "cell_type": "code",
   "execution_count": 111,
   "metadata": {},
   "outputs": [
    {
     "data": {
      "text/plain": [
       "(10000,)"
      ]
     },
     "execution_count": 111,
     "metadata": {},
     "output_type": "execute_result"
    }
   ],
   "source": [
    "star5_predictions.shape"
   ]
  },
  {
   "cell_type": "code",
   "execution_count": 118,
   "metadata": {},
   "outputs": [
    {
     "data": {
      "text/html": [
       "<div>\n",
       "<style>\n",
       "    .dataframe thead tr:only-child th {\n",
       "        text-align: right;\n",
       "    }\n",
       "\n",
       "    .dataframe thead th {\n",
       "        text-align: left;\n",
       "    }\n",
       "\n",
       "    .dataframe tbody tr th {\n",
       "        vertical-align: top;\n",
       "    }\n",
       "</style>\n",
       "<table border=\"1\" class=\"dataframe\">\n",
       "  <thead>\n",
       "    <tr style=\"text-align: right;\">\n",
       "      <th></th>\n",
       "      <th>book_id</th>\n",
       "      <th>pred_proba</th>\n",
       "      <th>prediction</th>\n",
       "      <th>rating</th>\n",
       "      <th>user_id</th>\n",
       "    </tr>\n",
       "  </thead>\n",
       "  <tbody>\n",
       "    <tr>\n",
       "      <th>0</th>\n",
       "      <td>258</td>\n",
       "      <td>0.000021</td>\n",
       "      <td>3</td>\n",
       "      <td>5</td>\n",
       "      <td>1</td>\n",
       "    </tr>\n",
       "    <tr>\n",
       "      <th>1</th>\n",
       "      <td>268</td>\n",
       "      <td>0.000008</td>\n",
       "      <td>3</td>\n",
       "      <td>3</td>\n",
       "      <td>1</td>\n",
       "    </tr>\n",
       "    <tr>\n",
       "      <th>2</th>\n",
       "      <td>5556</td>\n",
       "      <td>0.000004</td>\n",
       "      <td>3</td>\n",
       "      <td>3</td>\n",
       "      <td>1</td>\n",
       "    </tr>\n",
       "    <tr>\n",
       "      <th>3</th>\n",
       "      <td>3638</td>\n",
       "      <td>0.000009</td>\n",
       "      <td>3</td>\n",
       "      <td>3</td>\n",
       "      <td>1</td>\n",
       "    </tr>\n",
       "    <tr>\n",
       "      <th>4</th>\n",
       "      <td>1796</td>\n",
       "      <td>0.000009</td>\n",
       "      <td>3</td>\n",
       "      <td>5</td>\n",
       "      <td>1</td>\n",
       "    </tr>\n",
       "  </tbody>\n",
       "</table>\n",
       "</div>"
      ],
      "text/plain": [
       "   book_id  pred_proba  prediction  rating  user_id\n",
       "0      258    0.000021           3       5        1\n",
       "1      268    0.000008           3       3        1\n",
       "2     5556    0.000004           3       3        1\n",
       "3     3638    0.000009           3       3        1\n",
       "4     1796    0.000009           3       5        1"
      ]
     },
     "execution_count": 118,
     "metadata": {},
     "output_type": "execute_result"
    }
   ],
   "source": [
    "pred_dfs = []\n",
    "\n",
    "for index, user in enumerate(users):\n",
    "    \n",
    "    all_books = cold_start_users[cold_start_users['user_id'] == user]['book_id'].tolist()\n",
    "    idx = [b - 1 for b in all_books]\n",
    "    filter_books = cold_start_users[cold_start_users['user_id'] == user]\n",
    "    test_book_ratings = filter_books[filter_books['book_id'].isin(all_books)]['rating'].tolist()\n",
    "\n",
    "    #print(len(test_book_ratings))\n",
    "\n",
    "    pred = star5_predictions[idx]\n",
    "\n",
    "    pred_proba = probability[idx,4]\n",
    "\n",
    "    \n",
    "    #print(raw_predictions.shape)\n",
    "    df = pd.DataFrame({'book_id': all_books, \n",
    "                       'rating': test_book_ratings,\n",
    "                       'pred_proba': pred_proba, \n",
    "                       'prediction': pred})\n",
    "    df['user_id'] = user\n",
    "    pred_dfs.append(df)\n",
    "    \n",
    "evaluate_df = pd.concat(pred_dfs, ignore_index=True)\n",
    "\n",
    "evaluate_df.head()"
   ]
  },
  {
   "cell_type": "code",
   "execution_count": 120,
   "metadata": {},
   "outputs": [
    {
     "name": "stderr",
     "output_type": "stream",
     "text": [
      "C:\\Users\\manoj\\Anaconda3\\lib\\site-packages\\sklearn\\metrics\\classification.py:1135: UndefinedMetricWarning: Precision is ill-defined and being set to 0.0 in labels with no predicted samples.\n",
      "  'precision', 'predicted', average, warn_for)\n"
     ]
    },
    {
     "data": {
      "text/plain": [
       "array([[  0,   2,  54,   0,   0],\n",
       "       [  1,   2,  39,   0,   0],\n",
       "       [  0,   0, 122,   0,   0],\n",
       "       [  2,   1, 164,   0,   0],\n",
       "       [  2,   1, 117,   0,   0]], dtype=int64)"
      ]
     },
     "execution_count": 120,
     "metadata": {},
     "output_type": "execute_result"
    }
   ],
   "source": [
    "cfm, p, r = replay_5star_results(evaluate_df)\n",
    "cfm"
   ]
  },
  {
   "cell_type": "code",
   "execution_count": 121,
   "metadata": {},
   "outputs": [
    {
     "name": "stdout",
     "output_type": "stream",
     "text": [
      "0.0868009162053827 0.2445759368836292\n"
     ]
    }
   ],
   "source": [
    "print(p, r)"
   ]
  },
  {
   "cell_type": "code",
   "execution_count": 122,
   "metadata": {},
   "outputs": [
    {
     "name": "stdout",
     "output_type": "stream",
     "text": [
      "0 users evaluated\n"
     ]
    },
    {
     "name": "stderr",
     "output_type": "stream",
     "text": [
      "C:\\Users\\manoj\\Anaconda3\\lib\\site-packages\\sklearn\\metrics\\ranking.py:444: RuntimeWarning: invalid value encountered in true_divide\n",
      "  recall = tps / tps[-1]\n"
     ]
    }
   ],
   "source": [
    "APs, mAP, binary_mAP, bmAPs, skipped = top_n_5star_results(evaluate_df, 10)"
   ]
  },
  {
   "cell_type": "code",
   "execution_count": 123,
   "metadata": {},
   "outputs": [
    {
     "name": "stdout",
     "output_type": "stream",
     "text": [
      "0.255 0.38\n"
     ]
    }
   ],
   "source": [
    "print(mAP, binary_mAP)"
   ]
  },
  {
   "cell_type": "code",
   "execution_count": null,
   "metadata": {
    "collapsed": true
   },
   "outputs": [],
   "source": []
  }
 ],
 "metadata": {
  "kernelspec": {
   "display_name": "Python 3",
   "language": "python",
   "name": "python3"
  },
  "language_info": {
   "codemirror_mode": {
    "name": "ipython",
    "version": 3
   },
   "file_extension": ".py",
   "mimetype": "text/x-python",
   "name": "python",
   "nbconvert_exporter": "python",
   "pygments_lexer": "ipython3",
   "version": "3.6.3"
  }
 },
 "nbformat": 4,
 "nbformat_minor": 2
}
