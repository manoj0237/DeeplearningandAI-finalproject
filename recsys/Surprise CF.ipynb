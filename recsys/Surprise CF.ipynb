{
 "cells": [
  {
   "cell_type": "code",
   "execution_count": 2,
   "metadata": {},
   "outputs": [],
   "source": [
    "import surprise\n",
    "from surprise.dataset import Dataset\n",
    "import pandas as pd\n",
    "import numpy as np\n",
    "\n",
    "ml = pd.read_csv(\"ratings.csv\",\n",
    "                 header=0,\n",
    "                 dtype={\"user_id\": np.int32, \"book_id\": np.int32, \"rating\": np.float32},\n",
    "                 names=(\"user_id\", \"book_id\", \"rating\"))"
   ]
  },
  {
   "cell_type": "code",
   "execution_count": 3,
   "metadata": {},
   "outputs": [],
   "source": [
    "reader = surprise.Reader(rating_scale=(1, 5))\n",
    "data = Dataset.load_from_df(ml[[\"user_id\", \"book_id\", \"rating\"]].iloc[::10], reader)"
   ]
  },
  {
   "cell_type": "code",
   "execution_count": 9,
   "metadata": {},
   "outputs": [
    {
     "name": "stdout",
     "output_type": "stream",
     "text": [
      "RMSE: 0.9101\n"
     ]
    },
    {
     "data": {
      "text/plain": [
       "0.910133549694434"
      ]
     },
     "execution_count": 9,
     "metadata": {},
     "output_type": "execute_result"
    }
   ],
   "source": [
    "from surprise.model_selection import train_test_split\n",
    "\n",
    "trainset, testset = train_test_split(data, test_size=0.25)\n",
    "\n",
    "from surprise import SVD, accuracy\n",
    "algo = SVD()\n",
    "algo.fit(trainset)\n",
    "\n",
    "predictions = algo.test(testset)\n",
    "\n",
    "from surprise import accuracy\n",
    "accuracy.rmse(predictions)\n",
    "\n"
   ]
  },
  {
   "cell_type": "code",
   "execution_count": null,
   "metadata": {},
   "outputs": [],
   "source": [
    "cv=5\n",
    "cv_random = surprise.model_selection.cross_validate(surprise.NormalPredictor(), data, cv=cv)"
   ]
  },
  {
   "cell_type": "code",
   "execution_count": 5,
   "metadata": {},
   "outputs": [],
   "source": [
    "cv_sl1 = surprise.model_selection.cross_validate(surprise.SlopeOne(), data, cv=cv)\n"
   ]
  },
  {
   "cell_type": "code",
   "execution_count": 6,
   "metadata": {},
   "outputs": [],
   "source": [
    "cv_svd = surprise.model_selection.cross_validate(surprise.SVD(), data, cv=cv)"
   ]
  },
  {
   "cell_type": "code",
   "execution_count": 8,
   "metadata": {},
   "outputs": [
    {
     "data": {
      "text/plain": [
       "{'test_rmse': array([0.91119915, 0.90790025, 0.91163198, 0.9112361 , 0.90833208]),\n",
       " 'test_mae': array([0.72433819, 0.72326027, 0.72515494, 0.72448757, 0.72063417]),\n",
       " 'fit_time': (26.305468320846558,\n",
       "  27.221072912216187,\n",
       "  27.068931102752686,\n",
       "  27.238744974136353,\n",
       "  27.02909803390503),\n",
       " 'test_time': (1.5786938667297363,\n",
       "  1.3933610916137695,\n",
       "  1.3574872016906738,\n",
       "  1.1856346130371094,\n",
       "  1.323676347732544)}"
      ]
     },
     "execution_count": 8,
     "metadata": {},
     "output_type": "execute_result"
    }
   ],
   "source": [
    "cv_svd"
   ]
  },
  {
   "cell_type": "code",
   "execution_count": 7,
   "metadata": {},
   "outputs": [
    {
     "ename": "NameError",
     "evalue": "name 'test_results' is not defined",
     "traceback": [
      "\u001b[0;31m---------------------------------------------------------------------------\u001b[0m",
      "\u001b[0;31mNameError\u001b[0m                                 Traceback (most recent call last)",
      "\u001b[0;32m<ipython-input-7-f325a85c86bc>\u001b[0m in \u001b[0;36m<module>\u001b[0;34m\u001b[0m\n\u001b[1;32m      5\u001b[0m ]\n\u001b[1;32m      6\u001b[0m pd.DataFrame.from_records(\n\u001b[0;32m----> 7\u001b[0;31m     \u001b[0mdata\u001b[0m\u001b[0;34m=\u001b[0m\u001b[0mtest_results\u001b[0m \u001b[0;34m+\u001b[0m \u001b[0mcv_data_surprise\u001b[0m\u001b[0;34m,\u001b[0m\u001b[0;34m\u001b[0m\u001b[0;34m\u001b[0m\u001b[0m\n\u001b[0m\u001b[1;32m      8\u001b[0m     \u001b[0mcolumns\u001b[0m\u001b[0;34m=\u001b[0m\u001b[0;34m(\u001b[0m\u001b[0;34m\"Library\"\u001b[0m\u001b[0;34m,\u001b[0m \u001b[0;34m\"Algorithm\"\u001b[0m\u001b[0;34m,\u001b[0m \u001b[0;34m\"MAE (test)\"\u001b[0m\u001b[0;34m,\u001b[0m \u001b[0;34m\"RMSE (test)\"\u001b[0m\u001b[0;34m)\u001b[0m\u001b[0;34m,\u001b[0m\u001b[0;34m\u001b[0m\u001b[0;34m\u001b[0m\u001b[0m\n\u001b[1;32m      9\u001b[0m )\n",
      "\u001b[0;31mNameError\u001b[0m: name 'test_results' is not defined"
     ],
     "output_type": "error"
    }
   ],
   "source": [
    "get_record = lambda name, df: \\\n",
    "    (\"Surprise\", name, df[\"test_mae\"].sum() / cv, df[\"test_rmse\"].sum() / cv)\n",
    "cv_data_surprise = [\n",
    "    get_record(name,d) for name,d in [(\"Random\", cv_random), (\"Slope One\", cv_sl1), (\"SVD\", cv_svd)]\n",
    "]\n",
    "pd.DataFrame.from_records(\n",
    "    data=test_results + cv_data_surprise,\n",
    "    columns=(\"Library\", \"Algorithm\", \"MAE (test)\", \"RMSE (test)\"),\n",
    ")"
   ]
  },
  {
   "cell_type": "code",
   "execution_count": null,
   "metadata": {},
   "outputs": [],
   "source": []
  }
 ],
 "metadata": {
  "kernelspec": {
   "display_name": "Python 3",
   "language": "python",
   "name": "python3"
  },
  "language_info": {
   "codemirror_mode": {
    "name": "ipython",
    "version": 3
   },
   "file_extension": ".py",
   "mimetype": "text/x-python",
   "name": "python",
   "nbconvert_exporter": "python",
   "pygments_lexer": "ipython3",
   "version": "3.6.8"
  }
 },
 "nbformat": 4,
 "nbformat_minor": 2
}
