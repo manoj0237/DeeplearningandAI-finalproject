{
 "cells": [
  {
   "cell_type": "code",
   "execution_count": 1,
   "metadata": {},
   "outputs": [],
   "source": [
    "import numpy as np\n",
    "import pandas as pd\n",
    "from recsys.hlinucb import HLinUCB"
   ]
  },
  {
   "cell_type": "code",
   "execution_count": 2,
   "metadata": {},
   "outputs": [],
   "source": [
    "train_ratings = pd.read_csv('data/train_ratings_set.csv')\n",
    "user_features = pd.read_csv('data/user_features_final.csv')"
   ]
  },
  {
   "cell_type": "code",
   "execution_count": 3,
   "metadata": {},
   "outputs": [
    {
     "data": {
      "text/html": [
       "<div>\n",
       "<style scoped>\n",
       "    .dataframe tbody tr th:only-of-type {\n",
       "        vertical-align: middle;\n",
       "    }\n",
       "\n",
       "    .dataframe tbody tr th {\n",
       "        vertical-align: top;\n",
       "    }\n",
       "\n",
       "    .dataframe thead th {\n",
       "        text-align: right;\n",
       "    }\n",
       "</style>\n",
       "<table border=\"1\" class=\"dataframe\">\n",
       "  <thead>\n",
       "    <tr style=\"text-align: right;\">\n",
       "      <th></th>\n",
       "      <th>user_id</th>\n",
       "      <th>book_id</th>\n",
       "      <th>rating</th>\n",
       "      <th>avg_rating</th>\n",
       "      <th>0</th>\n",
       "      <th>1</th>\n",
       "      <th>2</th>\n",
       "      <th>3</th>\n",
       "      <th>4</th>\n",
       "      <th>5</th>\n",
       "      <th>...</th>\n",
       "      <th>15</th>\n",
       "      <th>16</th>\n",
       "      <th>17</th>\n",
       "      <th>18</th>\n",
       "      <th>19</th>\n",
       "      <th>20</th>\n",
       "      <th>21</th>\n",
       "      <th>22</th>\n",
       "      <th>23</th>\n",
       "      <th>24</th>\n",
       "    </tr>\n",
       "  </thead>\n",
       "  <tbody>\n",
       "    <tr>\n",
       "      <th>0</th>\n",
       "      <td>36210</td>\n",
       "      <td>687</td>\n",
       "      <td>2</td>\n",
       "      <td>3.536232</td>\n",
       "      <td>0.202367</td>\n",
       "      <td>0.033538</td>\n",
       "      <td>0.001456</td>\n",
       "      <td>0.005575</td>\n",
       "      <td>0.006220</td>\n",
       "      <td>0.035502</td>\n",
       "      <td>...</td>\n",
       "      <td>0.039848</td>\n",
       "      <td>0.022133</td>\n",
       "      <td>0.013898</td>\n",
       "      <td>0.049059</td>\n",
       "      <td>0.012314</td>\n",
       "      <td>0.020619</td>\n",
       "      <td>0.007972</td>\n",
       "      <td>0.000000</td>\n",
       "      <td>0.002621</td>\n",
       "      <td>0.011240</td>\n",
       "    </tr>\n",
       "    <tr>\n",
       "      <th>1</th>\n",
       "      <td>8</td>\n",
       "      <td>1509</td>\n",
       "      <td>1</td>\n",
       "      <td>3.421053</td>\n",
       "      <td>0.199233</td>\n",
       "      <td>0.013608</td>\n",
       "      <td>0.000536</td>\n",
       "      <td>0.003621</td>\n",
       "      <td>0.023440</td>\n",
       "      <td>0.005159</td>\n",
       "      <td>...</td>\n",
       "      <td>0.038217</td>\n",
       "      <td>0.034223</td>\n",
       "      <td>0.020021</td>\n",
       "      <td>0.040144</td>\n",
       "      <td>0.000000</td>\n",
       "      <td>0.003788</td>\n",
       "      <td>0.006364</td>\n",
       "      <td>0.016232</td>\n",
       "      <td>0.000000</td>\n",
       "      <td>0.088559</td>\n",
       "    </tr>\n",
       "    <tr>\n",
       "      <th>2</th>\n",
       "      <td>42833</td>\n",
       "      <td>3128</td>\n",
       "      <td>4</td>\n",
       "      <td>4.611940</td>\n",
       "      <td>0.196320</td>\n",
       "      <td>0.021527</td>\n",
       "      <td>0.007529</td>\n",
       "      <td>0.007994</td>\n",
       "      <td>0.014450</td>\n",
       "      <td>0.030204</td>\n",
       "      <td>...</td>\n",
       "      <td>0.016280</td>\n",
       "      <td>0.000000</td>\n",
       "      <td>0.024576</td>\n",
       "      <td>0.049903</td>\n",
       "      <td>0.033650</td>\n",
       "      <td>0.008952</td>\n",
       "      <td>0.010336</td>\n",
       "      <td>0.019030</td>\n",
       "      <td>0.012419</td>\n",
       "      <td>0.064434</td>\n",
       "    </tr>\n",
       "    <tr>\n",
       "      <th>3</th>\n",
       "      <td>39774</td>\n",
       "      <td>27</td>\n",
       "      <td>3</td>\n",
       "      <td>3.523810</td>\n",
       "      <td>0.156639</td>\n",
       "      <td>0.050961</td>\n",
       "      <td>0.051112</td>\n",
       "      <td>0.004160</td>\n",
       "      <td>0.012483</td>\n",
       "      <td>0.067711</td>\n",
       "      <td>...</td>\n",
       "      <td>0.007462</td>\n",
       "      <td>0.015160</td>\n",
       "      <td>0.000000</td>\n",
       "      <td>0.078406</td>\n",
       "      <td>0.000000</td>\n",
       "      <td>0.164855</td>\n",
       "      <td>0.007695</td>\n",
       "      <td>0.020140</td>\n",
       "      <td>0.013062</td>\n",
       "      <td>0.010286</td>\n",
       "    </tr>\n",
       "    <tr>\n",
       "      <th>4</th>\n",
       "      <td>28108</td>\n",
       "      <td>1120</td>\n",
       "      <td>5</td>\n",
       "      <td>4.678571</td>\n",
       "      <td>0.189999</td>\n",
       "      <td>0.032203</td>\n",
       "      <td>0.093174</td>\n",
       "      <td>0.000000</td>\n",
       "      <td>0.000000</td>\n",
       "      <td>0.085931</td>\n",
       "      <td>...</td>\n",
       "      <td>0.007475</td>\n",
       "      <td>0.020444</td>\n",
       "      <td>0.010343</td>\n",
       "      <td>0.026707</td>\n",
       "      <td>0.000000</td>\n",
       "      <td>0.004009</td>\n",
       "      <td>0.019859</td>\n",
       "      <td>0.013946</td>\n",
       "      <td>0.007980</td>\n",
       "      <td>0.008841</td>\n",
       "    </tr>\n",
       "  </tbody>\n",
       "</table>\n",
       "<p>5 rows × 29 columns</p>\n",
       "</div>"
      ],
      "text/plain": [
       "  user_id  book_id  rating  avg_rating         0         1         2  \\\n",
       "0   36210      687       2    3.536232  0.202367  0.033538  0.001456   \n",
       "1       8     1509       1    3.421053  0.199233  0.013608  0.000536   \n",
       "2   42833     3128       4    4.611940  0.196320  0.021527  0.007529   \n",
       "3   39774       27       3    3.523810  0.156639  0.050961  0.051112   \n",
       "4   28108     1120       5    4.678571  0.189999  0.032203  0.093174   \n",
       "\n",
       "          3         4         5    ...           15        16        17  \\\n",
       "0  0.005575  0.006220  0.035502    ...     0.039848  0.022133  0.013898   \n",
       "1  0.003621  0.023440  0.005159    ...     0.038217  0.034223  0.020021   \n",
       "2  0.007994  0.014450  0.030204    ...     0.016280  0.000000  0.024576   \n",
       "3  0.004160  0.012483  0.067711    ...     0.007462  0.015160  0.000000   \n",
       "4  0.000000  0.000000  0.085931    ...     0.007475  0.020444  0.010343   \n",
       "\n",
       "         18        19        20        21        22        23        24  \n",
       "0  0.049059  0.012314  0.020619  0.007972  0.000000  0.002621  0.011240  \n",
       "1  0.040144  0.000000  0.003788  0.006364  0.016232  0.000000  0.088559  \n",
       "2  0.049903  0.033650  0.008952  0.010336  0.019030  0.012419  0.064434  \n",
       "3  0.078406  0.000000  0.164855  0.007695  0.020140  0.013062  0.010286  \n",
       "4  0.026707  0.000000  0.004009  0.019859  0.013946  0.007980  0.008841  \n",
       "\n",
       "[5 rows x 29 columns]"
      ]
     },
     "execution_count": 3,
     "metadata": {},
     "output_type": "execute_result"
    }
   ],
   "source": [
    "train_data = train_ratings.merge(user_features, how='left', on='user_id')\n",
    "train_data.head()"
   ]
  },
  {
   "cell_type": "code",
   "execution_count": 6,
   "metadata": {},
   "outputs": [],
   "source": [
    "train_data['avg_rating'] = train_data['avg_rating'] / 5"
   ]
  },
  {
   "cell_type": "code",
   "execution_count": 4,
   "metadata": {},
   "outputs": [],
   "source": [
    "context_columns = user_features.drop('user_id', axis=1).columns"
   ]
  },
  {
   "cell_type": "code",
   "execution_count": 5,
   "metadata": {},
   "outputs": [
    {
     "data": {
      "text/plain": [
       "Index(['avg_rating', '0', '1', '2', '3', '4', '5', '6', '7', '8', '9', '10',\n",
       "       '11', '12', '13', '14', '15', '16', '17', '18', '19', '20', '21', '22',\n",
       "       '23', '24'],\n",
       "      dtype='object')"
      ]
     },
     "execution_count": 5,
     "metadata": {},
     "output_type": "execute_result"
    }
   ],
   "source": [
    "context_columns"
   ]
  },
  {
   "cell_type": "code",
   "execution_count": 8,
   "metadata": {},
   "outputs": [],
   "source": [
    "model = HLinUCB(alpha_a=1, alpha_u=1, lam1=1, lam2=1, context_columns=context_columns, \n",
    "                user_column='user_id', decisions_column='book_id')"
   ]
  },
  {
   "cell_type": "code",
   "execution_count": null,
   "metadata": {},
   "outputs": [],
   "source": [
    "train_data['binary_rating'] = train_data.apply(lambda x: 1 if x['rating'] > 3 else 0, axis=1)"
   ]
  },
  {
   "cell_type": "code",
   "execution_count": null,
   "metadata": {},
   "outputs": [],
   "source": [
    "model.fit(train_data, train_data['binary_rating'])"
   ]
  }
 ],
 "metadata": {
  "kernelspec": {
   "display_name": "Python 3",
   "language": "python",
   "name": "python3"
  },
  "language_info": {
   "codemirror_mode": {
    "name": "ipython",
    "version": 3
   },
   "file_extension": ".py",
   "mimetype": "text/x-python",
   "name": "python",
   "nbconvert_exporter": "python",
   "pygments_lexer": "ipython3",
   "version": "3.6.3"
  }
 },
 "nbformat": 4,
 "nbformat_minor": 2
}
