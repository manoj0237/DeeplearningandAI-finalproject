{
 "cells": [
  {
   "cell_type": "code",
   "execution_count": 25,
   "metadata": {},
   "outputs": [],
   "source": [
    "from keras.utils import to_categorical\n",
    "import numpy as np\n",
    "from time import time\n",
    "\n",
    "from keras.layers import Dense, Dropout, Input, Concatenate, Add, Dot\n",
    "from keras.models import Model, Sequential\n",
    "from keras.callbacks import EarlyStopping, TensorBoard\n",
    "from keras import regularizers"
   ]
  },
  {
   "cell_type": "code",
   "execution_count": 16,
   "metadata": {},
   "outputs": [],
   "source": [
    "from recsys.wide_deep import WideDeep"
   ]
  },
  {
   "cell_type": "code",
   "execution_count": 2,
   "metadata": {
    "collapsed": true
   },
   "outputs": [],
   "source": [
    "import pandas as pd\n",
    "import numpy as np"
   ]
  },
  {
   "cell_type": "code",
   "execution_count": 3,
   "metadata": {},
   "outputs": [],
   "source": [
    "train_ratings = pd.read_csv('data/train_ratings_set.csv')\n",
    "book_features = pd.read_csv('data/books_with_latent_features.csv')\n",
    "user_features = pd.read_csv('data/user_features_final.csv')"
   ]
  },
  {
   "cell_type": "code",
   "execution_count": 67,
   "metadata": {},
   "outputs": [
    {
     "data": {
      "text/html": [
       "<div>\n",
       "<style>\n",
       "    .dataframe thead tr:only-child th {\n",
       "        text-align: right;\n",
       "    }\n",
       "\n",
       "    .dataframe thead th {\n",
       "        text-align: left;\n",
       "    }\n",
       "\n",
       "    .dataframe tbody tr th {\n",
       "        vertical-align: top;\n",
       "    }\n",
       "</style>\n",
       "<table border=\"1\" class=\"dataframe\">\n",
       "  <thead>\n",
       "    <tr style=\"text-align: right;\">\n",
       "      <th></th>\n",
       "      <th>user_id</th>\n",
       "      <th>book_id</th>\n",
       "      <th>rating</th>\n",
       "    </tr>\n",
       "  </thead>\n",
       "  <tbody>\n",
       "    <tr>\n",
       "      <th>0</th>\n",
       "      <td>36210</td>\n",
       "      <td>687</td>\n",
       "      <td>2</td>\n",
       "    </tr>\n",
       "    <tr>\n",
       "      <th>1</th>\n",
       "      <td>8</td>\n",
       "      <td>1509</td>\n",
       "      <td>1</td>\n",
       "    </tr>\n",
       "    <tr>\n",
       "      <th>2</th>\n",
       "      <td>42833</td>\n",
       "      <td>3128</td>\n",
       "      <td>4</td>\n",
       "    </tr>\n",
       "    <tr>\n",
       "      <th>3</th>\n",
       "      <td>39774</td>\n",
       "      <td>27</td>\n",
       "      <td>3</td>\n",
       "    </tr>\n",
       "    <tr>\n",
       "      <th>4</th>\n",
       "      <td>28108</td>\n",
       "      <td>1120</td>\n",
       "      <td>5</td>\n",
       "    </tr>\n",
       "  </tbody>\n",
       "</table>\n",
       "</div>"
      ],
      "text/plain": [
       "   user_id  book_id  rating\n",
       "0    36210      687       2\n",
       "1        8     1509       1\n",
       "2    42833     3128       4\n",
       "3    39774       27       3\n",
       "4    28108     1120       5"
      ]
     },
     "execution_count": 67,
     "metadata": {},
     "output_type": "execute_result"
    }
   ],
   "source": [
    "train_ratings.head()"
   ]
  },
  {
   "cell_type": "code",
   "execution_count": 68,
   "metadata": {},
   "outputs": [
    {
     "data": {
      "text/html": [
       "<div>\n",
       "<style>\n",
       "    .dataframe thead tr:only-child th {\n",
       "        text-align: right;\n",
       "    }\n",
       "\n",
       "    .dataframe thead th {\n",
       "        text-align: left;\n",
       "    }\n",
       "\n",
       "    .dataframe tbody tr th {\n",
       "        vertical-align: top;\n",
       "    }\n",
       "</style>\n",
       "<table border=\"1\" class=\"dataframe\">\n",
       "  <thead>\n",
       "    <tr style=\"text-align: right;\">\n",
       "      <th></th>\n",
       "      <th>book_id</th>\n",
       "      <th>books_count</th>\n",
       "      <th>original_publication_year</th>\n",
       "      <th>average_rating</th>\n",
       "      <th>ratings_count</th>\n",
       "      <th>work_ratings_count</th>\n",
       "      <th>work_text_reviews_count</th>\n",
       "      <th>ratings_1</th>\n",
       "      <th>ratings_2</th>\n",
       "      <th>ratings_3</th>\n",
       "      <th>...</th>\n",
       "      <th>15</th>\n",
       "      <th>16</th>\n",
       "      <th>17</th>\n",
       "      <th>18</th>\n",
       "      <th>19</th>\n",
       "      <th>20</th>\n",
       "      <th>21</th>\n",
       "      <th>22</th>\n",
       "      <th>23</th>\n",
       "      <th>24</th>\n",
       "    </tr>\n",
       "  </thead>\n",
       "  <tbody>\n",
       "    <tr>\n",
       "      <th>0</th>\n",
       "      <td>1</td>\n",
       "      <td>1.151500</td>\n",
       "      <td>0.170121</td>\n",
       "      <td>1.327789</td>\n",
       "      <td>30.036789</td>\n",
       "      <td>29.098997</td>\n",
       "      <td>24.874634</td>\n",
       "      <td>9.851855</td>\n",
       "      <td>12.846534</td>\n",
       "      <td>19.219327</td>\n",
       "      <td>...</td>\n",
       "      <td>0.000000</td>\n",
       "      <td>0.000000</td>\n",
       "      <td>0.000000</td>\n",
       "      <td>0.000668</td>\n",
       "      <td>0.00000</td>\n",
       "      <td>0.0</td>\n",
       "      <td>0.0</td>\n",
       "      <td>0.000000</td>\n",
       "      <td>0.009848</td>\n",
       "      <td>0.000000</td>\n",
       "    </tr>\n",
       "    <tr>\n",
       "      <th>1</th>\n",
       "      <td>2</td>\n",
       "      <td>2.436243</td>\n",
       "      <td>0.108104</td>\n",
       "      <td>1.720847</td>\n",
       "      <td>28.904534</td>\n",
       "      <td>28.250940</td>\n",
       "      <td>11.911526</td>\n",
       "      <td>11.176438</td>\n",
       "      <td>10.143953</td>\n",
       "      <td>15.538545</td>\n",
       "      <td>...</td>\n",
       "      <td>0.000000</td>\n",
       "      <td>0.000000</td>\n",
       "      <td>0.000000</td>\n",
       "      <td>0.000000</td>\n",
       "      <td>0.00000</td>\n",
       "      <td>0.0</td>\n",
       "      <td>0.0</td>\n",
       "      <td>0.000000</td>\n",
       "      <td>0.000000</td>\n",
       "      <td>0.000000</td>\n",
       "    </tr>\n",
       "    <tr>\n",
       "      <th>2</th>\n",
       "      <td>3</td>\n",
       "      <td>0.881646</td>\n",
       "      <td>0.153207</td>\n",
       "      <td>-1.698765</td>\n",
       "      <td>24.229710</td>\n",
       "      <td>22.987143</td>\n",
       "      <td>15.037225</td>\n",
       "      <td>68.549476</td>\n",
       "      <td>44.633867</td>\n",
       "      <td>27.389823</td>\n",
       "      <td>...</td>\n",
       "      <td>0.000000</td>\n",
       "      <td>0.000000</td>\n",
       "      <td>0.026678</td>\n",
       "      <td>0.000000</td>\n",
       "      <td>0.00000</td>\n",
       "      <td>0.0</td>\n",
       "      <td>0.0</td>\n",
       "      <td>0.000000</td>\n",
       "      <td>0.007945</td>\n",
       "      <td>0.000000</td>\n",
       "    </tr>\n",
       "    <tr>\n",
       "      <th>3</th>\n",
       "      <td>4</td>\n",
       "      <td>2.412777</td>\n",
       "      <td>-0.100498</td>\n",
       "      <td>0.974035</td>\n",
       "      <td>19.983656</td>\n",
       "      <td>19.554820</td>\n",
       "      <td>11.375772</td>\n",
       "      <td>8.904196</td>\n",
       "      <td>11.763752</td>\n",
       "      <td>15.251665</td>\n",
       "      <td>...</td>\n",
       "      <td>0.002680</td>\n",
       "      <td>0.000000</td>\n",
       "      <td>0.000000</td>\n",
       "      <td>0.009918</td>\n",
       "      <td>0.04148</td>\n",
       "      <td>0.0</td>\n",
       "      <td>0.0</td>\n",
       "      <td>0.000847</td>\n",
       "      <td>0.021077</td>\n",
       "      <td>0.031681</td>\n",
       "    </tr>\n",
       "    <tr>\n",
       "      <th>4</th>\n",
       "      <td>5</td>\n",
       "      <td>7.510681</td>\n",
       "      <td>-0.297825</td>\n",
       "      <td>-0.440977</td>\n",
       "      <td>16.710904</td>\n",
       "      <td>16.174804</td>\n",
       "      <td>8.012977</td>\n",
       "      <td>12.793850</td>\n",
       "      <td>20.018253</td>\n",
       "      <td>20.833128</td>\n",
       "      <td>...</td>\n",
       "      <td>0.011253</td>\n",
       "      <td>0.000036</td>\n",
       "      <td>0.000000</td>\n",
       "      <td>0.000000</td>\n",
       "      <td>0.00000</td>\n",
       "      <td>0.0</td>\n",
       "      <td>0.0</td>\n",
       "      <td>0.000000</td>\n",
       "      <td>0.000000</td>\n",
       "      <td>0.000000</td>\n",
       "    </tr>\n",
       "  </tbody>\n",
       "</table>\n",
       "<p>5 rows × 37 columns</p>\n",
       "</div>"
      ],
      "text/plain": [
       "   book_id  books_count  original_publication_year  average_rating  \\\n",
       "0        1     1.151500                   0.170121        1.327789   \n",
       "1        2     2.436243                   0.108104        1.720847   \n",
       "2        3     0.881646                   0.153207       -1.698765   \n",
       "3        4     2.412777                  -0.100498        0.974035   \n",
       "4        5     7.510681                  -0.297825       -0.440977   \n",
       "\n",
       "   ratings_count  work_ratings_count  work_text_reviews_count  ratings_1  \\\n",
       "0      30.036789           29.098997                24.874634   9.851855   \n",
       "1      28.904534           28.250940                11.911526  11.176438   \n",
       "2      24.229710           22.987143                15.037225  68.549476   \n",
       "3      19.983656           19.554820                11.375772   8.904196   \n",
       "4      16.710904           16.174804                 8.012977  12.793850   \n",
       "\n",
       "   ratings_2  ratings_3    ...           15        16        17        18  \\\n",
       "0  12.846534  19.219327    ...     0.000000  0.000000  0.000000  0.000668   \n",
       "1  10.143953  15.538545    ...     0.000000  0.000000  0.000000  0.000000   \n",
       "2  44.633867  27.389823    ...     0.000000  0.000000  0.026678  0.000000   \n",
       "3  11.763752  15.251665    ...     0.002680  0.000000  0.000000  0.009918   \n",
       "4  20.018253  20.833128    ...     0.011253  0.000036  0.000000  0.000000   \n",
       "\n",
       "        19   20   21        22        23        24  \n",
       "0  0.00000  0.0  0.0  0.000000  0.009848  0.000000  \n",
       "1  0.00000  0.0  0.0  0.000000  0.000000  0.000000  \n",
       "2  0.00000  0.0  0.0  0.000000  0.007945  0.000000  \n",
       "3  0.04148  0.0  0.0  0.000847  0.021077  0.031681  \n",
       "4  0.00000  0.0  0.0  0.000000  0.000000  0.000000  \n",
       "\n",
       "[5 rows x 37 columns]"
      ]
     },
     "execution_count": 68,
     "metadata": {},
     "output_type": "execute_result"
    }
   ],
   "source": [
    "book_features.head()"
   ]
  },
  {
   "cell_type": "code",
   "execution_count": 69,
   "metadata": {},
   "outputs": [
    {
     "data": {
      "text/html": [
       "<div>\n",
       "<style>\n",
       "    .dataframe thead tr:only-child th {\n",
       "        text-align: right;\n",
       "    }\n",
       "\n",
       "    .dataframe thead th {\n",
       "        text-align: left;\n",
       "    }\n",
       "\n",
       "    .dataframe tbody tr th {\n",
       "        vertical-align: top;\n",
       "    }\n",
       "</style>\n",
       "<table border=\"1\" class=\"dataframe\">\n",
       "  <thead>\n",
       "    <tr style=\"text-align: right;\">\n",
       "      <th></th>\n",
       "      <th>user_id</th>\n",
       "      <th>avg_rating</th>\n",
       "      <th>0</th>\n",
       "      <th>1</th>\n",
       "      <th>2</th>\n",
       "      <th>3</th>\n",
       "      <th>4</th>\n",
       "      <th>5</th>\n",
       "      <th>6</th>\n",
       "      <th>7</th>\n",
       "      <th>...</th>\n",
       "      <th>15</th>\n",
       "      <th>16</th>\n",
       "      <th>17</th>\n",
       "      <th>18</th>\n",
       "      <th>19</th>\n",
       "      <th>20</th>\n",
       "      <th>21</th>\n",
       "      <th>22</th>\n",
       "      <th>23</th>\n",
       "      <th>24</th>\n",
       "    </tr>\n",
       "  </thead>\n",
       "  <tbody>\n",
       "    <tr>\n",
       "      <th>0</th>\n",
       "      <td>6.0</td>\n",
       "      <td>4.285714</td>\n",
       "      <td>0.195982</td>\n",
       "      <td>0.01082</td>\n",
       "      <td>0.008561</td>\n",
       "      <td>0.007327</td>\n",
       "      <td>0.03029</td>\n",
       "      <td>0.032636</td>\n",
       "      <td>0.028151</td>\n",
       "      <td>0.012982</td>\n",
       "      <td>...</td>\n",
       "      <td>0.001723</td>\n",
       "      <td>0.0</td>\n",
       "      <td>0.011177</td>\n",
       "      <td>0.020266</td>\n",
       "      <td>0.015214</td>\n",
       "      <td>0.020975</td>\n",
       "      <td>0.041102</td>\n",
       "      <td>0.010981</td>\n",
       "      <td>0.012653</td>\n",
       "      <td>0.06773</td>\n",
       "    </tr>\n",
       "    <tr>\n",
       "      <th>1</th>\n",
       "      <td>1006.0</td>\n",
       "      <td>3.784615</td>\n",
       "      <td>0.195982</td>\n",
       "      <td>0.01082</td>\n",
       "      <td>0.008561</td>\n",
       "      <td>0.007327</td>\n",
       "      <td>0.03029</td>\n",
       "      <td>0.032636</td>\n",
       "      <td>0.028151</td>\n",
       "      <td>0.012982</td>\n",
       "      <td>...</td>\n",
       "      <td>0.001723</td>\n",
       "      <td>0.0</td>\n",
       "      <td>0.011177</td>\n",
       "      <td>0.020266</td>\n",
       "      <td>0.015214</td>\n",
       "      <td>0.020975</td>\n",
       "      <td>0.041102</td>\n",
       "      <td>0.010981</td>\n",
       "      <td>0.012653</td>\n",
       "      <td>0.06773</td>\n",
       "    </tr>\n",
       "    <tr>\n",
       "      <th>2</th>\n",
       "      <td>2006.0</td>\n",
       "      <td>4.100000</td>\n",
       "      <td>0.195982</td>\n",
       "      <td>0.01082</td>\n",
       "      <td>0.008561</td>\n",
       "      <td>0.007327</td>\n",
       "      <td>0.03029</td>\n",
       "      <td>0.032636</td>\n",
       "      <td>0.028151</td>\n",
       "      <td>0.012982</td>\n",
       "      <td>...</td>\n",
       "      <td>0.001723</td>\n",
       "      <td>0.0</td>\n",
       "      <td>0.011177</td>\n",
       "      <td>0.020266</td>\n",
       "      <td>0.015214</td>\n",
       "      <td>0.020975</td>\n",
       "      <td>0.041102</td>\n",
       "      <td>0.010981</td>\n",
       "      <td>0.012653</td>\n",
       "      <td>0.06773</td>\n",
       "    </tr>\n",
       "    <tr>\n",
       "      <th>3</th>\n",
       "      <td>3006.0</td>\n",
       "      <td>3.819444</td>\n",
       "      <td>0.195982</td>\n",
       "      <td>0.01082</td>\n",
       "      <td>0.008561</td>\n",
       "      <td>0.007327</td>\n",
       "      <td>0.03029</td>\n",
       "      <td>0.032636</td>\n",
       "      <td>0.028151</td>\n",
       "      <td>0.012982</td>\n",
       "      <td>...</td>\n",
       "      <td>0.001723</td>\n",
       "      <td>0.0</td>\n",
       "      <td>0.011177</td>\n",
       "      <td>0.020266</td>\n",
       "      <td>0.015214</td>\n",
       "      <td>0.020975</td>\n",
       "      <td>0.041102</td>\n",
       "      <td>0.010981</td>\n",
       "      <td>0.012653</td>\n",
       "      <td>0.06773</td>\n",
       "    </tr>\n",
       "    <tr>\n",
       "      <th>4</th>\n",
       "      <td>4006.0</td>\n",
       "      <td>3.317647</td>\n",
       "      <td>0.195982</td>\n",
       "      <td>0.01082</td>\n",
       "      <td>0.008561</td>\n",
       "      <td>0.007327</td>\n",
       "      <td>0.03029</td>\n",
       "      <td>0.032636</td>\n",
       "      <td>0.028151</td>\n",
       "      <td>0.012982</td>\n",
       "      <td>...</td>\n",
       "      <td>0.001723</td>\n",
       "      <td>0.0</td>\n",
       "      <td>0.011177</td>\n",
       "      <td>0.020266</td>\n",
       "      <td>0.015214</td>\n",
       "      <td>0.020975</td>\n",
       "      <td>0.041102</td>\n",
       "      <td>0.010981</td>\n",
       "      <td>0.012653</td>\n",
       "      <td>0.06773</td>\n",
       "    </tr>\n",
       "  </tbody>\n",
       "</table>\n",
       "<p>5 rows × 27 columns</p>\n",
       "</div>"
      ],
      "text/plain": [
       "   user_id  avg_rating         0        1         2         3        4  \\\n",
       "0      6.0    4.285714  0.195982  0.01082  0.008561  0.007327  0.03029   \n",
       "1   1006.0    3.784615  0.195982  0.01082  0.008561  0.007327  0.03029   \n",
       "2   2006.0    4.100000  0.195982  0.01082  0.008561  0.007327  0.03029   \n",
       "3   3006.0    3.819444  0.195982  0.01082  0.008561  0.007327  0.03029   \n",
       "4   4006.0    3.317647  0.195982  0.01082  0.008561  0.007327  0.03029   \n",
       "\n",
       "          5         6         7   ...           15   16        17        18  \\\n",
       "0  0.032636  0.028151  0.012982   ...     0.001723  0.0  0.011177  0.020266   \n",
       "1  0.032636  0.028151  0.012982   ...     0.001723  0.0  0.011177  0.020266   \n",
       "2  0.032636  0.028151  0.012982   ...     0.001723  0.0  0.011177  0.020266   \n",
       "3  0.032636  0.028151  0.012982   ...     0.001723  0.0  0.011177  0.020266   \n",
       "4  0.032636  0.028151  0.012982   ...     0.001723  0.0  0.011177  0.020266   \n",
       "\n",
       "         19        20        21        22        23       24  \n",
       "0  0.015214  0.020975  0.041102  0.010981  0.012653  0.06773  \n",
       "1  0.015214  0.020975  0.041102  0.010981  0.012653  0.06773  \n",
       "2  0.015214  0.020975  0.041102  0.010981  0.012653  0.06773  \n",
       "3  0.015214  0.020975  0.041102  0.010981  0.012653  0.06773  \n",
       "4  0.015214  0.020975  0.041102  0.010981  0.012653  0.06773  \n",
       "\n",
       "[5 rows x 27 columns]"
      ]
     },
     "execution_count": 69,
     "metadata": {},
     "output_type": "execute_result"
    }
   ],
   "source": [
    "user_features.head()"
   ]
  },
  {
   "cell_type": "code",
   "execution_count": 4,
   "metadata": {
    "collapsed": true
   },
   "outputs": [],
   "source": [
    "user_features['user_id'] = user_features.apply(lambda x: int(x['user_id']), axis=1)"
   ]
  },
  {
   "cell_type": "code",
   "execution_count": 5,
   "metadata": {
    "collapsed": true
   },
   "outputs": [],
   "source": [
    "train_data = train_ratings.merge(user_features, how='left', on='user_id')"
   ]
  },
  {
   "cell_type": "code",
   "execution_count": 6,
   "metadata": {
    "collapsed": true
   },
   "outputs": [],
   "source": [
    "train_data = train_data.merge(book_features, how='left', on='book_id')"
   ]
  },
  {
   "cell_type": "code",
   "execution_count": 73,
   "metadata": {},
   "outputs": [
    {
     "data": {
      "text/html": [
       "<div>\n",
       "<style>\n",
       "    .dataframe thead tr:only-child th {\n",
       "        text-align: right;\n",
       "    }\n",
       "\n",
       "    .dataframe thead th {\n",
       "        text-align: left;\n",
       "    }\n",
       "\n",
       "    .dataframe tbody tr th {\n",
       "        vertical-align: top;\n",
       "    }\n",
       "</style>\n",
       "<table border=\"1\" class=\"dataframe\">\n",
       "  <thead>\n",
       "    <tr style=\"text-align: right;\">\n",
       "      <th></th>\n",
       "      <th>user_id</th>\n",
       "      <th>book_id</th>\n",
       "      <th>rating</th>\n",
       "      <th>avg_rating</th>\n",
       "      <th>0_x</th>\n",
       "      <th>1_x</th>\n",
       "      <th>2_x</th>\n",
       "      <th>3_x</th>\n",
       "      <th>4_x</th>\n",
       "      <th>5_x</th>\n",
       "      <th>...</th>\n",
       "      <th>15_y</th>\n",
       "      <th>16_y</th>\n",
       "      <th>17_y</th>\n",
       "      <th>18_y</th>\n",
       "      <th>19_y</th>\n",
       "      <th>20_y</th>\n",
       "      <th>21_y</th>\n",
       "      <th>22_y</th>\n",
       "      <th>23_y</th>\n",
       "      <th>24_y</th>\n",
       "    </tr>\n",
       "  </thead>\n",
       "  <tbody>\n",
       "    <tr>\n",
       "      <th>0</th>\n",
       "      <td>36210</td>\n",
       "      <td>687</td>\n",
       "      <td>2</td>\n",
       "      <td>3.536232</td>\n",
       "      <td>0.202367</td>\n",
       "      <td>0.033538</td>\n",
       "      <td>0.001456</td>\n",
       "      <td>0.005575</td>\n",
       "      <td>0.006220</td>\n",
       "      <td>0.035502</td>\n",
       "      <td>...</td>\n",
       "      <td>0.001187</td>\n",
       "      <td>0.001917</td>\n",
       "      <td>0.000825</td>\n",
       "      <td>0.0</td>\n",
       "      <td>0.002246</td>\n",
       "      <td>0.001787</td>\n",
       "      <td>0.003241</td>\n",
       "      <td>0.003036</td>\n",
       "      <td>0.004602</td>\n",
       "      <td>0.009414</td>\n",
       "    </tr>\n",
       "    <tr>\n",
       "      <th>1</th>\n",
       "      <td>8</td>\n",
       "      <td>1509</td>\n",
       "      <td>1</td>\n",
       "      <td>3.421053</td>\n",
       "      <td>0.199233</td>\n",
       "      <td>0.013608</td>\n",
       "      <td>0.000536</td>\n",
       "      <td>0.003621</td>\n",
       "      <td>0.023440</td>\n",
       "      <td>0.005159</td>\n",
       "      <td>...</td>\n",
       "      <td>0.000000</td>\n",
       "      <td>0.000000</td>\n",
       "      <td>0.000000</td>\n",
       "      <td>0.0</td>\n",
       "      <td>0.000000</td>\n",
       "      <td>0.000000</td>\n",
       "      <td>0.000000</td>\n",
       "      <td>0.000000</td>\n",
       "      <td>0.000000</td>\n",
       "      <td>0.000000</td>\n",
       "    </tr>\n",
       "    <tr>\n",
       "      <th>2</th>\n",
       "      <td>42833</td>\n",
       "      <td>3128</td>\n",
       "      <td>4</td>\n",
       "      <td>4.611940</td>\n",
       "      <td>0.196320</td>\n",
       "      <td>0.021527</td>\n",
       "      <td>0.007529</td>\n",
       "      <td>0.007994</td>\n",
       "      <td>0.014450</td>\n",
       "      <td>0.030204</td>\n",
       "      <td>...</td>\n",
       "      <td>0.000000</td>\n",
       "      <td>0.000000</td>\n",
       "      <td>0.000000</td>\n",
       "      <td>0.0</td>\n",
       "      <td>0.000000</td>\n",
       "      <td>0.000000</td>\n",
       "      <td>0.000000</td>\n",
       "      <td>0.000000</td>\n",
       "      <td>0.000000</td>\n",
       "      <td>0.000000</td>\n",
       "    </tr>\n",
       "    <tr>\n",
       "      <th>3</th>\n",
       "      <td>39774</td>\n",
       "      <td>27</td>\n",
       "      <td>3</td>\n",
       "      <td>3.523810</td>\n",
       "      <td>0.156639</td>\n",
       "      <td>0.050961</td>\n",
       "      <td>0.051112</td>\n",
       "      <td>0.004160</td>\n",
       "      <td>0.012483</td>\n",
       "      <td>0.067711</td>\n",
       "      <td>...</td>\n",
       "      <td>0.000000</td>\n",
       "      <td>0.000000</td>\n",
       "      <td>0.008164</td>\n",
       "      <td>0.0</td>\n",
       "      <td>0.000000</td>\n",
       "      <td>0.003095</td>\n",
       "      <td>0.000000</td>\n",
       "      <td>0.015545</td>\n",
       "      <td>0.000000</td>\n",
       "      <td>0.029988</td>\n",
       "    </tr>\n",
       "    <tr>\n",
       "      <th>4</th>\n",
       "      <td>28108</td>\n",
       "      <td>1120</td>\n",
       "      <td>5</td>\n",
       "      <td>4.678571</td>\n",
       "      <td>0.189999</td>\n",
       "      <td>0.032203</td>\n",
       "      <td>0.093174</td>\n",
       "      <td>0.000000</td>\n",
       "      <td>0.000000</td>\n",
       "      <td>0.085931</td>\n",
       "      <td>...</td>\n",
       "      <td>0.001789</td>\n",
       "      <td>0.001892</td>\n",
       "      <td>0.000725</td>\n",
       "      <td>0.0</td>\n",
       "      <td>0.003100</td>\n",
       "      <td>0.001592</td>\n",
       "      <td>0.004266</td>\n",
       "      <td>0.003174</td>\n",
       "      <td>0.004424</td>\n",
       "      <td>0.009140</td>\n",
       "    </tr>\n",
       "  </tbody>\n",
       "</table>\n",
       "<p>5 rows × 65 columns</p>\n",
       "</div>"
      ],
      "text/plain": [
       "   user_id  book_id  rating  avg_rating       0_x       1_x       2_x  \\\n",
       "0    36210      687       2    3.536232  0.202367  0.033538  0.001456   \n",
       "1        8     1509       1    3.421053  0.199233  0.013608  0.000536   \n",
       "2    42833     3128       4    4.611940  0.196320  0.021527  0.007529   \n",
       "3    39774       27       3    3.523810  0.156639  0.050961  0.051112   \n",
       "4    28108     1120       5    4.678571  0.189999  0.032203  0.093174   \n",
       "\n",
       "        3_x       4_x       5_x    ...         15_y      16_y      17_y  18_y  \\\n",
       "0  0.005575  0.006220  0.035502    ...     0.001187  0.001917  0.000825   0.0   \n",
       "1  0.003621  0.023440  0.005159    ...     0.000000  0.000000  0.000000   0.0   \n",
       "2  0.007994  0.014450  0.030204    ...     0.000000  0.000000  0.000000   0.0   \n",
       "3  0.004160  0.012483  0.067711    ...     0.000000  0.000000  0.008164   0.0   \n",
       "4  0.000000  0.000000  0.085931    ...     0.001789  0.001892  0.000725   0.0   \n",
       "\n",
       "       19_y      20_y      21_y      22_y      23_y      24_y  \n",
       "0  0.002246  0.001787  0.003241  0.003036  0.004602  0.009414  \n",
       "1  0.000000  0.000000  0.000000  0.000000  0.000000  0.000000  \n",
       "2  0.000000  0.000000  0.000000  0.000000  0.000000  0.000000  \n",
       "3  0.000000  0.003095  0.000000  0.015545  0.000000  0.029988  \n",
       "4  0.003100  0.001592  0.004266  0.003174  0.004424  0.009140  \n",
       "\n",
       "[5 rows x 65 columns]"
      ]
     },
     "execution_count": 73,
     "metadata": {},
     "output_type": "execute_result"
    }
   ],
   "source": [
    "train_data.head()"
   ]
  },
  {
   "cell_type": "code",
   "execution_count": 74,
   "metadata": {},
   "outputs": [
    {
     "data": {
      "text/plain": [
       "(4183180, 65)"
      ]
     },
     "execution_count": 74,
     "metadata": {},
     "output_type": "execute_result"
    }
   ],
   "source": [
    "train_data.shape"
   ]
  },
  {
   "cell_type": "code",
   "execution_count": 75,
   "metadata": {
    "collapsed": true
   },
   "outputs": [],
   "source": [
    "test_ratings = pd.read_csv('data/test_ratings_set.csv')\n",
    "test_data = test_ratings.merge(user_features, how='left', on='user_id')\n",
    "test_data = test_data.merge(book_features, how='left', on='book_id')"
   ]
  },
  {
   "cell_type": "code",
   "execution_count": 76,
   "metadata": {},
   "outputs": [
    {
     "data": {
      "text/plain": [
       "(1792792, 3)"
      ]
     },
     "execution_count": 76,
     "metadata": {},
     "output_type": "execute_result"
    }
   ],
   "source": [
    "test_ratings.shape"
   ]
  },
  {
   "cell_type": "code",
   "execution_count": 7,
   "metadata": {},
   "outputs": [
    {
     "data": {
      "text/plain": [
       "2208719064"
      ]
     },
     "execution_count": 7,
     "metadata": {},
     "output_type": "execute_result"
    }
   ],
   "source": [
    "import sys\n",
    "sys.getsizeof(train_data)"
   ]
  },
  {
   "cell_type": "code",
   "execution_count": 31,
   "metadata": {
    "collapsed": true
   },
   "outputs": [],
   "source": [
    "class WideDeep:\n",
    "    def __init__(self, num_classes, batch_size, lambda_1, extra_hidden):\n",
    "        self.num_classes = num_classes\n",
    "        self.batch_size = batch_size\n",
    "        self.lambda_1 = lambda_1\n",
    "        self.extra_hidden = extra_hidden\n",
    "\n",
    "        self.deep = None\n",
    "\n",
    "    def fit(self, train, y):\n",
    "        tensorboard = TensorBoard(log_dir=\"logs/wd/{}\".format(time()))\n",
    "\n",
    "        # Train a feed forward network with two hidden layers\n",
    "        # Supposed to use Embeddings for input, but not appropriate for our data set\n",
    "        input_layer = Input(shape=(train.shape[1],))\n",
    "        deep = Dense(512, activation='relu')(input_layer)\n",
    "        deep = Dropout(0.2)(deep)\n",
    "\n",
    "        if self.extra_hidden:\n",
    "            deep = Dense(256, activation='relu')(deep)\n",
    "            deep = Dropout(0.2)(deep)\n",
    "\n",
    "        deep = Dense(128, activation='relu')(deep)\n",
    "        deep = Dropout(0.2)(deep)\n",
    "        deep = Dense(self.num_classes, activation='relu')(deep)\n",
    "\n",
    "        # Train a linear regression with l1 regularization\n",
    "        # https://stats.stackexchange.com/questions/263211/trying-to-emulate-linear-regression-using-keras\n",
    "        linear = Dense(1, activation='linear', activity_regularizer=regularizers.l1(self.lambda_1))(input_layer)\n",
    "\n",
    "        # Train a logistic regression\n",
    "        if self.num_classes == 1:\n",
    "            merge = Add()([deep, linear])\n",
    "            logistic = Dense(self.num_classes, activation='sigmoid')(merge)\n",
    "            loss = 'binary_crossentropy'\n",
    "        else:\n",
    "            merge = Concatenate()([deep, linear])\n",
    "            logistic = Dense(self.num_classes, activation='softmax')(merge)\n",
    "            loss = 'categorical_crossentropy'\n",
    "\n",
    "        # Compile and train the model\n",
    "        self.deep = Model(inputs=input_layer, outputs=logistic)\n",
    "        \n",
    "        self.deep.compile(loss=loss, optimizer='adagrad', metrics=['accuracy'])\n",
    "          \n",
    "        print(self.deep.summary())\n",
    "\n",
    "        self.deep.fit(train, y,\n",
    "                      batch_size=self.batch_size,\n",
    "                      epochs=100,\n",
    "                      verbose=1,\n",
    "                      validation_split=0.2,\n",
    "                      callbacks=[EarlyStopping(), tensorboard])\n",
    "\n",
    "    def predict(self, test):\n",
    "\n",
    "        return self.deep.predict(test, verbose=1)\n"
   ]
  },
  {
   "cell_type": "markdown",
   "metadata": {},
   "source": [
    "# Like/Dislike Prediction"
   ]
  },
  {
   "cell_type": "code",
   "execution_count": 8,
   "metadata": {},
   "outputs": [],
   "source": [
    "y_train = train_data.apply(lambda x: 1 if x['rating'] > 3 else 0, axis=1)"
   ]
  },
  {
   "cell_type": "code",
   "execution_count": 9,
   "metadata": {
    "collapsed": true
   },
   "outputs": [],
   "source": [
    "x_columns = [c for c in train_data.columns if c not in ['user_id', 'book_id', 'rating']]"
   ]
  },
  {
   "cell_type": "code",
   "execution_count": 10,
   "metadata": {
    "collapsed": true
   },
   "outputs": [],
   "source": [
    "x_train = train_data[x_columns]"
   ]
  },
  {
   "cell_type": "code",
   "execution_count": 11,
   "metadata": {
    "collapsed": true
   },
   "outputs": [],
   "source": [
    "x_train = np.asarray(x_train)\n",
    "y_train = np.asarray(y_train)"
   ]
  },
  {
   "cell_type": "code",
   "execution_count": 12,
   "metadata": {},
   "outputs": [
    {
     "data": {
      "text/plain": [
       "0"
      ]
     },
     "execution_count": 12,
     "metadata": {},
     "output_type": "execute_result"
    }
   ],
   "source": [
    "y_train[0]"
   ]
  },
  {
   "cell_type": "code",
   "execution_count": 92,
   "metadata": {
    "collapsed": true
   },
   "outputs": [],
   "source": [
    "wide_deep = WideDeep(num_classes=1, batch_size=128, lambda_1=0.01, extra_hidden=False)"
   ]
  },
  {
   "cell_type": "code",
   "execution_count": 93,
   "metadata": {},
   "outputs": [
    {
     "name": "stdout",
     "output_type": "stream",
     "text": [
      "__________________________________________________________________________________________________\n",
      "Layer (type)                    Output Shape         Param #     Connected to                     \n",
      "==================================================================================================\n",
      "input_14 (InputLayer)           (None, 62)           0                                            \n",
      "__________________________________________________________________________________________________\n",
      "dense_62 (Dense)                (None, 512)          32256       input_14[0][0]                   \n",
      "__________________________________________________________________________________________________\n",
      "dropout_27 (Dropout)            (None, 512)          0           dense_62[0][0]                   \n",
      "__________________________________________________________________________________________________\n",
      "dense_63 (Dense)                (None, 128)          65664       dropout_27[0][0]                 \n",
      "__________________________________________________________________________________________________\n",
      "dropout_28 (Dropout)            (None, 128)          0           dense_63[0][0]                   \n",
      "__________________________________________________________________________________________________\n",
      "dense_64 (Dense)                (None, 1)            129         dropout_28[0][0]                 \n",
      "__________________________________________________________________________________________________\n",
      "dense_65 (Dense)                (None, 1)            63          input_14[0][0]                   \n",
      "__________________________________________________________________________________________________\n",
      "add_3 (Add)                     (None, 1)            0           dense_64[0][0]                   \n",
      "                                                                 dense_65[0][0]                   \n",
      "__________________________________________________________________________________________________\n",
      "dense_66 (Dense)                (None, 1)            2           add_3[0][0]                      \n",
      "==================================================================================================\n",
      "Total params: 98,114\n",
      "Trainable params: 98,114\n",
      "Non-trainable params: 0\n",
      "__________________________________________________________________________________________________\n",
      "None\n",
      "WARNING:tensorflow:From /home/voldemort/anaconda3/lib/python3.6/site-packages/tensorflow/python/ops/math_ops.py:3066: to_int32 (from tensorflow.python.ops.math_ops) is deprecated and will be removed in a future version.\n",
      "Instructions for updating:\n",
      "Use tf.cast instead.\n",
      "Train on 3346544 samples, validate on 836636 samples\n",
      "Epoch 1/100\n",
      "3346544/3346544 [==============================] - 273s 82us/step - loss: 0.6287 - acc: 0.6894 - val_loss: 0.6201 - val_acc: 0.6895\n",
      "Epoch 2/100\n",
      "3346544/3346544 [==============================] - 291s 87us/step - loss: 0.6200 - acc: 0.6898 - val_loss: 0.6201 - val_acc: 0.6895\n",
      "Epoch 3/100\n",
      "3346544/3346544 [==============================] - 273s 82us/step - loss: 0.6198 - acc: 0.6898 - val_loss: 0.6197 - val_acc: 0.6895\n",
      "Epoch 4/100\n",
      "3346544/3346544 [==============================] - 290s 87us/step - loss: 0.6197 - acc: 0.6898 - val_loss: 0.6197 - val_acc: 0.6895\n",
      "Epoch 5/100\n",
      "3346544/3346544 [==============================] - 290s 87us/step - loss: 0.6196 - acc: 0.6898 - val_loss: 0.6197 - val_acc: 0.6895\n"
     ]
    }
   ],
   "source": [
    "wide_deep.fit(x_train, y_train)"
   ]
  },
  {
   "cell_type": "code",
   "execution_count": 94,
   "metadata": {},
   "outputs": [
    {
     "name": "stdout",
     "output_type": "stream",
     "text": [
      "__________________________________________________________________________________________________\n",
      "Layer (type)                    Output Shape         Param #     Connected to                     \n",
      "==================================================================================================\n",
      "input_15 (InputLayer)           (None, 62)           0                                            \n",
      "__________________________________________________________________________________________________\n",
      "dense_67 (Dense)                (None, 512)          32256       input_15[0][0]                   \n",
      "__________________________________________________________________________________________________\n",
      "dropout_29 (Dropout)            (None, 512)          0           dense_67[0][0]                   \n",
      "__________________________________________________________________________________________________\n",
      "dense_68 (Dense)                (None, 128)          65664       dropout_29[0][0]                 \n",
      "__________________________________________________________________________________________________\n",
      "dropout_30 (Dropout)            (None, 128)          0           dense_68[0][0]                   \n",
      "__________________________________________________________________________________________________\n",
      "dense_69 (Dense)                (None, 1)            129         dropout_30[0][0]                 \n",
      "__________________________________________________________________________________________________\n",
      "dense_70 (Dense)                (None, 1)            63          input_15[0][0]                   \n",
      "__________________________________________________________________________________________________\n",
      "add_4 (Add)                     (None, 1)            0           dense_69[0][0]                   \n",
      "                                                                 dense_70[0][0]                   \n",
      "__________________________________________________________________________________________________\n",
      "dense_71 (Dense)                (None, 1)            2           add_4[0][0]                      \n",
      "==================================================================================================\n",
      "Total params: 98,114\n",
      "Trainable params: 98,114\n",
      "Non-trainable params: 0\n",
      "__________________________________________________________________________________________________\n",
      "None\n",
      "Train on 3346544 samples, validate on 836636 samples\n",
      "Epoch 1/100\n",
      "3346544/3346544 [==============================] - 275s 82us/step - loss: 0.7643 - acc: 0.6895 - val_loss: 0.5661 - val_acc: 0.6895\n",
      "Epoch 2/100\n",
      "3346544/3346544 [==============================] - 293s 87us/step - loss: 0.5449 - acc: 0.7172 - val_loss: 0.5319 - val_acc: 0.7386\n",
      "Epoch 3/100\n",
      "3346544/3346544 [==============================] - 293s 88us/step - loss: 0.5318 - acc: 0.7386 - val_loss: 0.5300 - val_acc: 0.7399\n",
      "Epoch 4/100\n",
      "3346544/3346544 [==============================] - 292s 87us/step - loss: 0.5281 - acc: 0.7393 - val_loss: 0.5258 - val_acc: 0.7404\n",
      "Epoch 5/100\n",
      "3346544/3346544 [==============================] - 293s 88us/step - loss: 0.5262 - acc: 0.7397 - val_loss: 0.5219 - val_acc: 0.7401\n",
      "Epoch 6/100\n",
      "3346544/3346544 [==============================] - 286s 85us/step - loss: 0.5250 - acc: 0.7399 - val_loss: 0.5216 - val_acc: 0.7406\n",
      "Epoch 7/100\n",
      "3346544/3346544 [==============================] - 294s 88us/step - loss: 0.5240 - acc: 0.7401 - val_loss: 0.5215 - val_acc: 0.7406\n",
      "Epoch 8/100\n",
      "3346544/3346544 [==============================] - 293s 87us/step - loss: 0.5234 - acc: 0.7403 - val_loss: 0.5219 - val_acc: 0.7406\n"
     ]
    }
   ],
   "source": [
    "wide_deep = WideDeep(num_classes=1, batch_size=128, lambda_1=0.1, extra_hidden=False)\n",
    "wide_deep.fit(x_train, y_train)"
   ]
  },
  {
   "cell_type": "code",
   "execution_count": 95,
   "metadata": {
    "collapsed": true
   },
   "outputs": [],
   "source": [
    "wide_deep.deep.save('models/wide_deep_1_01_128_False.h5')"
   ]
  },
  {
   "cell_type": "code",
   "execution_count": 96,
   "metadata": {},
   "outputs": [
    {
     "name": "stdout",
     "output_type": "stream",
     "text": [
      "__________________________________________________________________________________________________\n",
      "Layer (type)                    Output Shape         Param #     Connected to                     \n",
      "==================================================================================================\n",
      "input_16 (InputLayer)           (None, 62)           0                                            \n",
      "__________________________________________________________________________________________________\n",
      "dense_72 (Dense)                (None, 512)          32256       input_16[0][0]                   \n",
      "__________________________________________________________________________________________________\n",
      "dropout_31 (Dropout)            (None, 512)          0           dense_72[0][0]                   \n",
      "__________________________________________________________________________________________________\n",
      "dense_73 (Dense)                (None, 128)          65664       dropout_31[0][0]                 \n",
      "__________________________________________________________________________________________________\n",
      "dropout_32 (Dropout)            (None, 128)          0           dense_73[0][0]                   \n",
      "__________________________________________________________________________________________________\n",
      "dense_74 (Dense)                (None, 1)            129         dropout_32[0][0]                 \n",
      "__________________________________________________________________________________________________\n",
      "dense_75 (Dense)                (None, 1)            63          input_16[0][0]                   \n",
      "__________________________________________________________________________________________________\n",
      "add_5 (Add)                     (None, 1)            0           dense_74[0][0]                   \n",
      "                                                                 dense_75[0][0]                   \n",
      "__________________________________________________________________________________________________\n",
      "dense_76 (Dense)                (None, 1)            2           add_5[0][0]                      \n",
      "==================================================================================================\n",
      "Total params: 98,114\n",
      "Trainable params: 98,114\n",
      "Non-trainable params: 0\n",
      "__________________________________________________________________________________________________\n",
      "None\n",
      "Train on 3346544 samples, validate on 836636 samples\n",
      "Epoch 1/100\n",
      "3346544/3346544 [==============================] - 156s 46us/step - loss: 0.8276 - acc: 0.6879 - val_loss: 0.6298 - val_acc: 0.6895\n",
      "Epoch 2/100\n",
      "3346544/3346544 [==============================] - 155s 46us/step - loss: 0.6433 - acc: 0.6898 - val_loss: 0.6256 - val_acc: 0.6895\n",
      "Epoch 3/100\n",
      "3346544/3346544 [==============================] - 156s 46us/step - loss: 0.6361 - acc: 0.6898 - val_loss: 0.6216 - val_acc: 0.6895\n",
      "Epoch 4/100\n",
      "3346544/3346544 [==============================] - 155s 46us/step - loss: 0.6330 - acc: 0.6898 - val_loss: 0.6232 - val_acc: 0.6895\n"
     ]
    }
   ],
   "source": [
    "wide_deep = WideDeep(num_classes=1, batch_size=256, lambda_1=0.1, extra_hidden=False)\n",
    "wide_deep.fit(x_train, y_train)"
   ]
  },
  {
   "cell_type": "code",
   "execution_count": 16,
   "metadata": {},
   "outputs": [
    {
     "name": "stdout",
     "output_type": "stream",
     "text": [
      "__________________________________________________________________________________________________\n",
      "Layer (type)                    Output Shape         Param #     Connected to                     \n",
      "==================================================================================================\n",
      "input_2 (InputLayer)            (None, 62)           0                                            \n",
      "__________________________________________________________________________________________________\n",
      "dense_6 (Dense)                 (None, 512)          32256       input_2[0][0]                    \n",
      "__________________________________________________________________________________________________\n",
      "dropout_4 (Dropout)             (None, 512)          0           dense_6[0][0]                    \n",
      "__________________________________________________________________________________________________\n",
      "dense_7 (Dense)                 (None, 256)          131328      dropout_4[0][0]                  \n",
      "__________________________________________________________________________________________________\n",
      "dropout_5 (Dropout)             (None, 256)          0           dense_7[0][0]                    \n",
      "__________________________________________________________________________________________________\n",
      "dense_8 (Dense)                 (None, 128)          32896       dropout_5[0][0]                  \n",
      "__________________________________________________________________________________________________\n",
      "dropout_6 (Dropout)             (None, 128)          0           dense_8[0][0]                    \n",
      "__________________________________________________________________________________________________\n",
      "dense_9 (Dense)                 (None, 1)            129         dropout_6[0][0]                  \n",
      "__________________________________________________________________________________________________\n",
      "dense_10 (Dense)                (None, 1)            63          input_2[0][0]                    \n",
      "__________________________________________________________________________________________________\n",
      "add_1 (Add)                     (None, 1)            0           dense_9[0][0]                    \n",
      "                                                                 dense_10[0][0]                   \n",
      "__________________________________________________________________________________________________\n",
      "dense_11 (Dense)                (None, 1)            2           add_1[0][0]                      \n",
      "==================================================================================================\n",
      "Total params: 196,674\n",
      "Trainable params: 196,674\n",
      "Non-trainable params: 0\n",
      "__________________________________________________________________________________________________\n",
      "None\n",
      "WARNING:tensorflow:From /home/voldemort/anaconda3/lib/python3.6/site-packages/tensorflow/python/ops/math_ops.py:3066: to_int32 (from tensorflow.python.ops.math_ops) is deprecated and will be removed in a future version.\n",
      "Instructions for updating:\n",
      "Use tf.cast instead.\n",
      "Train on 3346544 samples, validate on 836636 samples\n",
      "Epoch 1/100\n",
      "3346544/3346544 [==============================] - 293s 87us/step - loss: 0.7483 - acc: 0.6889 - val_loss: 0.6231 - val_acc: 0.6895\n",
      "Epoch 2/100\n",
      "3346544/3346544 [==============================] - 308s 92us/step - loss: 0.6277 - acc: 0.6898 - val_loss: 0.6261 - val_acc: 0.6895\n"
     ]
    }
   ],
   "source": [
    "wide_deep = WideDeep(num_classes=1, batch_size=128, lambda_1=0.1, extra_hidden=True)\n",
    "wide_deep.fit(x_train, y_train)"
   ]
  },
  {
   "cell_type": "code",
   "execution_count": 17,
   "metadata": {},
   "outputs": [
    {
     "name": "stdout",
     "output_type": "stream",
     "text": [
      "__________________________________________________________________________________________________\n",
      "Layer (type)                    Output Shape         Param #     Connected to                     \n",
      "==================================================================================================\n",
      "input_3 (InputLayer)            (None, 62)           0                                            \n",
      "__________________________________________________________________________________________________\n",
      "dense_12 (Dense)                (None, 512)          32256       input_3[0][0]                    \n",
      "__________________________________________________________________________________________________\n",
      "dropout_7 (Dropout)             (None, 512)          0           dense_12[0][0]                   \n",
      "__________________________________________________________________________________________________\n",
      "dense_13 (Dense)                (None, 128)          65664       dropout_7[0][0]                  \n",
      "__________________________________________________________________________________________________\n",
      "dropout_8 (Dropout)             (None, 128)          0           dense_13[0][0]                   \n",
      "__________________________________________________________________________________________________\n",
      "dense_14 (Dense)                (None, 1)            129         dropout_8[0][0]                  \n",
      "__________________________________________________________________________________________________\n",
      "dense_15 (Dense)                (None, 1)            63          input_3[0][0]                    \n",
      "__________________________________________________________________________________________________\n",
      "add_2 (Add)                     (None, 1)            0           dense_14[0][0]                   \n",
      "                                                                 dense_15[0][0]                   \n",
      "__________________________________________________________________________________________________\n",
      "dense_16 (Dense)                (None, 1)            2           add_2[0][0]                      \n",
      "==================================================================================================\n",
      "Total params: 98,114\n",
      "Trainable params: 98,114\n",
      "Non-trainable params: 0\n",
      "__________________________________________________________________________________________________\n",
      "None\n",
      "Train on 3346544 samples, validate on 836636 samples\n",
      "Epoch 1/100\n",
      "3346544/3346544 [==============================] - 270s 81us/step - loss: 0.8982 - acc: 0.7352 - val_loss: 0.5612 - val_acc: 0.7392\n",
      "Epoch 2/100\n",
      "3346544/3346544 [==============================] - 287s 86us/step - loss: 0.5622 - acc: 0.7388 - val_loss: 0.5460 - val_acc: 0.7399\n",
      "Epoch 3/100\n",
      "3346544/3346544 [==============================] - 287s 86us/step - loss: 0.5502 - acc: 0.7395 - val_loss: 0.5486 - val_acc: 0.7402\n"
     ]
    }
   ],
   "source": [
    "wide_deep = WideDeep(num_classes=1, batch_size=128, lambda_1=0.5, extra_hidden=False)\n",
    "wide_deep.fit(x_train, y_train)"
   ]
  },
  {
   "cell_type": "code",
   "execution_count": 18,
   "metadata": {
    "collapsed": true
   },
   "outputs": [],
   "source": [
    "wide_deep.deep.save('models/wide_deep_1_5_128_False.h5')"
   ]
  },
  {
   "cell_type": "code",
   "execution_count": 19,
   "metadata": {},
   "outputs": [
    {
     "name": "stdout",
     "output_type": "stream",
     "text": [
      "__________________________________________________________________________________________________\n",
      "Layer (type)                    Output Shape         Param #     Connected to                     \n",
      "==================================================================================================\n",
      "input_4 (InputLayer)            (None, 62)           0                                            \n",
      "__________________________________________________________________________________________________\n",
      "dense_17 (Dense)                (None, 512)          32256       input_4[0][0]                    \n",
      "__________________________________________________________________________________________________\n",
      "dropout_9 (Dropout)             (None, 512)          0           dense_17[0][0]                   \n",
      "__________________________________________________________________________________________________\n",
      "dense_18 (Dense)                (None, 128)          65664       dropout_9[0][0]                  \n",
      "__________________________________________________________________________________________________\n",
      "dropout_10 (Dropout)            (None, 128)          0           dense_18[0][0]                   \n",
      "__________________________________________________________________________________________________\n",
      "dense_19 (Dense)                (None, 1)            129         dropout_10[0][0]                 \n",
      "__________________________________________________________________________________________________\n",
      "dense_20 (Dense)                (None, 1)            63          input_4[0][0]                    \n",
      "__________________________________________________________________________________________________\n",
      "add_3 (Add)                     (None, 1)            0           dense_19[0][0]                   \n",
      "                                                                 dense_20[0][0]                   \n",
      "__________________________________________________________________________________________________\n",
      "dense_21 (Dense)                (None, 1)            2           add_3[0][0]                      \n",
      "==================================================================================================\n",
      "Total params: 98,114\n",
      "Trainable params: 98,114\n",
      "Non-trainable params: 0\n",
      "__________________________________________________________________________________________________\n",
      "None\n",
      "Train on 3346544 samples, validate on 836636 samples\n",
      "Epoch 1/100\n",
      "3346544/3346544 [==============================] - 525s 157us/step - loss: 0.7835 - acc: 0.6893 - val_loss: 0.6316 - val_acc: 0.6895\n",
      "Epoch 2/100\n",
      "3346544/3346544 [==============================] - 558s 167us/step - loss: 0.6324 - acc: 0.6898 - val_loss: 0.6231 - val_acc: 0.6895\n",
      "Epoch 3/100\n",
      "3346544/3346544 [==============================] - 542s 162us/step - loss: 0.6291 - acc: 0.6898 - val_loss: 0.6247 - val_acc: 0.6895\n"
     ]
    }
   ],
   "source": [
    "wide_deep = WideDeep(num_classes=1, batch_size=64, lambda_1=0.5, extra_hidden=False)\n",
    "wide_deep.fit(x_train, y_train)"
   ]
  },
  {
   "cell_type": "markdown",
   "metadata": {},
   "source": [
    "# 1-5 Rating Prediction"
   ]
  },
  {
   "cell_type": "code",
   "execution_count": 20,
   "metadata": {
    "collapsed": true
   },
   "outputs": [],
   "source": [
    "y_train_5 = train_data['rating']\n",
    "y_train_5 = to_categorical(y_train_5)"
   ]
  },
  {
   "cell_type": "code",
   "execution_count": 23,
   "metadata": {},
   "outputs": [
    {
     "data": {
      "text/plain": [
       "4    1496995\n",
       "5    1388429\n",
       "3     959931\n",
       "2     250846\n",
       "1      86979\n",
       "Name: rating, dtype: int64"
      ]
     },
     "execution_count": 23,
     "metadata": {},
     "output_type": "execute_result"
    }
   ],
   "source": [
    "train_data['rating'].value_counts(dropna=False)"
   ]
  },
  {
   "cell_type": "code",
   "execution_count": 21,
   "metadata": {},
   "outputs": [
    {
     "data": {
      "text/plain": [
       "(4183180, 6)"
      ]
     },
     "execution_count": 21,
     "metadata": {},
     "output_type": "execute_result"
    }
   ],
   "source": [
    "y_train_5.shape"
   ]
  },
  {
   "cell_type": "code",
   "execution_count": 35,
   "metadata": {},
   "outputs": [],
   "source": [
    "y_train_5 = train_data.apply(lambda x: x['rating'] - 1, axis=1)\n",
    "y_train_5 = to_categorical(y_train_5)"
   ]
  },
  {
   "cell_type": "code",
   "execution_count": 36,
   "metadata": {},
   "outputs": [
    {
     "data": {
      "text/plain": [
       "(4183180, 5)"
      ]
     },
     "execution_count": 36,
     "metadata": {},
     "output_type": "execute_result"
    }
   ],
   "source": [
    "y_train_5.shape"
   ]
  },
  {
   "cell_type": "code",
   "execution_count": 37,
   "metadata": {},
   "outputs": [
    {
     "name": "stdout",
     "output_type": "stream",
     "text": [
      "__________________________________________________________________________________________________\n",
      "Layer (type)                    Output Shape         Param #     Connected to                     \n",
      "==================================================================================================\n",
      "input_10 (InputLayer)           (None, 62)           0                                            \n",
      "__________________________________________________________________________________________________\n",
      "dense_46 (Dense)                (None, 512)          32256       input_10[0][0]                   \n",
      "__________________________________________________________________________________________________\n",
      "dropout_21 (Dropout)            (None, 512)          0           dense_46[0][0]                   \n",
      "__________________________________________________________________________________________________\n",
      "dense_47 (Dense)                (None, 128)          65664       dropout_21[0][0]                 \n",
      "__________________________________________________________________________________________________\n",
      "dropout_22 (Dropout)            (None, 128)          0           dense_47[0][0]                   \n",
      "__________________________________________________________________________________________________\n",
      "dense_48 (Dense)                (None, 5)            645         dropout_22[0][0]                 \n",
      "__________________________________________________________________________________________________\n",
      "dense_49 (Dense)                (None, 1)            63          input_10[0][0]                   \n",
      "__________________________________________________________________________________________________\n",
      "concatenate_3 (Concatenate)     (None, 6)            0           dense_48[0][0]                   \n",
      "                                                                 dense_49[0][0]                   \n",
      "__________________________________________________________________________________________________\n",
      "dense_50 (Dense)                (None, 5)            35          concatenate_3[0][0]              \n",
      "==================================================================================================\n",
      "Total params: 98,663\n",
      "Trainable params: 98,663\n",
      "Non-trainable params: 0\n",
      "__________________________________________________________________________________________________\n",
      "None\n",
      "Train on 3346544 samples, validate on 836636 samples\n",
      "Epoch 1/100\n",
      "3346544/3346544 [==============================] - 265s 79us/step - loss: 1.3937 - acc: 0.4768 - val_loss: 1.1548 - val_acc: 0.4854\n",
      "Epoch 2/100\n",
      "3346544/3346544 [==============================] - 285s 85us/step - loss: 1.1618 - acc: 0.4839 - val_loss: 1.1482 - val_acc: 0.4863\n",
      "Epoch 3/100\n",
      "3346544/3346544 [==============================] - 280s 84us/step - loss: 1.1562 - acc: 0.4849 - val_loss: 1.1480 - val_acc: 0.4870\n",
      "Epoch 4/100\n",
      "3346544/3346544 [==============================] - 284s 85us/step - loss: 1.1536 - acc: 0.4854 - val_loss: 1.1487 - val_acc: 0.4867\n"
     ]
    }
   ],
   "source": [
    "wide_deep = WideDeep(num_classes=5, batch_size=128, lambda_1=0.1, extra_hidden=False)\n",
    "wide_deep.fit(x_train, y_train_5)"
   ]
  },
  {
   "cell_type": "code",
   "execution_count": 38,
   "metadata": {
    "collapsed": true
   },
   "outputs": [],
   "source": [
    "wide_deep.deep.save('models/wide_deep_5_1_128_False.h5')"
   ]
  },
  {
   "cell_type": "code",
   "execution_count": 39,
   "metadata": {},
   "outputs": [
    {
     "name": "stdout",
     "output_type": "stream",
     "text": [
      "__________________________________________________________________________________________________\n",
      "Layer (type)                    Output Shape         Param #     Connected to                     \n",
      "==================================================================================================\n",
      "input_11 (InputLayer)           (None, 62)           0                                            \n",
      "__________________________________________________________________________________________________\n",
      "dense_51 (Dense)                (None, 512)          32256       input_11[0][0]                   \n",
      "__________________________________________________________________________________________________\n",
      "dropout_23 (Dropout)            (None, 512)          0           dense_51[0][0]                   \n",
      "__________________________________________________________________________________________________\n",
      "dense_52 (Dense)                (None, 128)          65664       dropout_23[0][0]                 \n",
      "__________________________________________________________________________________________________\n",
      "dropout_24 (Dropout)            (None, 128)          0           dense_52[0][0]                   \n",
      "__________________________________________________________________________________________________\n",
      "dense_53 (Dense)                (None, 5)            645         dropout_24[0][0]                 \n",
      "__________________________________________________________________________________________________\n",
      "dense_54 (Dense)                (None, 1)            63          input_11[0][0]                   \n",
      "__________________________________________________________________________________________________\n",
      "concatenate_4 (Concatenate)     (None, 6)            0           dense_53[0][0]                   \n",
      "                                                                 dense_54[0][0]                   \n",
      "__________________________________________________________________________________________________\n",
      "dense_55 (Dense)                (None, 5)            35          concatenate_4[0][0]              \n",
      "==================================================================================================\n",
      "Total params: 98,663\n",
      "Trainable params: 98,663\n",
      "Non-trainable params: 0\n",
      "__________________________________________________________________________________________________\n",
      "None\n",
      "Train on 3346544 samples, validate on 836636 samples\n",
      "Epoch 1/100\n",
      "3346544/3346544 [==============================] - 285s 85us/step - loss: 1.7323 - acc: 0.4723 - val_loss: 1.1653 - val_acc: 0.4854\n",
      "Epoch 2/100\n",
      "3346544/3346544 [==============================] - 286s 85us/step - loss: 1.1904 - acc: 0.4833 - val_loss: 1.1709 - val_acc: 0.4862\n"
     ]
    }
   ],
   "source": [
    "wide_deep = WideDeep(num_classes=5, batch_size=128, lambda_1=0.5, extra_hidden=False)\n",
    "wide_deep.fit(x_train, y_train_5)"
   ]
  },
  {
   "cell_type": "code",
   "execution_count": 40,
   "metadata": {},
   "outputs": [
    {
     "name": "stdout",
     "output_type": "stream",
     "text": [
      "__________________________________________________________________________________________________\n",
      "Layer (type)                    Output Shape         Param #     Connected to                     \n",
      "==================================================================================================\n",
      "input_12 (InputLayer)           (None, 62)           0                                            \n",
      "__________________________________________________________________________________________________\n",
      "dense_56 (Dense)                (None, 512)          32256       input_12[0][0]                   \n",
      "__________________________________________________________________________________________________\n",
      "dropout_25 (Dropout)            (None, 512)          0           dense_56[0][0]                   \n",
      "__________________________________________________________________________________________________\n",
      "dense_57 (Dense)                (None, 256)          131328      dropout_25[0][0]                 \n",
      "__________________________________________________________________________________________________\n",
      "dropout_26 (Dropout)            (None, 256)          0           dense_57[0][0]                   \n",
      "__________________________________________________________________________________________________\n",
      "dense_58 (Dense)                (None, 128)          32896       dropout_26[0][0]                 \n",
      "__________________________________________________________________________________________________\n",
      "dropout_27 (Dropout)            (None, 128)          0           dense_58[0][0]                   \n",
      "__________________________________________________________________________________________________\n",
      "dense_59 (Dense)                (None, 5)            645         dropout_27[0][0]                 \n",
      "__________________________________________________________________________________________________\n",
      "dense_60 (Dense)                (None, 1)            63          input_12[0][0]                   \n",
      "__________________________________________________________________________________________________\n",
      "concatenate_5 (Concatenate)     (None, 6)            0           dense_59[0][0]                   \n",
      "                                                                 dense_60[0][0]                   \n",
      "__________________________________________________________________________________________________\n",
      "dense_61 (Dense)                (None, 5)            35          concatenate_5[0][0]              \n",
      "==================================================================================================\n",
      "Total params: 197,223\n",
      "Trainable params: 197,223\n",
      "Non-trainable params: 0\n",
      "__________________________________________________________________________________________________\n",
      "None\n",
      "Train on 3346544 samples, validate on 836636 samples\n",
      "Epoch 1/100\n",
      "3346544/3346544 [==============================] - 293s 88us/step - loss: 1.4770 - acc: 0.3568 - val_loss: 1.3432 - val_acc: 0.3577\n",
      "Epoch 2/100\n",
      "3346544/3346544 [==============================] - 311s 93us/step - loss: 1.3326 - acc: 0.3579 - val_loss: 1.3261 - val_acc: 0.3577\n",
      "Epoch 3/100\n",
      "3346544/3346544 [==============================] - 311s 93us/step - loss: 1.3276 - acc: 0.3579 - val_loss: 1.3233 - val_acc: 0.3577\n",
      "Epoch 4/100\n",
      "3346544/3346544 [==============================] - 311s 93us/step - loss: 1.3262 - acc: 0.3579 - val_loss: 1.3244 - val_acc: 0.3577\n"
     ]
    }
   ],
   "source": [
    "wide_deep = WideDeep(num_classes=5, batch_size=128, lambda_1=0.1, extra_hidden=True)\n",
    "wide_deep.fit(x_train, y_train_5)"
   ]
  },
  {
   "cell_type": "code",
   "execution_count": null,
   "metadata": {
    "collapsed": true
   },
   "outputs": [],
   "source": []
  }
 ],
 "metadata": {
  "kernelspec": {
   "display_name": "Python 3",
   "language": "python",
   "name": "python3"
  },
  "language_info": {
   "codemirror_mode": {
    "name": "ipython",
    "version": 3
   },
   "file_extension": ".py",
   "mimetype": "text/x-python",
   "name": "python",
   "nbconvert_exporter": "python",
   "pygments_lexer": "ipython3",
   "version": "3.6.2"
  }
 },
 "nbformat": 4,
 "nbformat_minor": 2
}
