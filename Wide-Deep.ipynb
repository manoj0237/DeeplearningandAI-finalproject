{
 "cells": [
  {
   "cell_type": "code",
   "execution_count": 1,
   "metadata": {},
   "outputs": [
    {
     "name": "stderr",
     "output_type": "stream",
     "text": [
      "/home/voldemort/anaconda3/lib/python3.6/site-packages/h5py/__init__.py:34: FutureWarning: Conversion of the second argument of issubdtype from `float` to `np.floating` is deprecated. In future, it will be treated as `np.float64 == np.dtype(float).type`.\n",
      "  from ._conv import register_converters as _register_converters\n",
      "Using TensorFlow backend.\n"
     ]
    }
   ],
   "source": [
    "from keras.utils import to_categorical\n",
    "import numpy as np\n",
    "from time import time\n",
    "\n",
    "from keras.layers import Dense, Dropout, Input, Concatenate, Add, Dot\n",
    "from keras.models import Model, Sequential, load_model\n",
    "from keras.callbacks import EarlyStopping, TensorBoard\n",
    "from keras import regularizers"
   ]
  },
  {
   "cell_type": "code",
   "execution_count": 2,
   "metadata": {},
   "outputs": [
    {
     "data": {
      "text/plain": [
       "['/job:localhost/replica:0/task:0/device:GPU:0']"
      ]
     },
     "execution_count": 2,
     "metadata": {},
     "output_type": "execute_result"
    }
   ],
   "source": [
    "from keras import backend as K\n",
    "K.tensorflow_backend._get_available_gpus()"
   ]
  },
  {
   "cell_type": "code",
   "execution_count": 3,
   "metadata": {
    "collapsed": true
   },
   "outputs": [],
   "source": [
    "from recsys.wide_deep import WideDeep\n",
    "import recsys.evaluate as ev"
   ]
  },
  {
   "cell_type": "code",
   "execution_count": 4,
   "metadata": {
    "collapsed": true
   },
   "outputs": [],
   "source": [
    "import pandas as pd\n",
    "import numpy as np"
   ]
  },
  {
   "cell_type": "code",
   "execution_count": 5,
   "metadata": {
    "collapsed": true
   },
   "outputs": [],
   "source": [
    "train_ratings = pd.read_csv('data/train_ratings_set.csv')\n",
    "book_features = pd.read_csv('data/books_with_latent_features.csv')\n",
    "user_features = pd.read_csv('data/user_features_final.csv')"
   ]
  },
  {
   "cell_type": "code",
   "execution_count": 67,
   "metadata": {},
   "outputs": [
    {
     "data": {
      "text/html": [
       "<div>\n",
       "<style>\n",
       "    .dataframe thead tr:only-child th {\n",
       "        text-align: right;\n",
       "    }\n",
       "\n",
       "    .dataframe thead th {\n",
       "        text-align: left;\n",
       "    }\n",
       "\n",
       "    .dataframe tbody tr th {\n",
       "        vertical-align: top;\n",
       "    }\n",
       "</style>\n",
       "<table border=\"1\" class=\"dataframe\">\n",
       "  <thead>\n",
       "    <tr style=\"text-align: right;\">\n",
       "      <th></th>\n",
       "      <th>user_id</th>\n",
       "      <th>book_id</th>\n",
       "      <th>rating</th>\n",
       "    </tr>\n",
       "  </thead>\n",
       "  <tbody>\n",
       "    <tr>\n",
       "      <th>0</th>\n",
       "      <td>36210</td>\n",
       "      <td>687</td>\n",
       "      <td>2</td>\n",
       "    </tr>\n",
       "    <tr>\n",
       "      <th>1</th>\n",
       "      <td>8</td>\n",
       "      <td>1509</td>\n",
       "      <td>1</td>\n",
       "    </tr>\n",
       "    <tr>\n",
       "      <th>2</th>\n",
       "      <td>42833</td>\n",
       "      <td>3128</td>\n",
       "      <td>4</td>\n",
       "    </tr>\n",
       "    <tr>\n",
       "      <th>3</th>\n",
       "      <td>39774</td>\n",
       "      <td>27</td>\n",
       "      <td>3</td>\n",
       "    </tr>\n",
       "    <tr>\n",
       "      <th>4</th>\n",
       "      <td>28108</td>\n",
       "      <td>1120</td>\n",
       "      <td>5</td>\n",
       "    </tr>\n",
       "  </tbody>\n",
       "</table>\n",
       "</div>"
      ],
      "text/plain": [
       "   user_id  book_id  rating\n",
       "0    36210      687       2\n",
       "1        8     1509       1\n",
       "2    42833     3128       4\n",
       "3    39774       27       3\n",
       "4    28108     1120       5"
      ]
     },
     "execution_count": 67,
     "metadata": {},
     "output_type": "execute_result"
    }
   ],
   "source": [
    "train_ratings.head()"
   ]
  },
  {
   "cell_type": "code",
   "execution_count": 68,
   "metadata": {},
   "outputs": [
    {
     "data": {
      "text/html": [
       "<div>\n",
       "<style>\n",
       "    .dataframe thead tr:only-child th {\n",
       "        text-align: right;\n",
       "    }\n",
       "\n",
       "    .dataframe thead th {\n",
       "        text-align: left;\n",
       "    }\n",
       "\n",
       "    .dataframe tbody tr th {\n",
       "        vertical-align: top;\n",
       "    }\n",
       "</style>\n",
       "<table border=\"1\" class=\"dataframe\">\n",
       "  <thead>\n",
       "    <tr style=\"text-align: right;\">\n",
       "      <th></th>\n",
       "      <th>book_id</th>\n",
       "      <th>books_count</th>\n",
       "      <th>original_publication_year</th>\n",
       "      <th>average_rating</th>\n",
       "      <th>ratings_count</th>\n",
       "      <th>work_ratings_count</th>\n",
       "      <th>work_text_reviews_count</th>\n",
       "      <th>ratings_1</th>\n",
       "      <th>ratings_2</th>\n",
       "      <th>ratings_3</th>\n",
       "      <th>...</th>\n",
       "      <th>15</th>\n",
       "      <th>16</th>\n",
       "      <th>17</th>\n",
       "      <th>18</th>\n",
       "      <th>19</th>\n",
       "      <th>20</th>\n",
       "      <th>21</th>\n",
       "      <th>22</th>\n",
       "      <th>23</th>\n",
       "      <th>24</th>\n",
       "    </tr>\n",
       "  </thead>\n",
       "  <tbody>\n",
       "    <tr>\n",
       "      <th>0</th>\n",
       "      <td>1</td>\n",
       "      <td>1.151500</td>\n",
       "      <td>0.170121</td>\n",
       "      <td>1.327789</td>\n",
       "      <td>30.036789</td>\n",
       "      <td>29.098997</td>\n",
       "      <td>24.874634</td>\n",
       "      <td>9.851855</td>\n",
       "      <td>12.846534</td>\n",
       "      <td>19.219327</td>\n",
       "      <td>...</td>\n",
       "      <td>0.000000</td>\n",
       "      <td>0.000000</td>\n",
       "      <td>0.000000</td>\n",
       "      <td>0.000668</td>\n",
       "      <td>0.00000</td>\n",
       "      <td>0.0</td>\n",
       "      <td>0.0</td>\n",
       "      <td>0.000000</td>\n",
       "      <td>0.009848</td>\n",
       "      <td>0.000000</td>\n",
       "    </tr>\n",
       "    <tr>\n",
       "      <th>1</th>\n",
       "      <td>2</td>\n",
       "      <td>2.436243</td>\n",
       "      <td>0.108104</td>\n",
       "      <td>1.720847</td>\n",
       "      <td>28.904534</td>\n",
       "      <td>28.250940</td>\n",
       "      <td>11.911526</td>\n",
       "      <td>11.176438</td>\n",
       "      <td>10.143953</td>\n",
       "      <td>15.538545</td>\n",
       "      <td>...</td>\n",
       "      <td>0.000000</td>\n",
       "      <td>0.000000</td>\n",
       "      <td>0.000000</td>\n",
       "      <td>0.000000</td>\n",
       "      <td>0.00000</td>\n",
       "      <td>0.0</td>\n",
       "      <td>0.0</td>\n",
       "      <td>0.000000</td>\n",
       "      <td>0.000000</td>\n",
       "      <td>0.000000</td>\n",
       "    </tr>\n",
       "    <tr>\n",
       "      <th>2</th>\n",
       "      <td>3</td>\n",
       "      <td>0.881646</td>\n",
       "      <td>0.153207</td>\n",
       "      <td>-1.698765</td>\n",
       "      <td>24.229710</td>\n",
       "      <td>22.987143</td>\n",
       "      <td>15.037225</td>\n",
       "      <td>68.549476</td>\n",
       "      <td>44.633867</td>\n",
       "      <td>27.389823</td>\n",
       "      <td>...</td>\n",
       "      <td>0.000000</td>\n",
       "      <td>0.000000</td>\n",
       "      <td>0.026678</td>\n",
       "      <td>0.000000</td>\n",
       "      <td>0.00000</td>\n",
       "      <td>0.0</td>\n",
       "      <td>0.0</td>\n",
       "      <td>0.000000</td>\n",
       "      <td>0.007945</td>\n",
       "      <td>0.000000</td>\n",
       "    </tr>\n",
       "    <tr>\n",
       "      <th>3</th>\n",
       "      <td>4</td>\n",
       "      <td>2.412777</td>\n",
       "      <td>-0.100498</td>\n",
       "      <td>0.974035</td>\n",
       "      <td>19.983656</td>\n",
       "      <td>19.554820</td>\n",
       "      <td>11.375772</td>\n",
       "      <td>8.904196</td>\n",
       "      <td>11.763752</td>\n",
       "      <td>15.251665</td>\n",
       "      <td>...</td>\n",
       "      <td>0.002680</td>\n",
       "      <td>0.000000</td>\n",
       "      <td>0.000000</td>\n",
       "      <td>0.009918</td>\n",
       "      <td>0.04148</td>\n",
       "      <td>0.0</td>\n",
       "      <td>0.0</td>\n",
       "      <td>0.000847</td>\n",
       "      <td>0.021077</td>\n",
       "      <td>0.031681</td>\n",
       "    </tr>\n",
       "    <tr>\n",
       "      <th>4</th>\n",
       "      <td>5</td>\n",
       "      <td>7.510681</td>\n",
       "      <td>-0.297825</td>\n",
       "      <td>-0.440977</td>\n",
       "      <td>16.710904</td>\n",
       "      <td>16.174804</td>\n",
       "      <td>8.012977</td>\n",
       "      <td>12.793850</td>\n",
       "      <td>20.018253</td>\n",
       "      <td>20.833128</td>\n",
       "      <td>...</td>\n",
       "      <td>0.011253</td>\n",
       "      <td>0.000036</td>\n",
       "      <td>0.000000</td>\n",
       "      <td>0.000000</td>\n",
       "      <td>0.00000</td>\n",
       "      <td>0.0</td>\n",
       "      <td>0.0</td>\n",
       "      <td>0.000000</td>\n",
       "      <td>0.000000</td>\n",
       "      <td>0.000000</td>\n",
       "    </tr>\n",
       "  </tbody>\n",
       "</table>\n",
       "<p>5 rows × 37 columns</p>\n",
       "</div>"
      ],
      "text/plain": [
       "   book_id  books_count  original_publication_year  average_rating  \\\n",
       "0        1     1.151500                   0.170121        1.327789   \n",
       "1        2     2.436243                   0.108104        1.720847   \n",
       "2        3     0.881646                   0.153207       -1.698765   \n",
       "3        4     2.412777                  -0.100498        0.974035   \n",
       "4        5     7.510681                  -0.297825       -0.440977   \n",
       "\n",
       "   ratings_count  work_ratings_count  work_text_reviews_count  ratings_1  \\\n",
       "0      30.036789           29.098997                24.874634   9.851855   \n",
       "1      28.904534           28.250940                11.911526  11.176438   \n",
       "2      24.229710           22.987143                15.037225  68.549476   \n",
       "3      19.983656           19.554820                11.375772   8.904196   \n",
       "4      16.710904           16.174804                 8.012977  12.793850   \n",
       "\n",
       "   ratings_2  ratings_3    ...           15        16        17        18  \\\n",
       "0  12.846534  19.219327    ...     0.000000  0.000000  0.000000  0.000668   \n",
       "1  10.143953  15.538545    ...     0.000000  0.000000  0.000000  0.000000   \n",
       "2  44.633867  27.389823    ...     0.000000  0.000000  0.026678  0.000000   \n",
       "3  11.763752  15.251665    ...     0.002680  0.000000  0.000000  0.009918   \n",
       "4  20.018253  20.833128    ...     0.011253  0.000036  0.000000  0.000000   \n",
       "\n",
       "        19   20   21        22        23        24  \n",
       "0  0.00000  0.0  0.0  0.000000  0.009848  0.000000  \n",
       "1  0.00000  0.0  0.0  0.000000  0.000000  0.000000  \n",
       "2  0.00000  0.0  0.0  0.000000  0.007945  0.000000  \n",
       "3  0.04148  0.0  0.0  0.000847  0.021077  0.031681  \n",
       "4  0.00000  0.0  0.0  0.000000  0.000000  0.000000  \n",
       "\n",
       "[5 rows x 37 columns]"
      ]
     },
     "execution_count": 68,
     "metadata": {},
     "output_type": "execute_result"
    }
   ],
   "source": [
    "book_features.head()"
   ]
  },
  {
   "cell_type": "code",
   "execution_count": 69,
   "metadata": {},
   "outputs": [
    {
     "data": {
      "text/html": [
       "<div>\n",
       "<style>\n",
       "    .dataframe thead tr:only-child th {\n",
       "        text-align: right;\n",
       "    }\n",
       "\n",
       "    .dataframe thead th {\n",
       "        text-align: left;\n",
       "    }\n",
       "\n",
       "    .dataframe tbody tr th {\n",
       "        vertical-align: top;\n",
       "    }\n",
       "</style>\n",
       "<table border=\"1\" class=\"dataframe\">\n",
       "  <thead>\n",
       "    <tr style=\"text-align: right;\">\n",
       "      <th></th>\n",
       "      <th>user_id</th>\n",
       "      <th>avg_rating</th>\n",
       "      <th>0</th>\n",
       "      <th>1</th>\n",
       "      <th>2</th>\n",
       "      <th>3</th>\n",
       "      <th>4</th>\n",
       "      <th>5</th>\n",
       "      <th>6</th>\n",
       "      <th>7</th>\n",
       "      <th>...</th>\n",
       "      <th>15</th>\n",
       "      <th>16</th>\n",
       "      <th>17</th>\n",
       "      <th>18</th>\n",
       "      <th>19</th>\n",
       "      <th>20</th>\n",
       "      <th>21</th>\n",
       "      <th>22</th>\n",
       "      <th>23</th>\n",
       "      <th>24</th>\n",
       "    </tr>\n",
       "  </thead>\n",
       "  <tbody>\n",
       "    <tr>\n",
       "      <th>0</th>\n",
       "      <td>6.0</td>\n",
       "      <td>4.285714</td>\n",
       "      <td>0.195982</td>\n",
       "      <td>0.01082</td>\n",
       "      <td>0.008561</td>\n",
       "      <td>0.007327</td>\n",
       "      <td>0.03029</td>\n",
       "      <td>0.032636</td>\n",
       "      <td>0.028151</td>\n",
       "      <td>0.012982</td>\n",
       "      <td>...</td>\n",
       "      <td>0.001723</td>\n",
       "      <td>0.0</td>\n",
       "      <td>0.011177</td>\n",
       "      <td>0.020266</td>\n",
       "      <td>0.015214</td>\n",
       "      <td>0.020975</td>\n",
       "      <td>0.041102</td>\n",
       "      <td>0.010981</td>\n",
       "      <td>0.012653</td>\n",
       "      <td>0.06773</td>\n",
       "    </tr>\n",
       "    <tr>\n",
       "      <th>1</th>\n",
       "      <td>1006.0</td>\n",
       "      <td>3.784615</td>\n",
       "      <td>0.195982</td>\n",
       "      <td>0.01082</td>\n",
       "      <td>0.008561</td>\n",
       "      <td>0.007327</td>\n",
       "      <td>0.03029</td>\n",
       "      <td>0.032636</td>\n",
       "      <td>0.028151</td>\n",
       "      <td>0.012982</td>\n",
       "      <td>...</td>\n",
       "      <td>0.001723</td>\n",
       "      <td>0.0</td>\n",
       "      <td>0.011177</td>\n",
       "      <td>0.020266</td>\n",
       "      <td>0.015214</td>\n",
       "      <td>0.020975</td>\n",
       "      <td>0.041102</td>\n",
       "      <td>0.010981</td>\n",
       "      <td>0.012653</td>\n",
       "      <td>0.06773</td>\n",
       "    </tr>\n",
       "    <tr>\n",
       "      <th>2</th>\n",
       "      <td>2006.0</td>\n",
       "      <td>4.100000</td>\n",
       "      <td>0.195982</td>\n",
       "      <td>0.01082</td>\n",
       "      <td>0.008561</td>\n",
       "      <td>0.007327</td>\n",
       "      <td>0.03029</td>\n",
       "      <td>0.032636</td>\n",
       "      <td>0.028151</td>\n",
       "      <td>0.012982</td>\n",
       "      <td>...</td>\n",
       "      <td>0.001723</td>\n",
       "      <td>0.0</td>\n",
       "      <td>0.011177</td>\n",
       "      <td>0.020266</td>\n",
       "      <td>0.015214</td>\n",
       "      <td>0.020975</td>\n",
       "      <td>0.041102</td>\n",
       "      <td>0.010981</td>\n",
       "      <td>0.012653</td>\n",
       "      <td>0.06773</td>\n",
       "    </tr>\n",
       "    <tr>\n",
       "      <th>3</th>\n",
       "      <td>3006.0</td>\n",
       "      <td>3.819444</td>\n",
       "      <td>0.195982</td>\n",
       "      <td>0.01082</td>\n",
       "      <td>0.008561</td>\n",
       "      <td>0.007327</td>\n",
       "      <td>0.03029</td>\n",
       "      <td>0.032636</td>\n",
       "      <td>0.028151</td>\n",
       "      <td>0.012982</td>\n",
       "      <td>...</td>\n",
       "      <td>0.001723</td>\n",
       "      <td>0.0</td>\n",
       "      <td>0.011177</td>\n",
       "      <td>0.020266</td>\n",
       "      <td>0.015214</td>\n",
       "      <td>0.020975</td>\n",
       "      <td>0.041102</td>\n",
       "      <td>0.010981</td>\n",
       "      <td>0.012653</td>\n",
       "      <td>0.06773</td>\n",
       "    </tr>\n",
       "    <tr>\n",
       "      <th>4</th>\n",
       "      <td>4006.0</td>\n",
       "      <td>3.317647</td>\n",
       "      <td>0.195982</td>\n",
       "      <td>0.01082</td>\n",
       "      <td>0.008561</td>\n",
       "      <td>0.007327</td>\n",
       "      <td>0.03029</td>\n",
       "      <td>0.032636</td>\n",
       "      <td>0.028151</td>\n",
       "      <td>0.012982</td>\n",
       "      <td>...</td>\n",
       "      <td>0.001723</td>\n",
       "      <td>0.0</td>\n",
       "      <td>0.011177</td>\n",
       "      <td>0.020266</td>\n",
       "      <td>0.015214</td>\n",
       "      <td>0.020975</td>\n",
       "      <td>0.041102</td>\n",
       "      <td>0.010981</td>\n",
       "      <td>0.012653</td>\n",
       "      <td>0.06773</td>\n",
       "    </tr>\n",
       "  </tbody>\n",
       "</table>\n",
       "<p>5 rows × 27 columns</p>\n",
       "</div>"
      ],
      "text/plain": [
       "   user_id  avg_rating         0        1         2         3        4  \\\n",
       "0      6.0    4.285714  0.195982  0.01082  0.008561  0.007327  0.03029   \n",
       "1   1006.0    3.784615  0.195982  0.01082  0.008561  0.007327  0.03029   \n",
       "2   2006.0    4.100000  0.195982  0.01082  0.008561  0.007327  0.03029   \n",
       "3   3006.0    3.819444  0.195982  0.01082  0.008561  0.007327  0.03029   \n",
       "4   4006.0    3.317647  0.195982  0.01082  0.008561  0.007327  0.03029   \n",
       "\n",
       "          5         6         7   ...           15   16        17        18  \\\n",
       "0  0.032636  0.028151  0.012982   ...     0.001723  0.0  0.011177  0.020266   \n",
       "1  0.032636  0.028151  0.012982   ...     0.001723  0.0  0.011177  0.020266   \n",
       "2  0.032636  0.028151  0.012982   ...     0.001723  0.0  0.011177  0.020266   \n",
       "3  0.032636  0.028151  0.012982   ...     0.001723  0.0  0.011177  0.020266   \n",
       "4  0.032636  0.028151  0.012982   ...     0.001723  0.0  0.011177  0.020266   \n",
       "\n",
       "         19        20        21        22        23       24  \n",
       "0  0.015214  0.020975  0.041102  0.010981  0.012653  0.06773  \n",
       "1  0.015214  0.020975  0.041102  0.010981  0.012653  0.06773  \n",
       "2  0.015214  0.020975  0.041102  0.010981  0.012653  0.06773  \n",
       "3  0.015214  0.020975  0.041102  0.010981  0.012653  0.06773  \n",
       "4  0.015214  0.020975  0.041102  0.010981  0.012653  0.06773  \n",
       "\n",
       "[5 rows x 27 columns]"
      ]
     },
     "execution_count": 69,
     "metadata": {},
     "output_type": "execute_result"
    }
   ],
   "source": [
    "user_features.head()"
   ]
  },
  {
   "cell_type": "code",
   "execution_count": 6,
   "metadata": {
    "collapsed": true
   },
   "outputs": [],
   "source": [
    "user_features['user_id'] = user_features.apply(lambda x: int(x['user_id']), axis=1)"
   ]
  },
  {
   "cell_type": "code",
   "execution_count": 7,
   "metadata": {
    "collapsed": true
   },
   "outputs": [],
   "source": [
    "train_data = train_ratings.merge(user_features, how='left', on='user_id')"
   ]
  },
  {
   "cell_type": "code",
   "execution_count": 8,
   "metadata": {
    "collapsed": true
   },
   "outputs": [],
   "source": [
    "train_data = train_data.merge(book_features, how='left', on='book_id')"
   ]
  },
  {
   "cell_type": "code",
   "execution_count": 73,
   "metadata": {},
   "outputs": [
    {
     "data": {
      "text/html": [
       "<div>\n",
       "<style>\n",
       "    .dataframe thead tr:only-child th {\n",
       "        text-align: right;\n",
       "    }\n",
       "\n",
       "    .dataframe thead th {\n",
       "        text-align: left;\n",
       "    }\n",
       "\n",
       "    .dataframe tbody tr th {\n",
       "        vertical-align: top;\n",
       "    }\n",
       "</style>\n",
       "<table border=\"1\" class=\"dataframe\">\n",
       "  <thead>\n",
       "    <tr style=\"text-align: right;\">\n",
       "      <th></th>\n",
       "      <th>user_id</th>\n",
       "      <th>book_id</th>\n",
       "      <th>rating</th>\n",
       "      <th>avg_rating</th>\n",
       "      <th>0_x</th>\n",
       "      <th>1_x</th>\n",
       "      <th>2_x</th>\n",
       "      <th>3_x</th>\n",
       "      <th>4_x</th>\n",
       "      <th>5_x</th>\n",
       "      <th>...</th>\n",
       "      <th>15_y</th>\n",
       "      <th>16_y</th>\n",
       "      <th>17_y</th>\n",
       "      <th>18_y</th>\n",
       "      <th>19_y</th>\n",
       "      <th>20_y</th>\n",
       "      <th>21_y</th>\n",
       "      <th>22_y</th>\n",
       "      <th>23_y</th>\n",
       "      <th>24_y</th>\n",
       "    </tr>\n",
       "  </thead>\n",
       "  <tbody>\n",
       "    <tr>\n",
       "      <th>0</th>\n",
       "      <td>36210</td>\n",
       "      <td>687</td>\n",
       "      <td>2</td>\n",
       "      <td>3.536232</td>\n",
       "      <td>0.202367</td>\n",
       "      <td>0.033538</td>\n",
       "      <td>0.001456</td>\n",
       "      <td>0.005575</td>\n",
       "      <td>0.006220</td>\n",
       "      <td>0.035502</td>\n",
       "      <td>...</td>\n",
       "      <td>0.001187</td>\n",
       "      <td>0.001917</td>\n",
       "      <td>0.000825</td>\n",
       "      <td>0.0</td>\n",
       "      <td>0.002246</td>\n",
       "      <td>0.001787</td>\n",
       "      <td>0.003241</td>\n",
       "      <td>0.003036</td>\n",
       "      <td>0.004602</td>\n",
       "      <td>0.009414</td>\n",
       "    </tr>\n",
       "    <tr>\n",
       "      <th>1</th>\n",
       "      <td>8</td>\n",
       "      <td>1509</td>\n",
       "      <td>1</td>\n",
       "      <td>3.421053</td>\n",
       "      <td>0.199233</td>\n",
       "      <td>0.013608</td>\n",
       "      <td>0.000536</td>\n",
       "      <td>0.003621</td>\n",
       "      <td>0.023440</td>\n",
       "      <td>0.005159</td>\n",
       "      <td>...</td>\n",
       "      <td>0.000000</td>\n",
       "      <td>0.000000</td>\n",
       "      <td>0.000000</td>\n",
       "      <td>0.0</td>\n",
       "      <td>0.000000</td>\n",
       "      <td>0.000000</td>\n",
       "      <td>0.000000</td>\n",
       "      <td>0.000000</td>\n",
       "      <td>0.000000</td>\n",
       "      <td>0.000000</td>\n",
       "    </tr>\n",
       "    <tr>\n",
       "      <th>2</th>\n",
       "      <td>42833</td>\n",
       "      <td>3128</td>\n",
       "      <td>4</td>\n",
       "      <td>4.611940</td>\n",
       "      <td>0.196320</td>\n",
       "      <td>0.021527</td>\n",
       "      <td>0.007529</td>\n",
       "      <td>0.007994</td>\n",
       "      <td>0.014450</td>\n",
       "      <td>0.030204</td>\n",
       "      <td>...</td>\n",
       "      <td>0.000000</td>\n",
       "      <td>0.000000</td>\n",
       "      <td>0.000000</td>\n",
       "      <td>0.0</td>\n",
       "      <td>0.000000</td>\n",
       "      <td>0.000000</td>\n",
       "      <td>0.000000</td>\n",
       "      <td>0.000000</td>\n",
       "      <td>0.000000</td>\n",
       "      <td>0.000000</td>\n",
       "    </tr>\n",
       "    <tr>\n",
       "      <th>3</th>\n",
       "      <td>39774</td>\n",
       "      <td>27</td>\n",
       "      <td>3</td>\n",
       "      <td>3.523810</td>\n",
       "      <td>0.156639</td>\n",
       "      <td>0.050961</td>\n",
       "      <td>0.051112</td>\n",
       "      <td>0.004160</td>\n",
       "      <td>0.012483</td>\n",
       "      <td>0.067711</td>\n",
       "      <td>...</td>\n",
       "      <td>0.000000</td>\n",
       "      <td>0.000000</td>\n",
       "      <td>0.008164</td>\n",
       "      <td>0.0</td>\n",
       "      <td>0.000000</td>\n",
       "      <td>0.003095</td>\n",
       "      <td>0.000000</td>\n",
       "      <td>0.015545</td>\n",
       "      <td>0.000000</td>\n",
       "      <td>0.029988</td>\n",
       "    </tr>\n",
       "    <tr>\n",
       "      <th>4</th>\n",
       "      <td>28108</td>\n",
       "      <td>1120</td>\n",
       "      <td>5</td>\n",
       "      <td>4.678571</td>\n",
       "      <td>0.189999</td>\n",
       "      <td>0.032203</td>\n",
       "      <td>0.093174</td>\n",
       "      <td>0.000000</td>\n",
       "      <td>0.000000</td>\n",
       "      <td>0.085931</td>\n",
       "      <td>...</td>\n",
       "      <td>0.001789</td>\n",
       "      <td>0.001892</td>\n",
       "      <td>0.000725</td>\n",
       "      <td>0.0</td>\n",
       "      <td>0.003100</td>\n",
       "      <td>0.001592</td>\n",
       "      <td>0.004266</td>\n",
       "      <td>0.003174</td>\n",
       "      <td>0.004424</td>\n",
       "      <td>0.009140</td>\n",
       "    </tr>\n",
       "  </tbody>\n",
       "</table>\n",
       "<p>5 rows × 65 columns</p>\n",
       "</div>"
      ],
      "text/plain": [
       "   user_id  book_id  rating  avg_rating       0_x       1_x       2_x  \\\n",
       "0    36210      687       2    3.536232  0.202367  0.033538  0.001456   \n",
       "1        8     1509       1    3.421053  0.199233  0.013608  0.000536   \n",
       "2    42833     3128       4    4.611940  0.196320  0.021527  0.007529   \n",
       "3    39774       27       3    3.523810  0.156639  0.050961  0.051112   \n",
       "4    28108     1120       5    4.678571  0.189999  0.032203  0.093174   \n",
       "\n",
       "        3_x       4_x       5_x    ...         15_y      16_y      17_y  18_y  \\\n",
       "0  0.005575  0.006220  0.035502    ...     0.001187  0.001917  0.000825   0.0   \n",
       "1  0.003621  0.023440  0.005159    ...     0.000000  0.000000  0.000000   0.0   \n",
       "2  0.007994  0.014450  0.030204    ...     0.000000  0.000000  0.000000   0.0   \n",
       "3  0.004160  0.012483  0.067711    ...     0.000000  0.000000  0.008164   0.0   \n",
       "4  0.000000  0.000000  0.085931    ...     0.001789  0.001892  0.000725   0.0   \n",
       "\n",
       "       19_y      20_y      21_y      22_y      23_y      24_y  \n",
       "0  0.002246  0.001787  0.003241  0.003036  0.004602  0.009414  \n",
       "1  0.000000  0.000000  0.000000  0.000000  0.000000  0.000000  \n",
       "2  0.000000  0.000000  0.000000  0.000000  0.000000  0.000000  \n",
       "3  0.000000  0.003095  0.000000  0.015545  0.000000  0.029988  \n",
       "4  0.003100  0.001592  0.004266  0.003174  0.004424  0.009140  \n",
       "\n",
       "[5 rows x 65 columns]"
      ]
     },
     "execution_count": 73,
     "metadata": {},
     "output_type": "execute_result"
    }
   ],
   "source": [
    "train_data.head()"
   ]
  },
  {
   "cell_type": "code",
   "execution_count": 74,
   "metadata": {},
   "outputs": [
    {
     "data": {
      "text/plain": [
       "(4183180, 65)"
      ]
     },
     "execution_count": 74,
     "metadata": {},
     "output_type": "execute_result"
    }
   ],
   "source": [
    "train_data.shape"
   ]
  },
  {
   "cell_type": "code",
   "execution_count": 7,
   "metadata": {},
   "outputs": [
    {
     "data": {
      "text/plain": [
       "2208719064"
      ]
     },
     "execution_count": 7,
     "metadata": {},
     "output_type": "execute_result"
    }
   ],
   "source": [
    "import sys\n",
    "sys.getsizeof(train_data)"
   ]
  },
  {
   "cell_type": "markdown",
   "metadata": {},
   "source": [
    "# Like/Dislike Prediction"
   ]
  },
  {
   "cell_type": "code",
   "execution_count": 8,
   "metadata": {
    "collapsed": true
   },
   "outputs": [],
   "source": [
    "y_train = train_data.apply(lambda x: 1 if x['rating'] > 3 else 0, axis=1)"
   ]
  },
  {
   "cell_type": "code",
   "execution_count": 13,
   "metadata": {
    "collapsed": true
   },
   "outputs": [],
   "source": [
    "x_columns = [c for c in train_data.columns if c not in ['user_id', 'book_id', 'rating']]"
   ]
  },
  {
   "cell_type": "code",
   "execution_count": 14,
   "metadata": {
    "collapsed": true
   },
   "outputs": [],
   "source": [
    "x_train = train_data[x_columns]"
   ]
  },
  {
   "cell_type": "code",
   "execution_count": 15,
   "metadata": {
    "collapsed": true
   },
   "outputs": [],
   "source": [
    "x_train = np.asarray(x_train)\n",
    "y_train = np.asarray(y_train)"
   ]
  },
  {
   "cell_type": "code",
   "execution_count": 12,
   "metadata": {},
   "outputs": [
    {
     "data": {
      "text/plain": [
       "0"
      ]
     },
     "execution_count": 12,
     "metadata": {},
     "output_type": "execute_result"
    }
   ],
   "source": [
    "y_train[0]"
   ]
  },
  {
   "cell_type": "code",
   "execution_count": 92,
   "metadata": {
    "collapsed": true
   },
   "outputs": [],
   "source": [
    "wide_deep = WideDeep(num_classes=1, batch_size=128, lambda_1=0.01, extra_hidden=False)"
   ]
  },
  {
   "cell_type": "code",
   "execution_count": 93,
   "metadata": {},
   "outputs": [
    {
     "name": "stdout",
     "output_type": "stream",
     "text": [
      "__________________________________________________________________________________________________\n",
      "Layer (type)                    Output Shape         Param #     Connected to                     \n",
      "==================================================================================================\n",
      "input_14 (InputLayer)           (None, 62)           0                                            \n",
      "__________________________________________________________________________________________________\n",
      "dense_62 (Dense)                (None, 512)          32256       input_14[0][0]                   \n",
      "__________________________________________________________________________________________________\n",
      "dropout_27 (Dropout)            (None, 512)          0           dense_62[0][0]                   \n",
      "__________________________________________________________________________________________________\n",
      "dense_63 (Dense)                (None, 128)          65664       dropout_27[0][0]                 \n",
      "__________________________________________________________________________________________________\n",
      "dropout_28 (Dropout)            (None, 128)          0           dense_63[0][0]                   \n",
      "__________________________________________________________________________________________________\n",
      "dense_64 (Dense)                (None, 1)            129         dropout_28[0][0]                 \n",
      "__________________________________________________________________________________________________\n",
      "dense_65 (Dense)                (None, 1)            63          input_14[0][0]                   \n",
      "__________________________________________________________________________________________________\n",
      "add_3 (Add)                     (None, 1)            0           dense_64[0][0]                   \n",
      "                                                                 dense_65[0][0]                   \n",
      "__________________________________________________________________________________________________\n",
      "dense_66 (Dense)                (None, 1)            2           add_3[0][0]                      \n",
      "==================================================================================================\n",
      "Total params: 98,114\n",
      "Trainable params: 98,114\n",
      "Non-trainable params: 0\n",
      "__________________________________________________________________________________________________\n",
      "None\n",
      "WARNING:tensorflow:From /home/voldemort/anaconda3/lib/python3.6/site-packages/tensorflow/python/ops/math_ops.py:3066: to_int32 (from tensorflow.python.ops.math_ops) is deprecated and will be removed in a future version.\n",
      "Instructions for updating:\n",
      "Use tf.cast instead.\n",
      "Train on 3346544 samples, validate on 836636 samples\n",
      "Epoch 1/100\n",
      "3346544/3346544 [==============================] - 273s 82us/step - loss: 0.6287 - acc: 0.6894 - val_loss: 0.6201 - val_acc: 0.6895\n",
      "Epoch 2/100\n",
      "3346544/3346544 [==============================] - 291s 87us/step - loss: 0.6200 - acc: 0.6898 - val_loss: 0.6201 - val_acc: 0.6895\n",
      "Epoch 3/100\n",
      "3346544/3346544 [==============================] - 273s 82us/step - loss: 0.6198 - acc: 0.6898 - val_loss: 0.6197 - val_acc: 0.6895\n",
      "Epoch 4/100\n",
      "3346544/3346544 [==============================] - 290s 87us/step - loss: 0.6197 - acc: 0.6898 - val_loss: 0.6197 - val_acc: 0.6895\n",
      "Epoch 5/100\n",
      "3346544/3346544 [==============================] - 290s 87us/step - loss: 0.6196 - acc: 0.6898 - val_loss: 0.6197 - val_acc: 0.6895\n"
     ]
    }
   ],
   "source": [
    "wide_deep.fit(x_train, y_train)"
   ]
  },
  {
   "cell_type": "code",
   "execution_count": 94,
   "metadata": {},
   "outputs": [
    {
     "name": "stdout",
     "output_type": "stream",
     "text": [
      "__________________________________________________________________________________________________\n",
      "Layer (type)                    Output Shape         Param #     Connected to                     \n",
      "==================================================================================================\n",
      "input_15 (InputLayer)           (None, 62)           0                                            \n",
      "__________________________________________________________________________________________________\n",
      "dense_67 (Dense)                (None, 512)          32256       input_15[0][0]                   \n",
      "__________________________________________________________________________________________________\n",
      "dropout_29 (Dropout)            (None, 512)          0           dense_67[0][0]                   \n",
      "__________________________________________________________________________________________________\n",
      "dense_68 (Dense)                (None, 128)          65664       dropout_29[0][0]                 \n",
      "__________________________________________________________________________________________________\n",
      "dropout_30 (Dropout)            (None, 128)          0           dense_68[0][0]                   \n",
      "__________________________________________________________________________________________________\n",
      "dense_69 (Dense)                (None, 1)            129         dropout_30[0][0]                 \n",
      "__________________________________________________________________________________________________\n",
      "dense_70 (Dense)                (None, 1)            63          input_15[0][0]                   \n",
      "__________________________________________________________________________________________________\n",
      "add_4 (Add)                     (None, 1)            0           dense_69[0][0]                   \n",
      "                                                                 dense_70[0][0]                   \n",
      "__________________________________________________________________________________________________\n",
      "dense_71 (Dense)                (None, 1)            2           add_4[0][0]                      \n",
      "==================================================================================================\n",
      "Total params: 98,114\n",
      "Trainable params: 98,114\n",
      "Non-trainable params: 0\n",
      "__________________________________________________________________________________________________\n",
      "None\n",
      "Train on 3346544 samples, validate on 836636 samples\n",
      "Epoch 1/100\n",
      "3346544/3346544 [==============================] - 275s 82us/step - loss: 0.7643 - acc: 0.6895 - val_loss: 0.5661 - val_acc: 0.6895\n",
      "Epoch 2/100\n",
      "3346544/3346544 [==============================] - 293s 87us/step - loss: 0.5449 - acc: 0.7172 - val_loss: 0.5319 - val_acc: 0.7386\n",
      "Epoch 3/100\n",
      "3346544/3346544 [==============================] - 293s 88us/step - loss: 0.5318 - acc: 0.7386 - val_loss: 0.5300 - val_acc: 0.7399\n",
      "Epoch 4/100\n",
      "3346544/3346544 [==============================] - 292s 87us/step - loss: 0.5281 - acc: 0.7393 - val_loss: 0.5258 - val_acc: 0.7404\n",
      "Epoch 5/100\n",
      "3346544/3346544 [==============================] - 293s 88us/step - loss: 0.5262 - acc: 0.7397 - val_loss: 0.5219 - val_acc: 0.7401\n",
      "Epoch 6/100\n",
      "3346544/3346544 [==============================] - 286s 85us/step - loss: 0.5250 - acc: 0.7399 - val_loss: 0.5216 - val_acc: 0.7406\n",
      "Epoch 7/100\n",
      "3346544/3346544 [==============================] - 294s 88us/step - loss: 0.5240 - acc: 0.7401 - val_loss: 0.5215 - val_acc: 0.7406\n",
      "Epoch 8/100\n",
      "3346544/3346544 [==============================] - 293s 87us/step - loss: 0.5234 - acc: 0.7403 - val_loss: 0.5219 - val_acc: 0.7406\n"
     ]
    }
   ],
   "source": [
    "wide_deep = WideDeep(num_classes=1, batch_size=128, lambda_1=0.1, extra_hidden=False)\n",
    "wide_deep.fit(x_train, y_train)"
   ]
  },
  {
   "cell_type": "code",
   "execution_count": 95,
   "metadata": {
    "collapsed": true
   },
   "outputs": [],
   "source": [
    "wide_deep.deep.save('models/wide_deep_1_01_128_False.h5')"
   ]
  },
  {
   "cell_type": "code",
   "execution_count": 96,
   "metadata": {},
   "outputs": [
    {
     "name": "stdout",
     "output_type": "stream",
     "text": [
      "__________________________________________________________________________________________________\n",
      "Layer (type)                    Output Shape         Param #     Connected to                     \n",
      "==================================================================================================\n",
      "input_16 (InputLayer)           (None, 62)           0                                            \n",
      "__________________________________________________________________________________________________\n",
      "dense_72 (Dense)                (None, 512)          32256       input_16[0][0]                   \n",
      "__________________________________________________________________________________________________\n",
      "dropout_31 (Dropout)            (None, 512)          0           dense_72[0][0]                   \n",
      "__________________________________________________________________________________________________\n",
      "dense_73 (Dense)                (None, 128)          65664       dropout_31[0][0]                 \n",
      "__________________________________________________________________________________________________\n",
      "dropout_32 (Dropout)            (None, 128)          0           dense_73[0][0]                   \n",
      "__________________________________________________________________________________________________\n",
      "dense_74 (Dense)                (None, 1)            129         dropout_32[0][0]                 \n",
      "__________________________________________________________________________________________________\n",
      "dense_75 (Dense)                (None, 1)            63          input_16[0][0]                   \n",
      "__________________________________________________________________________________________________\n",
      "add_5 (Add)                     (None, 1)            0           dense_74[0][0]                   \n",
      "                                                                 dense_75[0][0]                   \n",
      "__________________________________________________________________________________________________\n",
      "dense_76 (Dense)                (None, 1)            2           add_5[0][0]                      \n",
      "==================================================================================================\n",
      "Total params: 98,114\n",
      "Trainable params: 98,114\n",
      "Non-trainable params: 0\n",
      "__________________________________________________________________________________________________\n",
      "None\n",
      "Train on 3346544 samples, validate on 836636 samples\n",
      "Epoch 1/100\n",
      "3346544/3346544 [==============================] - 156s 46us/step - loss: 0.8276 - acc: 0.6879 - val_loss: 0.6298 - val_acc: 0.6895\n",
      "Epoch 2/100\n",
      "3346544/3346544 [==============================] - 155s 46us/step - loss: 0.6433 - acc: 0.6898 - val_loss: 0.6256 - val_acc: 0.6895\n",
      "Epoch 3/100\n",
      "3346544/3346544 [==============================] - 156s 46us/step - loss: 0.6361 - acc: 0.6898 - val_loss: 0.6216 - val_acc: 0.6895\n",
      "Epoch 4/100\n",
      "3346544/3346544 [==============================] - 155s 46us/step - loss: 0.6330 - acc: 0.6898 - val_loss: 0.6232 - val_acc: 0.6895\n"
     ]
    }
   ],
   "source": [
    "wide_deep = WideDeep(num_classes=1, batch_size=256, lambda_1=0.1, extra_hidden=False)\n",
    "wide_deep.fit(x_train, y_train)"
   ]
  },
  {
   "cell_type": "code",
   "execution_count": 16,
   "metadata": {},
   "outputs": [
    {
     "name": "stdout",
     "output_type": "stream",
     "text": [
      "__________________________________________________________________________________________________\n",
      "Layer (type)                    Output Shape         Param #     Connected to                     \n",
      "==================================================================================================\n",
      "input_2 (InputLayer)            (None, 62)           0                                            \n",
      "__________________________________________________________________________________________________\n",
      "dense_6 (Dense)                 (None, 512)          32256       input_2[0][0]                    \n",
      "__________________________________________________________________________________________________\n",
      "dropout_4 (Dropout)             (None, 512)          0           dense_6[0][0]                    \n",
      "__________________________________________________________________________________________________\n",
      "dense_7 (Dense)                 (None, 256)          131328      dropout_4[0][0]                  \n",
      "__________________________________________________________________________________________________\n",
      "dropout_5 (Dropout)             (None, 256)          0           dense_7[0][0]                    \n",
      "__________________________________________________________________________________________________\n",
      "dense_8 (Dense)                 (None, 128)          32896       dropout_5[0][0]                  \n",
      "__________________________________________________________________________________________________\n",
      "dropout_6 (Dropout)             (None, 128)          0           dense_8[0][0]                    \n",
      "__________________________________________________________________________________________________\n",
      "dense_9 (Dense)                 (None, 1)            129         dropout_6[0][0]                  \n",
      "__________________________________________________________________________________________________\n",
      "dense_10 (Dense)                (None, 1)            63          input_2[0][0]                    \n",
      "__________________________________________________________________________________________________\n",
      "add_1 (Add)                     (None, 1)            0           dense_9[0][0]                    \n",
      "                                                                 dense_10[0][0]                   \n",
      "__________________________________________________________________________________________________\n",
      "dense_11 (Dense)                (None, 1)            2           add_1[0][0]                      \n",
      "==================================================================================================\n",
      "Total params: 196,674\n",
      "Trainable params: 196,674\n",
      "Non-trainable params: 0\n",
      "__________________________________________________________________________________________________\n",
      "None\n",
      "WARNING:tensorflow:From /home/voldemort/anaconda3/lib/python3.6/site-packages/tensorflow/python/ops/math_ops.py:3066: to_int32 (from tensorflow.python.ops.math_ops) is deprecated and will be removed in a future version.\n",
      "Instructions for updating:\n",
      "Use tf.cast instead.\n",
      "Train on 3346544 samples, validate on 836636 samples\n",
      "Epoch 1/100\n",
      "3346544/3346544 [==============================] - 293s 87us/step - loss: 0.7483 - acc: 0.6889 - val_loss: 0.6231 - val_acc: 0.6895\n",
      "Epoch 2/100\n",
      "3346544/3346544 [==============================] - 308s 92us/step - loss: 0.6277 - acc: 0.6898 - val_loss: 0.6261 - val_acc: 0.6895\n"
     ]
    }
   ],
   "source": [
    "wide_deep = WideDeep(num_classes=1, batch_size=128, lambda_1=0.1, extra_hidden=True)\n",
    "wide_deep.fit(x_train, y_train)"
   ]
  },
  {
   "cell_type": "code",
   "execution_count": 17,
   "metadata": {},
   "outputs": [
    {
     "name": "stdout",
     "output_type": "stream",
     "text": [
      "__________________________________________________________________________________________________\n",
      "Layer (type)                    Output Shape         Param #     Connected to                     \n",
      "==================================================================================================\n",
      "input_3 (InputLayer)            (None, 62)           0                                            \n",
      "__________________________________________________________________________________________________\n",
      "dense_12 (Dense)                (None, 512)          32256       input_3[0][0]                    \n",
      "__________________________________________________________________________________________________\n",
      "dropout_7 (Dropout)             (None, 512)          0           dense_12[0][0]                   \n",
      "__________________________________________________________________________________________________\n",
      "dense_13 (Dense)                (None, 128)          65664       dropout_7[0][0]                  \n",
      "__________________________________________________________________________________________________\n",
      "dropout_8 (Dropout)             (None, 128)          0           dense_13[0][0]                   \n",
      "__________________________________________________________________________________________________\n",
      "dense_14 (Dense)                (None, 1)            129         dropout_8[0][0]                  \n",
      "__________________________________________________________________________________________________\n",
      "dense_15 (Dense)                (None, 1)            63          input_3[0][0]                    \n",
      "__________________________________________________________________________________________________\n",
      "add_2 (Add)                     (None, 1)            0           dense_14[0][0]                   \n",
      "                                                                 dense_15[0][0]                   \n",
      "__________________________________________________________________________________________________\n",
      "dense_16 (Dense)                (None, 1)            2           add_2[0][0]                      \n",
      "==================================================================================================\n",
      "Total params: 98,114\n",
      "Trainable params: 98,114\n",
      "Non-trainable params: 0\n",
      "__________________________________________________________________________________________________\n",
      "None\n",
      "Train on 3346544 samples, validate on 836636 samples\n",
      "Epoch 1/100\n",
      "3346544/3346544 [==============================] - 270s 81us/step - loss: 0.8982 - acc: 0.7352 - val_loss: 0.5612 - val_acc: 0.7392\n",
      "Epoch 2/100\n",
      "3346544/3346544 [==============================] - 287s 86us/step - loss: 0.5622 - acc: 0.7388 - val_loss: 0.5460 - val_acc: 0.7399\n",
      "Epoch 3/100\n",
      "3346544/3346544 [==============================] - 287s 86us/step - loss: 0.5502 - acc: 0.7395 - val_loss: 0.5486 - val_acc: 0.7402\n"
     ]
    }
   ],
   "source": [
    "wide_deep = WideDeep(num_classes=1, batch_size=128, lambda_1=0.5, extra_hidden=False)\n",
    "wide_deep.fit(x_train, y_train)"
   ]
  },
  {
   "cell_type": "code",
   "execution_count": 18,
   "metadata": {
    "collapsed": true
   },
   "outputs": [],
   "source": [
    "wide_deep.deep.save('models/wide_deep_1_5_128_False.h5')"
   ]
  },
  {
   "cell_type": "code",
   "execution_count": 19,
   "metadata": {},
   "outputs": [
    {
     "name": "stdout",
     "output_type": "stream",
     "text": [
      "__________________________________________________________________________________________________\n",
      "Layer (type)                    Output Shape         Param #     Connected to                     \n",
      "==================================================================================================\n",
      "input_4 (InputLayer)            (None, 62)           0                                            \n",
      "__________________________________________________________________________________________________\n",
      "dense_17 (Dense)                (None, 512)          32256       input_4[0][0]                    \n",
      "__________________________________________________________________________________________________\n",
      "dropout_9 (Dropout)             (None, 512)          0           dense_17[0][0]                   \n",
      "__________________________________________________________________________________________________\n",
      "dense_18 (Dense)                (None, 128)          65664       dropout_9[0][0]                  \n",
      "__________________________________________________________________________________________________\n",
      "dropout_10 (Dropout)            (None, 128)          0           dense_18[0][0]                   \n",
      "__________________________________________________________________________________________________\n",
      "dense_19 (Dense)                (None, 1)            129         dropout_10[0][0]                 \n",
      "__________________________________________________________________________________________________\n",
      "dense_20 (Dense)                (None, 1)            63          input_4[0][0]                    \n",
      "__________________________________________________________________________________________________\n",
      "add_3 (Add)                     (None, 1)            0           dense_19[0][0]                   \n",
      "                                                                 dense_20[0][0]                   \n",
      "__________________________________________________________________________________________________\n",
      "dense_21 (Dense)                (None, 1)            2           add_3[0][0]                      \n",
      "==================================================================================================\n",
      "Total params: 98,114\n",
      "Trainable params: 98,114\n",
      "Non-trainable params: 0\n",
      "__________________________________________________________________________________________________\n",
      "None\n",
      "Train on 3346544 samples, validate on 836636 samples\n",
      "Epoch 1/100\n",
      "3346544/3346544 [==============================] - 525s 157us/step - loss: 0.7835 - acc: 0.6893 - val_loss: 0.6316 - val_acc: 0.6895\n",
      "Epoch 2/100\n",
      "3346544/3346544 [==============================] - 558s 167us/step - loss: 0.6324 - acc: 0.6898 - val_loss: 0.6231 - val_acc: 0.6895\n",
      "Epoch 3/100\n",
      "3346544/3346544 [==============================] - 542s 162us/step - loss: 0.6291 - acc: 0.6898 - val_loss: 0.6247 - val_acc: 0.6895\n"
     ]
    }
   ],
   "source": [
    "wide_deep = WideDeep(num_classes=1, batch_size=64, lambda_1=0.5, extra_hidden=False)\n",
    "wide_deep.fit(x_train, y_train)"
   ]
  },
  {
   "cell_type": "markdown",
   "metadata": {},
   "source": [
    "# 1-5 Rating Prediction"
   ]
  },
  {
   "cell_type": "code",
   "execution_count": 9,
   "metadata": {
    "collapsed": true
   },
   "outputs": [],
   "source": [
    "y_train_5 = train_data['rating']\n",
    "y_train_5 = to_categorical(y_train_5)"
   ]
  },
  {
   "cell_type": "code",
   "execution_count": 23,
   "metadata": {},
   "outputs": [
    {
     "data": {
      "text/plain": [
       "4    1496995\n",
       "5    1388429\n",
       "3     959931\n",
       "2     250846\n",
       "1      86979\n",
       "Name: rating, dtype: int64"
      ]
     },
     "execution_count": 23,
     "metadata": {},
     "output_type": "execute_result"
    }
   ],
   "source": [
    "train_data['rating'].value_counts(dropna=False)"
   ]
  },
  {
   "cell_type": "code",
   "execution_count": 10,
   "metadata": {},
   "outputs": [
    {
     "data": {
      "text/plain": [
       "(4183180, 6)"
      ]
     },
     "execution_count": 10,
     "metadata": {},
     "output_type": "execute_result"
    }
   ],
   "source": [
    "y_train_5.shape"
   ]
  },
  {
   "cell_type": "code",
   "execution_count": 11,
   "metadata": {
    "collapsed": true
   },
   "outputs": [],
   "source": [
    "y_train_5 = train_data.apply(lambda x: x['rating'] - 1, axis=1)\n",
    "y_train_5 = to_categorical(y_train_5)"
   ]
  },
  {
   "cell_type": "code",
   "execution_count": 36,
   "metadata": {},
   "outputs": [
    {
     "data": {
      "text/plain": [
       "(4183180, 5)"
      ]
     },
     "execution_count": 36,
     "metadata": {},
     "output_type": "execute_result"
    }
   ],
   "source": [
    "y_train_5.shape"
   ]
  },
  {
   "cell_type": "code",
   "execution_count": 37,
   "metadata": {},
   "outputs": [
    {
     "name": "stdout",
     "output_type": "stream",
     "text": [
      "__________________________________________________________________________________________________\n",
      "Layer (type)                    Output Shape         Param #     Connected to                     \n",
      "==================================================================================================\n",
      "input_10 (InputLayer)           (None, 62)           0                                            \n",
      "__________________________________________________________________________________________________\n",
      "dense_46 (Dense)                (None, 512)          32256       input_10[0][0]                   \n",
      "__________________________________________________________________________________________________\n",
      "dropout_21 (Dropout)            (None, 512)          0           dense_46[0][0]                   \n",
      "__________________________________________________________________________________________________\n",
      "dense_47 (Dense)                (None, 128)          65664       dropout_21[0][0]                 \n",
      "__________________________________________________________________________________________________\n",
      "dropout_22 (Dropout)            (None, 128)          0           dense_47[0][0]                   \n",
      "__________________________________________________________________________________________________\n",
      "dense_48 (Dense)                (None, 5)            645         dropout_22[0][0]                 \n",
      "__________________________________________________________________________________________________\n",
      "dense_49 (Dense)                (None, 1)            63          input_10[0][0]                   \n",
      "__________________________________________________________________________________________________\n",
      "concatenate_3 (Concatenate)     (None, 6)            0           dense_48[0][0]                   \n",
      "                                                                 dense_49[0][0]                   \n",
      "__________________________________________________________________________________________________\n",
      "dense_50 (Dense)                (None, 5)            35          concatenate_3[0][0]              \n",
      "==================================================================================================\n",
      "Total params: 98,663\n",
      "Trainable params: 98,663\n",
      "Non-trainable params: 0\n",
      "__________________________________________________________________________________________________\n",
      "None\n",
      "Train on 3346544 samples, validate on 836636 samples\n",
      "Epoch 1/100\n",
      "3346544/3346544 [==============================] - 265s 79us/step - loss: 1.3937 - acc: 0.4768 - val_loss: 1.1548 - val_acc: 0.4854\n",
      "Epoch 2/100\n",
      "3346544/3346544 [==============================] - 285s 85us/step - loss: 1.1618 - acc: 0.4839 - val_loss: 1.1482 - val_acc: 0.4863\n",
      "Epoch 3/100\n",
      "3346544/3346544 [==============================] - 280s 84us/step - loss: 1.1562 - acc: 0.4849 - val_loss: 1.1480 - val_acc: 0.4870\n",
      "Epoch 4/100\n",
      "3346544/3346544 [==============================] - 284s 85us/step - loss: 1.1536 - acc: 0.4854 - val_loss: 1.1487 - val_acc: 0.4867\n"
     ]
    }
   ],
   "source": [
    "wide_deep = WideDeep(num_classes=5, batch_size=128, lambda_1=0.1, extra_hidden=False)\n",
    "wide_deep.fit(x_train, y_train_5)"
   ]
  },
  {
   "cell_type": "code",
   "execution_count": 38,
   "metadata": {
    "collapsed": true
   },
   "outputs": [],
   "source": [
    "wide_deep.deep.save('models/wide_deep_5_1_128_False.h5')"
   ]
  },
  {
   "cell_type": "code",
   "execution_count": 39,
   "metadata": {},
   "outputs": [
    {
     "name": "stdout",
     "output_type": "stream",
     "text": [
      "__________________________________________________________________________________________________\n",
      "Layer (type)                    Output Shape         Param #     Connected to                     \n",
      "==================================================================================================\n",
      "input_11 (InputLayer)           (None, 62)           0                                            \n",
      "__________________________________________________________________________________________________\n",
      "dense_51 (Dense)                (None, 512)          32256       input_11[0][0]                   \n",
      "__________________________________________________________________________________________________\n",
      "dropout_23 (Dropout)            (None, 512)          0           dense_51[0][0]                   \n",
      "__________________________________________________________________________________________________\n",
      "dense_52 (Dense)                (None, 128)          65664       dropout_23[0][0]                 \n",
      "__________________________________________________________________________________________________\n",
      "dropout_24 (Dropout)            (None, 128)          0           dense_52[0][0]                   \n",
      "__________________________________________________________________________________________________\n",
      "dense_53 (Dense)                (None, 5)            645         dropout_24[0][0]                 \n",
      "__________________________________________________________________________________________________\n",
      "dense_54 (Dense)                (None, 1)            63          input_11[0][0]                   \n",
      "__________________________________________________________________________________________________\n",
      "concatenate_4 (Concatenate)     (None, 6)            0           dense_53[0][0]                   \n",
      "                                                                 dense_54[0][0]                   \n",
      "__________________________________________________________________________________________________\n",
      "dense_55 (Dense)                (None, 5)            35          concatenate_4[0][0]              \n",
      "==================================================================================================\n",
      "Total params: 98,663\n",
      "Trainable params: 98,663\n",
      "Non-trainable params: 0\n",
      "__________________________________________________________________________________________________\n",
      "None\n",
      "Train on 3346544 samples, validate on 836636 samples\n",
      "Epoch 1/100\n",
      "3346544/3346544 [==============================] - 285s 85us/step - loss: 1.7323 - acc: 0.4723 - val_loss: 1.1653 - val_acc: 0.4854\n",
      "Epoch 2/100\n",
      "3346544/3346544 [==============================] - 286s 85us/step - loss: 1.1904 - acc: 0.4833 - val_loss: 1.1709 - val_acc: 0.4862\n"
     ]
    }
   ],
   "source": [
    "wide_deep = WideDeep(num_classes=5, batch_size=128, lambda_1=0.5, extra_hidden=False)\n",
    "wide_deep.fit(x_train, y_train_5)"
   ]
  },
  {
   "cell_type": "code",
   "execution_count": 40,
   "metadata": {},
   "outputs": [
    {
     "name": "stdout",
     "output_type": "stream",
     "text": [
      "__________________________________________________________________________________________________\n",
      "Layer (type)                    Output Shape         Param #     Connected to                     \n",
      "==================================================================================================\n",
      "input_12 (InputLayer)           (None, 62)           0                                            \n",
      "__________________________________________________________________________________________________\n",
      "dense_56 (Dense)                (None, 512)          32256       input_12[0][0]                   \n",
      "__________________________________________________________________________________________________\n",
      "dropout_25 (Dropout)            (None, 512)          0           dense_56[0][0]                   \n",
      "__________________________________________________________________________________________________\n",
      "dense_57 (Dense)                (None, 256)          131328      dropout_25[0][0]                 \n",
      "__________________________________________________________________________________________________\n",
      "dropout_26 (Dropout)            (None, 256)          0           dense_57[0][0]                   \n",
      "__________________________________________________________________________________________________\n",
      "dense_58 (Dense)                (None, 128)          32896       dropout_26[0][0]                 \n",
      "__________________________________________________________________________________________________\n",
      "dropout_27 (Dropout)            (None, 128)          0           dense_58[0][0]                   \n",
      "__________________________________________________________________________________________________\n",
      "dense_59 (Dense)                (None, 5)            645         dropout_27[0][0]                 \n",
      "__________________________________________________________________________________________________\n",
      "dense_60 (Dense)                (None, 1)            63          input_12[0][0]                   \n",
      "__________________________________________________________________________________________________\n",
      "concatenate_5 (Concatenate)     (None, 6)            0           dense_59[0][0]                   \n",
      "                                                                 dense_60[0][0]                   \n",
      "__________________________________________________________________________________________________\n",
      "dense_61 (Dense)                (None, 5)            35          concatenate_5[0][0]              \n",
      "==================================================================================================\n",
      "Total params: 197,223\n",
      "Trainable params: 197,223\n",
      "Non-trainable params: 0\n",
      "__________________________________________________________________________________________________\n",
      "None\n",
      "Train on 3346544 samples, validate on 836636 samples\n",
      "Epoch 1/100\n",
      "3346544/3346544 [==============================] - 293s 88us/step - loss: 1.4770 - acc: 0.3568 - val_loss: 1.3432 - val_acc: 0.3577\n",
      "Epoch 2/100\n",
      "3346544/3346544 [==============================] - 311s 93us/step - loss: 1.3326 - acc: 0.3579 - val_loss: 1.3261 - val_acc: 0.3577\n",
      "Epoch 3/100\n",
      "3346544/3346544 [==============================] - 311s 93us/step - loss: 1.3276 - acc: 0.3579 - val_loss: 1.3233 - val_acc: 0.3577\n",
      "Epoch 4/100\n",
      "3346544/3346544 [==============================] - 311s 93us/step - loss: 1.3262 - acc: 0.3579 - val_loss: 1.3244 - val_acc: 0.3577\n"
     ]
    }
   ],
   "source": [
    "wide_deep = WideDeep(num_classes=5, batch_size=128, lambda_1=0.1, extra_hidden=True)\n",
    "wide_deep.fit(x_train, y_train_5)"
   ]
  },
  {
   "cell_type": "code",
   "execution_count": 16,
   "metadata": {},
   "outputs": [
    {
     "name": "stdout",
     "output_type": "stream",
     "text": [
      "WARNING:tensorflow:From /home/voldemort/anaconda3/lib/python3.6/site-packages/tensorflow/python/framework/op_def_library.py:263: colocate_with (from tensorflow.python.framework.ops) is deprecated and will be removed in a future version.\n",
      "Instructions for updating:\n",
      "Colocations handled automatically by placer.\n",
      "WARNING:tensorflow:From /home/voldemort/anaconda3/lib/python3.6/site-packages/keras/backend/tensorflow_backend.py:3445: calling dropout (from tensorflow.python.ops.nn_ops) with keep_prob is deprecated and will be removed in a future version.\n",
      "Instructions for updating:\n",
      "Please use `rate` instead of `keep_prob`. Rate should be set to `rate = 1 - keep_prob`.\n",
      "__________________________________________________________________________________________________\n",
      "Layer (type)                    Output Shape         Param #     Connected to                     \n",
      "==================================================================================================\n",
      "input_1 (InputLayer)            (None, 62)           0                                            \n",
      "__________________________________________________________________________________________________\n",
      "dense_1 (Dense)                 (None, 512)          32256       input_1[0][0]                    \n",
      "__________________________________________________________________________________________________\n",
      "dropout_1 (Dropout)             (None, 512)          0           dense_1[0][0]                    \n",
      "__________________________________________________________________________________________________\n",
      "dense_2 (Dense)                 (None, 256)          131328      dropout_1[0][0]                  \n",
      "__________________________________________________________________________________________________\n",
      "dropout_2 (Dropout)             (None, 256)          0           dense_2[0][0]                    \n",
      "__________________________________________________________________________________________________\n",
      "dense_3 (Dense)                 (None, 128)          32896       dropout_2[0][0]                  \n",
      "__________________________________________________________________________________________________\n",
      "dropout_3 (Dropout)             (None, 128)          0           dense_3[0][0]                    \n",
      "__________________________________________________________________________________________________\n",
      "dense_4 (Dense)                 (None, 5)            645         dropout_3[0][0]                  \n",
      "__________________________________________________________________________________________________\n",
      "dense_5 (Dense)                 (None, 1)            63          input_1[0][0]                    \n",
      "__________________________________________________________________________________________________\n",
      "concatenate_1 (Concatenate)     (None, 6)            0           dense_4[0][0]                    \n",
      "                                                                 dense_5[0][0]                    \n",
      "__________________________________________________________________________________________________\n",
      "dense_6 (Dense)                 (None, 5)            35          concatenate_1[0][0]              \n",
      "==================================================================================================\n",
      "Total params: 197,223\n",
      "Trainable params: 197,223\n",
      "Non-trainable params: 0\n",
      "__________________________________________________________________________________________________\n",
      "None\n",
      "WARNING:tensorflow:From /home/voldemort/anaconda3/lib/python3.6/site-packages/tensorflow/python/ops/math_ops.py:3066: to_int32 (from tensorflow.python.ops.math_ops) is deprecated and will be removed in a future version.\n",
      "Instructions for updating:\n",
      "Use tf.cast instead.\n",
      "Train on 3346544 samples, validate on 836636 samples\n",
      "Epoch 1/100\n",
      "3346544/3346544 [==============================] - 164s 49us/step - loss: 1.6954 - acc: 0.4739 - val_loss: 1.1718 - val_acc: 0.4841\n",
      "Epoch 2/100\n",
      "3346544/3346544 [==============================] - 164s 49us/step - loss: 1.1839 - acc: 0.4836 - val_loss: 1.1532 - val_acc: 0.4862\n",
      "Epoch 3/100\n",
      "3346544/3346544 [==============================] - 163s 49us/step - loss: 1.1693 - acc: 0.4847 - val_loss: 1.1521 - val_acc: 0.4868\n",
      "Epoch 4/100\n",
      "3346544/3346544 [==============================] - 164s 49us/step - loss: 1.1636 - acc: 0.4855 - val_loss: 1.1543 - val_acc: 0.4874\n"
     ]
    },
    {
     "data": {
      "image/png": "[encoded data removed]",
      "text/plain": [
       "<matplotlib.figure.Figure at 0x7fe501700940>"
      ]
     },
     "metadata": {},
     "output_type": "display_data"
    },
    {
     "data": {
      "image/png": "[encoded data removed]",
      "text/plain": [
       "<matplotlib.figure.Figure at 0x7fe4fb701ef0>"
      ]
     },
     "metadata": {},
     "output_type": "display_data"
    }
   ],
   "source": [
    "wide_deep = WideDeep(num_classes=5, batch_size=256, lambda_1=0.1, extra_hidden=True)\n",
    "wide_deep.fit(x_train, y_train_5)"
   ]
  },
  {
   "cell_type": "code",
   "execution_count": 17,
   "metadata": {},
   "outputs": [
    {
     "name": "stdout",
     "output_type": "stream",
     "text": [
      "__________________________________________________________________________________________________\n",
      "Layer (type)                    Output Shape         Param #     Connected to                     \n",
      "==================================================================================================\n",
      "input_2 (InputLayer)            (None, 62)           0                                            \n",
      "__________________________________________________________________________________________________\n",
      "dense_7 (Dense)                 (None, 512)          32256       input_2[0][0]                    \n",
      "__________________________________________________________________________________________________\n",
      "dropout_4 (Dropout)             (None, 512)          0           dense_7[0][0]                    \n",
      "__________________________________________________________________________________________________\n",
      "dense_8 (Dense)                 (None, 256)          131328      dropout_4[0][0]                  \n",
      "__________________________________________________________________________________________________\n",
      "dropout_5 (Dropout)             (None, 256)          0           dense_8[0][0]                    \n",
      "__________________________________________________________________________________________________\n",
      "dense_9 (Dense)                 (None, 128)          32896       dropout_5[0][0]                  \n",
      "__________________________________________________________________________________________________\n",
      "dropout_6 (Dropout)             (None, 128)          0           dense_9[0][0]                    \n",
      "__________________________________________________________________________________________________\n",
      "dense_10 (Dense)                (None, 5)            645         dropout_6[0][0]                  \n",
      "__________________________________________________________________________________________________\n",
      "dense_11 (Dense)                (None, 1)            63          input_2[0][0]                    \n",
      "__________________________________________________________________________________________________\n",
      "concatenate_2 (Concatenate)     (None, 6)            0           dense_10[0][0]                   \n",
      "                                                                 dense_11[0][0]                   \n",
      "__________________________________________________________________________________________________\n",
      "dense_12 (Dense)                (None, 5)            35          concatenate_2[0][0]              \n",
      "==================================================================================================\n",
      "Total params: 197,223\n",
      "Trainable params: 197,223\n",
      "Non-trainable params: 0\n",
      "__________________________________________________________________________________________________\n",
      "None\n",
      "Train on 3346544 samples, validate on 836636 samples\n",
      "Epoch 1/20\n",
      "3346544/3346544 [==============================] - 163s 49us/step - loss: 1.6030 - acc: 0.3574 - val_loss: 1.3845 - val_acc: 0.3577\n",
      "Epoch 2/20\n",
      "3346544/3346544 [==============================] - 165s 49us/step - loss: 1.3623 - acc: 0.3579 - val_loss: 1.3300 - val_acc: 0.3577\n",
      "Epoch 3/20\n",
      "3346544/3346544 [==============================] - 163s 49us/step - loss: 1.3412 - acc: 0.3579 - val_loss: 1.3278 - val_acc: 0.3577\n",
      "Epoch 4/20\n",
      "3346544/3346544 [==============================] - 165s 49us/step - loss: 1.3362 - acc: 0.3579 - val_loss: 1.3260 - val_acc: 0.3577\n",
      "Epoch 5/20\n",
      "3346544/3346544 [==============================] - 163s 49us/step - loss: 1.3337 - acc: 0.3579 - val_loss: 1.3253 - val_acc: 0.3577\n",
      "Epoch 6/20\n",
      "3346544/3346544 [==============================] - 163s 49us/step - loss: 1.3322 - acc: 0.3579 - val_loss: 1.3242 - val_acc: 0.3577\n",
      "Epoch 7/20\n",
      "3346544/3346544 [==============================] - 164s 49us/step - loss: 1.3311 - acc: 0.3579 - val_loss: 1.3233 - val_acc: 0.3577\n",
      "Epoch 8/20\n",
      "3346544/3346544 [==============================] - 165s 49us/step - loss: 1.3302 - acc: 0.3579 - val_loss: 1.3239 - val_acc: 0.3577\n",
      "Epoch 9/20\n",
      "3346544/3346544 [==============================] - 164s 49us/step - loss: 1.3296 - acc: 0.3579 - val_loss: 1.3239 - val_acc: 0.3577\n",
      "Epoch 10/20\n",
      "3346544/3346544 [==============================] - 164s 49us/step - loss: 1.3291 - acc: 0.3579 - val_loss: 1.3246 - val_acc: 0.3577\n",
      "Epoch 11/20\n",
      "3346544/3346544 [==============================] - 165s 49us/step - loss: 1.3286 - acc: 0.3579 - val_loss: 1.3235 - val_acc: 0.3577\n",
      "Epoch 12/20\n",
      "3346544/3346544 [==============================] - 163s 49us/step - loss: 1.3283 - acc: 0.3579 - val_loss: 1.3234 - val_acc: 0.3577\n",
      "Epoch 13/20\n",
      "3346544/3346544 [==============================] - 165s 49us/step - loss: 1.3280 - acc: 0.3579 - val_loss: 1.3238 - val_acc: 0.3577\n",
      "Epoch 14/20\n",
      "3346544/3346544 [==============================] - 159s 47us/step - loss: 1.3277 - acc: 0.3579 - val_loss: 1.3238 - val_acc: 0.3577\n",
      "Epoch 15/20\n",
      "3346544/3346544 [==============================] - 164s 49us/step - loss: 1.3274 - acc: 0.3579 - val_loss: 1.3263 - val_acc: 0.3577\n",
      "Epoch 16/20\n",
      "3346544/3346544 [==============================] - 165s 49us/step - loss: 1.3272 - acc: 0.3579 - val_loss: 1.3229 - val_acc: 0.3577\n",
      "Epoch 17/20\n",
      "3346544/3346544 [==============================] - 157s 47us/step - loss: 1.3270 - acc: 0.3579 - val_loss: 1.3243 - val_acc: 0.3577\n",
      "Epoch 18/20\n",
      "3346544/3346544 [==============================] - 165s 49us/step - loss: 1.3268 - acc: 0.3579 - val_loss: 1.3228 - val_acc: 0.3577\n",
      "Epoch 19/20\n",
      "3346544/3346544 [==============================] - 165s 49us/step - loss: 1.3267 - acc: 0.3579 - val_loss: 1.3229 - val_acc: 0.3577\n",
      "Epoch 20/20\n",
      "3346544/3346544 [==============================] - 159s 48us/step - loss: 1.3265 - acc: 0.3579 - val_loss: 1.3230 - val_acc: 0.3577\n"
     ]
    },
    {
     "data": {
      "image/png": "[encoded data removed]",
      "text/plain": [
       "<matplotlib.figure.Figure at 0x7fe4fae1e1d0>"
      ]
     },
     "metadata": {},
     "output_type": "display_data"
    },
    {
     "data": {
      "image/png": "[encoded data removed]",
      "text/plain": [
       "<matplotlib.figure.Figure at 0x7fe4fb7dbc88>"
      ]
     },
     "metadata": {},
     "output_type": "display_data"
    }
   ],
   "source": [
    "wide_deep = WideDeep(num_classes=5, batch_size=256, lambda_1=0.1, extra_hidden=True, epochs=20)\n",
    "wide_deep.fit(x_train, y_train_5, early_stopping=False)"
   ]
  },
  {
   "cell_type": "markdown",
   "metadata": {},
   "source": [
    "# Testing predictions"
   ]
  },
  {
   "cell_type": "code",
   "execution_count": 6,
   "metadata": {
    "collapsed": true
   },
   "outputs": [],
   "source": [
    "test_ratings = pd.read_csv('data/test_ratings_set.csv')\n",
    "book_features = pd.read_csv('data/books_with_latent_features.csv')\n",
    "user_features = pd.read_csv('data/user_features_final.csv')\n",
    "test_data = test_ratings.merge(user_features, how='left', on='user_id')\n",
    "test_data = test_data.merge(book_features, how='left', on='book_id')"
   ]
  },
  {
   "cell_type": "code",
   "execution_count": 6,
   "metadata": {
    "collapsed": true
   },
   "outputs": [],
   "source": [
    "binary_model = load_model('models/wide_deep_1_01_128_False.h5')"
   ]
  },
  {
   "cell_type": "code",
   "execution_count": 7,
   "metadata": {
    "collapsed": true
   },
   "outputs": [],
   "source": [
    "y_binary = test_ratings.apply(lambda x: 1 if x['rating'] > 3 else 0, axis=1)"
   ]
  },
  {
   "cell_type": "code",
   "execution_count": 7,
   "metadata": {
    "collapsed": true
   },
   "outputs": [],
   "source": [
    "x_test = test_data.drop(['user_id', 'book_id', 'rating'], axis=1)"
   ]
  },
  {
   "cell_type": "code",
   "execution_count": 9,
   "metadata": {
    "collapsed": true
   },
   "outputs": [],
   "source": [
    "y_binary = np.asarray(y_binary)\n",
    "x_test = np.asarray(x_test)"
   ]
  },
  {
   "cell_type": "code",
   "execution_count": 13,
   "metadata": {},
   "outputs": [
    {
     "name": "stdout",
     "output_type": "stream",
     "text": [
      "1792792/1792792 [==============================] - 106s 59us/step\n"
     ]
    }
   ],
   "source": [
    "evaluate = binary_model.evaluate(x_test, y_binary, verbose=1)"
   ]
  },
  {
   "cell_type": "code",
   "execution_count": 14,
   "metadata": {},
   "outputs": [
    {
     "data": {
      "text/plain": [
       "[0.5257303538434966, 0.7365238131364246]"
      ]
     },
     "execution_count": 14,
     "metadata": {},
     "output_type": "execute_result"
    }
   ],
   "source": [
    "evaluate"
   ]
  },
  {
   "cell_type": "code",
   "execution_count": 16,
   "metadata": {},
   "outputs": [
    {
     "name": "stdout",
     "output_type": "stream",
     "text": [
      "1792792/1792792 [==============================] - 154s 86us/step\n"
     ]
    }
   ],
   "source": [
    "predictions = binary_model.predict(x_test, verbose=1)"
   ]
  },
  {
   "cell_type": "code",
   "execution_count": 17,
   "metadata": {},
   "outputs": [
    {
     "data": {
      "text/plain": [
       "array([[0.73439026],\n",
       "       [0.8443906 ],\n",
       "       [0.9035205 ],\n",
       "       ...,\n",
       "       [0.8843127 ],\n",
       "       [0.7838348 ],\n",
       "       [0.352266  ]], dtype=float32)"
      ]
     },
     "execution_count": 17,
     "metadata": {},
     "output_type": "execute_result"
    }
   ],
   "source": [
    "predictions"
   ]
  },
  {
   "cell_type": "code",
   "execution_count": 18,
   "metadata": {},
   "outputs": [
    {
     "data": {
      "text/plain": [
       "(1792792, 1)"
      ]
     },
     "execution_count": 18,
     "metadata": {},
     "output_type": "execute_result"
    }
   ],
   "source": [
    "predictions.shape"
   ]
  },
  {
   "cell_type": "code",
   "execution_count": 19,
   "metadata": {
    "collapsed": true
   },
   "outputs": [],
   "source": [
    "predictions_formated = np.rint(predictions)"
   ]
  },
  {
   "cell_type": "code",
   "execution_count": 20,
   "metadata": {},
   "outputs": [
    {
     "data": {
      "text/plain": [
       "array([[1.],\n",
       "       [1.],\n",
       "       [1.],\n",
       "       ...,\n",
       "       [1.],\n",
       "       [1.],\n",
       "       [0.]], dtype=float32)"
      ]
     },
     "execution_count": 20,
     "metadata": {},
     "output_type": "execute_result"
    }
   ],
   "source": [
    "predictions_formated"
   ]
  },
  {
   "cell_type": "code",
   "execution_count": 21,
   "metadata": {
    "collapsed": true
   },
   "outputs": [],
   "source": [
    "evaluation_data = test_data[['user_id', 'book_id', 'rating']].copy()\n",
    "evaluation_data['pred_proba'] = predictions\n",
    "evaluation_data['prediction'] = predictions_formated"
   ]
  },
  {
   "cell_type": "code",
   "execution_count": 22,
   "metadata": {
    "collapsed": true
   },
   "outputs": [],
   "source": [
    "evaluation_data['binary_rating'] = y_binary"
   ]
  },
  {
   "cell_type": "code",
   "execution_count": 23,
   "metadata": {
    "collapsed": true
   },
   "outputs": [],
   "source": [
    "cfm, p, r = ev.replay_binary_results(evaluation_data)"
   ]
  },
  {
   "cell_type": "code",
   "execution_count": 24,
   "metadata": {},
   "outputs": [
    {
     "name": "stdout",
     "output_type": "stream",
     "text": [
      "[[ 204889  351503]\n",
      " [ 120855 1115545]]\n"
     ]
    }
   ],
   "source": [
    "print(cfm)"
   ]
  },
  {
   "cell_type": "code",
   "execution_count": 32,
   "metadata": {},
   "outputs": [
    {
     "name": "stdout",
     "output_type": "stream",
     "text": [
      "0.7604011593349366 0.9022525072791977\n"
     ]
    }
   ],
   "source": [
    "print(p, r)"
   ]
  },
  {
   "cell_type": "code",
   "execution_count": null,
   "metadata": {
    "collapsed": true
   },
   "outputs": [],
   "source": [
    "evaluation_data.to_csv('data/backups/wd_eval1.csv', index=False)"
   ]
  },
  {
   "cell_type": "code",
   "execution_count": 4,
   "metadata": {},
   "outputs": [
    {
     "data": {
      "text/html": [
       "<div>\n",
       "<style scoped>\n",
       "    .dataframe tbody tr th:only-of-type {\n",
       "        vertical-align: middle;\n",
       "    }\n",
       "\n",
       "    .dataframe tbody tr th {\n",
       "        vertical-align: top;\n",
       "    }\n",
       "\n",
       "    .dataframe thead th {\n",
       "        text-align: right;\n",
       "    }\n",
       "</style>\n",
       "<table border=\"1\" class=\"dataframe\">\n",
       "  <thead>\n",
       "    <tr style=\"text-align: right;\">\n",
       "      <th></th>\n",
       "      <th>user_id</th>\n",
       "      <th>book_id</th>\n",
       "      <th>rating</th>\n",
       "      <th>pred_proba</th>\n",
       "      <th>prediction</th>\n",
       "      <th>binary_rating</th>\n",
       "    </tr>\n",
       "  </thead>\n",
       "  <tbody>\n",
       "    <tr>\n",
       "      <th>0</th>\n",
       "      <td>18218</td>\n",
       "      <td>920</td>\n",
       "      <td>3</td>\n",
       "      <td>0.734390</td>\n",
       "      <td>1.0</td>\n",
       "      <td>0</td>\n",
       "    </tr>\n",
       "    <tr>\n",
       "      <th>1</th>\n",
       "      <td>34091</td>\n",
       "      <td>967</td>\n",
       "      <td>4</td>\n",
       "      <td>0.844391</td>\n",
       "      <td>1.0</td>\n",
       "      <td>1</td>\n",
       "    </tr>\n",
       "    <tr>\n",
       "      <th>2</th>\n",
       "      <td>41266</td>\n",
       "      <td>71</td>\n",
       "      <td>5</td>\n",
       "      <td>0.903520</td>\n",
       "      <td>1.0</td>\n",
       "      <td>1</td>\n",
       "    </tr>\n",
       "    <tr>\n",
       "      <th>3</th>\n",
       "      <td>47336</td>\n",
       "      <td>760</td>\n",
       "      <td>5</td>\n",
       "      <td>0.643581</td>\n",
       "      <td>1.0</td>\n",
       "      <td>1</td>\n",
       "    </tr>\n",
       "    <tr>\n",
       "      <th>4</th>\n",
       "      <td>20893</td>\n",
       "      <td>453</td>\n",
       "      <td>3</td>\n",
       "      <td>0.621612</td>\n",
       "      <td>1.0</td>\n",
       "      <td>0</td>\n",
       "    </tr>\n",
       "  </tbody>\n",
       "</table>\n",
       "</div>"
      ],
      "text/plain": [
       "   user_id  book_id  rating  pred_proba  prediction  binary_rating\n",
       "0    18218      920       3    0.734390         1.0              0\n",
       "1    34091      967       4    0.844391         1.0              1\n",
       "2    41266       71       5    0.903520         1.0              1\n",
       "3    47336      760       5    0.643581         1.0              1\n",
       "4    20893      453       3    0.621612         1.0              0"
      ]
     },
     "execution_count": 4,
     "metadata": {},
     "output_type": "execute_result"
    }
   ],
   "source": [
    "evaluation_data = pd.read_csv('data/backups/wd_eval1.csv')\n",
    "evaluation_data.head()"
   ]
  },
  {
   "cell_type": "code",
   "execution_count": 9,
   "metadata": {
    "scrolled": true
   },
   "outputs": [
    {
     "name": "stdout",
     "output_type": "stream",
     "text": [
      "0 users evaluated\n"
     ]
    },
    {
     "name": "stderr",
     "output_type": "stream",
     "text": [
      "/Users/emily-air13/anaconda3/lib/python3.6/site-packages/sklearn/metrics/ranking.py:526: RuntimeWarning: invalid value encountered in true_divide\n",
      "  recall = tps / tps[-1]\n"
     ]
    },
    {
     "name": "stdout",
     "output_type": "stream",
     "text": [
      "500 users evaluated\n",
      "1000 users evaluated\n",
      "1500 users evaluated\n",
      "2000 users evaluated\n",
      "2500 users evaluated\n",
      "3000 users evaluated\n",
      "3500 users evaluated\n",
      "4000 users evaluated\n",
      "4500 users evaluated\n",
      "5000 users evaluated\n",
      "5500 users evaluated\n",
      "6000 users evaluated\n",
      "6500 users evaluated\n",
      "7000 users evaluated\n",
      "7500 users evaluated\n",
      "8000 users evaluated\n",
      "8500 users evaluated\n",
      "9000 users evaluated\n",
      "9500 users evaluated\n",
      "10000 users evaluated\n",
      "10500 users evaluated\n",
      "11000 users evaluated\n",
      "11500 users evaluated\n",
      "12000 users evaluated\n",
      "12500 users evaluated\n",
      "13000 users evaluated\n",
      "13500 users evaluated\n",
      "14000 users evaluated\n",
      "14500 users evaluated\n",
      "15000 users evaluated\n",
      "15500 users evaluated\n",
      "16000 users evaluated\n",
      "16500 users evaluated\n",
      "17000 users evaluated\n",
      "17500 users evaluated\n",
      "18000 users evaluated\n",
      "18500 users evaluated\n",
      "19000 users evaluated\n",
      "19500 users evaluated\n",
      "20000 users evaluated\n",
      "20500 users evaluated\n",
      "21000 users evaluated\n",
      "21500 users evaluated\n",
      "22000 users evaluated\n",
      "22500 users evaluated\n",
      "23000 users evaluated\n",
      "23500 users evaluated\n",
      "24000 users evaluated\n",
      "24500 users evaluated\n",
      "25000 users evaluated\n",
      "25500 users evaluated\n",
      "26000 users evaluated\n",
      "26500 users evaluated\n",
      "27000 users evaluated\n",
      "27500 users evaluated\n",
      "28000 users evaluated\n",
      "28500 users evaluated\n",
      "29000 users evaluated\n",
      "29500 users evaluated\n",
      "30000 users evaluated\n",
      "30500 users evaluated\n",
      "31000 users evaluated\n",
      "31500 users evaluated\n",
      "32000 users evaluated\n",
      "32500 users evaluated\n",
      "33000 users evaluated\n",
      "33500 users evaluated\n",
      "34000 users evaluated\n",
      "34500 users evaluated\n",
      "35000 users evaluated\n",
      "35500 users evaluated\n",
      "36000 users evaluated\n",
      "36500 users evaluated\n",
      "37000 users evaluated\n",
      "37500 users evaluated\n",
      "38000 users evaluated\n",
      "38500 users evaluated\n",
      "39000 users evaluated\n",
      "39500 users evaluated\n",
      "40000 users evaluated\n",
      "40500 users evaluated\n",
      "41000 users evaluated\n",
      "41500 users evaluated\n",
      "42000 users evaluated\n",
      "42500 users evaluated\n",
      "43000 users evaluated\n",
      "43500 users evaluated\n",
      "44000 users evaluated\n",
      "44500 users evaluated\n",
      "45000 users evaluated\n",
      "45500 users evaluated\n",
      "46000 users evaluated\n",
      "46500 users evaluated\n",
      "47000 users evaluated\n",
      "47500 users evaluated\n",
      "48000 users evaluated\n",
      "48500 users evaluated\n",
      "49000 users evaluated\n",
      "49500 users evaluated\n",
      "50000 users evaluated\n",
      "50500 users evaluated\n",
      "51000 users evaluated\n",
      "51500 users evaluated\n",
      "52000 users evaluated\n",
      "52500 users evaluated\n",
      "53000 users evaluated\n"
     ]
    }
   ],
   "source": [
    "mAP, n = top_10_binary_results(evaluation_data)"
   ]
  },
  {
   "cell_type": "code",
   "execution_count": 10,
   "metadata": {},
   "outputs": [
    {
     "name": "stdout",
     "output_type": "stream",
     "text": [
      "0.5929090723776069 0\n"
     ]
    }
   ],
   "source": [
    "print(mAP, n)"
   ]
  },
  {
   "cell_type": "markdown",
   "metadata": {},
   "source": [
    "### 5 classes"
   ]
  },
  {
   "cell_type": "code",
   "execution_count": 8,
   "metadata": {
    "collapsed": true
   },
   "outputs": [],
   "source": [
    "y_test_5 = test_data.apply(lambda x: x['rating'] - 1, axis=1)"
   ]
  },
  {
   "cell_type": "code",
   "execution_count": 9,
   "metadata": {
    "collapsed": true
   },
   "outputs": [],
   "source": [
    "y_test_5 = to_categorical(np.asarray(y_test_5))\n",
    "x_test = np.asarray(x_test)"
   ]
  },
  {
   "cell_type": "code",
   "execution_count": 11,
   "metadata": {},
   "outputs": [
    {
     "name": "stdout",
     "output_type": "stream",
     "text": [
      "WARNING:tensorflow:From /home/voldemort/anaconda3/lib/python3.6/site-packages/tensorflow/python/framework/op_def_library.py:263: colocate_with (from tensorflow.python.framework.ops) is deprecated and will be removed in a future version.\n",
      "Instructions for updating:\n",
      "Colocations handled automatically by placer.\n",
      "WARNING:tensorflow:From /home/voldemort/anaconda3/lib/python3.6/site-packages/keras/backend/tensorflow_backend.py:3445: calling dropout (from tensorflow.python.ops.nn_ops) with keep_prob is deprecated and will be removed in a future version.\n",
      "Instructions for updating:\n",
      "Please use `rate` instead of `keep_prob`. Rate should be set to `rate = 1 - keep_prob`.\n",
      "WARNING:tensorflow:From /home/voldemort/anaconda3/lib/python3.6/site-packages/tensorflow/python/ops/math_ops.py:3066: to_int32 (from tensorflow.python.ops.math_ops) is deprecated and will be removed in a future version.\n",
      "Instructions for updating:\n",
      "Use tf.cast instead.\n"
     ]
    }
   ],
   "source": [
    "star5_model = load_model('models/wide_deep_5_1_128_False.h5')"
   ]
  },
  {
   "cell_type": "code",
   "execution_count": 12,
   "metadata": {},
   "outputs": [
    {
     "name": "stdout",
     "output_type": "stream",
     "text": [
      "1792792/1792792 [==============================] - 28s 15us/step\n"
     ]
    }
   ],
   "source": [
    "evaluation = star5_model.evaluate(x_test, y_test_5, verbose=1)"
   ]
  },
  {
   "cell_type": "code",
   "execution_count": 13,
   "metadata": {},
   "outputs": [
    {
     "data": {
      "text/plain": [
       "[1.1565596667748237, 0.48103126296873167]"
      ]
     },
     "execution_count": 13,
     "metadata": {},
     "output_type": "execute_result"
    }
   ],
   "source": [
    "evaluation"
   ]
  },
  {
   "cell_type": "code",
   "execution_count": 14,
   "metadata": {},
   "outputs": [
    {
     "name": "stdout",
     "output_type": "stream",
     "text": [
      "1792792/1792792 [==============================] - 17s 10us/step\n"
     ]
    }
   ],
   "source": [
    "predictions = star5_model.predict(x_test, verbose=1)"
   ]
  },
  {
   "cell_type": "code",
   "execution_count": 15,
   "metadata": {},
   "outputs": [
    {
     "data": {
      "text/plain": [
       "(1792792, 5)"
      ]
     },
     "execution_count": 15,
     "metadata": {},
     "output_type": "execute_result"
    }
   ],
   "source": [
    "predictions.shape"
   ]
  },
  {
   "cell_type": "code",
   "execution_count": 16,
   "metadata": {},
   "outputs": [
    {
     "data": {
      "text/plain": [
       "array([[0.01657924, 0.04514957, 0.20334531, 0.4058831 , 0.32904282],\n",
       "       [0.00650869, 0.02216436, 0.14680913, 0.4009271 , 0.42359075],\n",
       "       [0.00446666, 0.01040739, 0.06184202, 0.23993082, 0.6833531 ],\n",
       "       ...,\n",
       "       [0.00487425, 0.01513677, 0.10773239, 0.36219245, 0.5100642 ],\n",
       "       [0.00252846, 0.0192401 , 0.22556204, 0.53188074, 0.2207887 ],\n",
       "       [0.05092024, 0.16127434, 0.41674414, 0.29408756, 0.07697359]],\n",
       "      dtype=float32)"
      ]
     },
     "execution_count": 16,
     "metadata": {},
     "output_type": "execute_result"
    }
   ],
   "source": [
    "predictions"
   ]
  },
  {
   "cell_type": "code",
   "execution_count": 18,
   "metadata": {},
   "outputs": [
    {
     "data": {
      "text/plain": [
       "array([3, 4, 4, ..., 4, 3, 2])"
      ]
     },
     "execution_count": 18,
     "metadata": {},
     "output_type": "execute_result"
    }
   ],
   "source": [
    "predictions_formated = np.argmax(predictions, axis=1)\n",
    "predictions_formated"
   ]
  },
  {
   "cell_type": "code",
   "execution_count": 19,
   "metadata": {},
   "outputs": [
    {
     "data": {
      "text/plain": [
       "array([4, 5, 5, ..., 5, 4, 3])"
      ]
     },
     "execution_count": 19,
     "metadata": {},
     "output_type": "execute_result"
    }
   ],
   "source": [
    "predictions_formated = predictions_formated + 1\n",
    "predictions_formated"
   ]
  },
  {
   "cell_type": "code",
   "execution_count": 20,
   "metadata": {
    "collapsed": true
   },
   "outputs": [],
   "source": [
    "evaluation_data = test_data[['user_id', 'book_id', 'rating']].copy()\n",
    "evaluation_data['pred_proba'] = predictions[:,4]\n",
    "evaluation_data['prediction'] = predictions_formated"
   ]
  },
  {
   "cell_type": "code",
   "execution_count": 29,
   "metadata": {
    "collapsed": true
   },
   "outputs": [],
   "source": [
    "cfm, p, r = ev.replay_5star_results(evaluation_data)"
   ]
  },
  {
   "cell_type": "code",
   "execution_count": 30,
   "metadata": {},
   "outputs": [
    {
     "data": {
      "text/plain": [
       "array([[  1891,    438,  15715,  14629,   4487],\n",
       "       [   748,    736,  48225,  48346,  10314],\n",
       "       [   456,    509, 129521, 224463,  55914],\n",
       "       [   178,    228,  89920, 372830, 178700],\n",
       "       [   131,     95,  25814, 211093, 357411]])"
      ]
     },
     "execution_count": 30,
     "metadata": {},
     "output_type": "execute_result"
    }
   ],
   "source": [
    "cfm"
   ]
  },
  {
   "cell_type": "code",
   "execution_count": 31,
   "metadata": {},
   "outputs": [
    {
     "name": "stdout",
     "output_type": "stream",
     "text": [
      "0.4782048316600647 0.4810312629685987\n"
     ]
    }
   ],
   "source": [
    "print(p, r)"
   ]
  },
  {
   "cell_type": "code",
   "execution_count": 42,
   "metadata": {
    "scrolled": true
   },
   "outputs": [
    {
     "name": "stderr",
     "output_type": "stream",
     "text": [
      "/home/voldemort/anaconda3/lib/python3.6/site-packages/sklearn/metrics/ranking.py:526: RuntimeWarning: invalid value encountered in true_divide\n",
      "  recall = tps / tps[-1]\n"
     ]
    },
    {
     "name": "stdout",
     "output_type": "stream",
     "text": [
      "0 users evaluated\n",
      "500 users evaluated\n",
      "1000 users evaluated\n",
      "1500 users evaluated\n",
      "2000 users evaluated\n",
      "2500 users evaluated\n",
      "3000 users evaluated\n",
      "3500 users evaluated\n",
      "4000 users evaluated\n",
      "4500 users evaluated\n",
      "5000 users evaluated\n",
      "5500 users evaluated\n",
      "6000 users evaluated\n",
      "6500 users evaluated\n",
      "7000 users evaluated\n",
      "7500 users evaluated\n",
      "8000 users evaluated\n",
      "8500 users evaluated\n",
      "9000 users evaluated\n",
      "9500 users evaluated\n",
      "10000 users evaluated\n",
      "10500 users evaluated\n",
      "11000 users evaluated\n",
      "11500 users evaluated\n",
      "12000 users evaluated\n",
      "12500 users evaluated\n",
      "13000 users evaluated\n",
      "13500 users evaluated\n",
      "14000 users evaluated\n",
      "14500 users evaluated\n",
      "15000 users evaluated\n",
      "15500 users evaluated\n",
      "16000 users evaluated\n",
      "16500 users evaluated\n",
      "17000 users evaluated\n",
      "17500 users evaluated\n",
      "18000 users evaluated\n",
      "18500 users evaluated\n",
      "19000 users evaluated\n",
      "19500 users evaluated\n",
      "20000 users evaluated\n",
      "20500 users evaluated\n",
      "21000 users evaluated\n",
      "21500 users evaluated\n",
      "22000 users evaluated\n",
      "22500 users evaluated\n",
      "23000 users evaluated\n",
      "23500 users evaluated\n",
      "24000 users evaluated\n",
      "24500 users evaluated\n",
      "25000 users evaluated\n",
      "25500 users evaluated\n",
      "26000 users evaluated\n",
      "26500 users evaluated\n",
      "27000 users evaluated\n",
      "27500 users evaluated\n",
      "28000 users evaluated\n",
      "28500 users evaluated\n",
      "29000 users evaluated\n",
      "29500 users evaluated\n",
      "30000 users evaluated\n",
      "30500 users evaluated\n",
      "31000 users evaluated\n",
      "31500 users evaluated\n",
      "32000 users evaluated\n",
      "32500 users evaluated\n",
      "33000 users evaluated\n",
      "33500 users evaluated\n",
      "34000 users evaluated\n",
      "34500 users evaluated\n",
      "35000 users evaluated\n",
      "35500 users evaluated\n",
      "36000 users evaluated\n",
      "36500 users evaluated\n",
      "37000 users evaluated\n",
      "37500 users evaluated\n",
      "38000 users evaluated\n",
      "38500 users evaluated\n",
      "39000 users evaluated\n",
      "39500 users evaluated\n",
      "40000 users evaluated\n",
      "40500 users evaluated\n",
      "41000 users evaluated\n",
      "41500 users evaluated\n",
      "42000 users evaluated\n",
      "42500 users evaluated\n",
      "43000 users evaluated\n",
      "43500 users evaluated\n",
      "44000 users evaluated\n",
      "44500 users evaluated\n",
      "45000 users evaluated\n",
      "45500 users evaluated\n",
      "46000 users evaluated\n",
      "46500 users evaluated\n",
      "47000 users evaluated\n",
      "47500 users evaluated\n",
      "48000 users evaluated\n",
      "48500 users evaluated\n",
      "49000 users evaluated\n",
      "49500 users evaluated\n",
      "50000 users evaluated\n",
      "50500 users evaluated\n",
      "51000 users evaluated\n",
      "51500 users evaluated\n",
      "52000 users evaluated\n",
      "52500 users evaluated\n",
      "53000 users evaluated\n"
     ]
    }
   ],
   "source": [
    "aps, mAP, binary_mAP, binary_aps, skipped = ev.top_10_5star_results(evaluation_data)"
   ]
  },
  {
   "cell_type": "code",
   "execution_count": 43,
   "metadata": {},
   "outputs": [
    {
     "name": "stdout",
     "output_type": "stream",
     "text": [
      "0.07100897147746114 0.6061237993002462\n"
     ]
    }
   ],
   "source": [
    "print(mAP, binary_mAP)"
   ]
  },
  {
   "cell_type": "code",
   "execution_count": null,
   "metadata": {
    "collapsed": true
   },
   "outputs": [],
   "source": [
    "evaluation_data.to_csv('data/backups/wd_eval5.csv', index=False)"
   ]
  },
  {
   "cell_type": "code",
   "execution_count": 6,
   "metadata": {},
   "outputs": [
    {
     "data": {
      "text/html": [
       "<div>\n",
       "<style>\n",
       "    .dataframe thead tr:only-child th {\n",
       "        text-align: right;\n",
       "    }\n",
       "\n",
       "    .dataframe thead th {\n",
       "        text-align: left;\n",
       "    }\n",
       "\n",
       "    .dataframe tbody tr th {\n",
       "        vertical-align: top;\n",
       "    }\n",
       "</style>\n",
       "<table border=\"1\" class=\"dataframe\">\n",
       "  <thead>\n",
       "    <tr style=\"text-align: right;\">\n",
       "      <th></th>\n",
       "      <th>user_id</th>\n",
       "      <th>book_id</th>\n",
       "      <th>rating</th>\n",
       "      <th>pred_proba</th>\n",
       "      <th>prediction</th>\n",
       "    </tr>\n",
       "  </thead>\n",
       "  <tbody>\n",
       "    <tr>\n",
       "      <th>0</th>\n",
       "      <td>18218</td>\n",
       "      <td>920</td>\n",
       "      <td>3</td>\n",
       "      <td>0.329043</td>\n",
       "      <td>4</td>\n",
       "    </tr>\n",
       "    <tr>\n",
       "      <th>1</th>\n",
       "      <td>34091</td>\n",
       "      <td>967</td>\n",
       "      <td>4</td>\n",
       "      <td>0.423591</td>\n",
       "      <td>5</td>\n",
       "    </tr>\n",
       "    <tr>\n",
       "      <th>2</th>\n",
       "      <td>41266</td>\n",
       "      <td>71</td>\n",
       "      <td>5</td>\n",
       "      <td>0.683353</td>\n",
       "      <td>5</td>\n",
       "    </tr>\n",
       "    <tr>\n",
       "      <th>3</th>\n",
       "      <td>47336</td>\n",
       "      <td>760</td>\n",
       "      <td>5</td>\n",
       "      <td>0.163343</td>\n",
       "      <td>4</td>\n",
       "    </tr>\n",
       "    <tr>\n",
       "      <th>4</th>\n",
       "      <td>20893</td>\n",
       "      <td>453</td>\n",
       "      <td>3</td>\n",
       "      <td>0.215606</td>\n",
       "      <td>4</td>\n",
       "    </tr>\n",
       "  </tbody>\n",
       "</table>\n",
       "</div>"
      ],
      "text/plain": [
       "   user_id  book_id  rating  pred_proba  prediction\n",
       "0    18218      920       3    0.329043           4\n",
       "1    34091      967       4    0.423591           5\n",
       "2    41266       71       5    0.683353           5\n",
       "3    47336      760       5    0.163343           4\n",
       "4    20893      453       3    0.215606           4"
      ]
     },
     "execution_count": 6,
     "metadata": {},
     "output_type": "execute_result"
    }
   ],
   "source": [
    "evaluation_data = pd.read_csv('data/backups/wd_eval5.csv')\n",
    "evaluation_data.head()"
   ]
  },
  {
   "cell_type": "code",
   "execution_count": null,
   "metadata": {
    "collapsed": true
   },
   "outputs": [],
   "source": []
  }
 ],
 "metadata": {
  "kernelspec": {
   "display_name": "Python 3",
   "language": "python",
   "name": "python3"
  },
  "language_info": {
   "codemirror_mode": {
    "name": "ipython",
    "version": 3
   },
   "file_extension": ".py",
   "mimetype": "text/x-python",
   "name": "python",
   "nbconvert_exporter": "python",
   "pygments_lexer": "ipython3",
   "version": "3.6.2"
  }
 },
 "nbformat": 4,
 "nbformat_minor": 2
}
